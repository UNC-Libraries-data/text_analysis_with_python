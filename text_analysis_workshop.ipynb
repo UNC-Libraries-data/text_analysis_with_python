{
 "cells": [
  {
   "cell_type": "markdown",
   "metadata": {},
   "source": [
    "# Text Analysis With Python "
   ]
  },
  {
   "cell_type": "markdown",
   "metadata": {},
   "source": [
    "This workshop covers a number of text analysis techniques using Python. You are welcome to follow along in the IDE of your choice, but the instructors will be using Jupyter Lab.\n",
    "\n",
    "## Be sure you have the following packages installed\n",
    "- **pandas**\n",
    "- **sklearn**\n",
    "- **seaborn**\n",
    "- **textblob**\n",
    "\n",
    "Additionally, we will be using **os and re**"
   ]
  },
  {
   "cell_type": "markdown",
   "metadata": {},
   "source": [
    "if you do not have them installed, you can run `pip install pandas scikit-learn seaborn textblob` in your terminal or uncomment and run the cell below"
   ]
  },
  {
   "cell_type": "code",
   "execution_count": 1,
   "metadata": {},
   "outputs": [],
   "source": [
    "#!pip install pandas scikit-learn seaborn textblob"
   ]
  },
  {
   "cell_type": "markdown",
   "metadata": {},
   "source": [
    "## Python Packages often used for Text Analysis\n",
    "- Directly related to Text Analysis\n",
    "    - [NLTK](https://www.nltk.org/index.html)\n",
    "    - [spaCy](https://spacy.io/)\n",
    "    - [Textblob](https://textblob.readthedocs.io/en/dev/)\n",
    "    - [Gensim](https://radimrehurek.com/gensim/)\n",
    "    - [Transformers](https://huggingface.co/docs/transformers/en/index)\n",
    "\n",
    "- Useful tools for text analysis\n",
    "    - [Pandas](https://pandas.pydata.org/docs/index.html)\n",
    "    - [Scikit-Learn](https://scikit-learn.org/stable/index.html)\n",
    "    - [Matplotlib](https://matplotlib.org/stable/)\n"
   ]
  },
  {
   "cell_type": "markdown",
   "metadata": {},
   "source": [
    "## Mini-project 1: Word Frequencies\n",
    "\n",
    "#### Data: [Jane Eyre - Charlotte Brontë](https://www.gutenberg.org/files/1260/1260-h/1260-h.htm)\n"
   ]
  },
  {
   "cell_type": "markdown",
   "metadata": {},
   "source": [
    "Extracting word frequencies is a common text analysis approach that allows us to see the most or least common words or the frequencies of chosen words from a corpus of text. In order to extract word frequencies, we use a **bag-of-words** model of representing the text, which involves 1) a vocabulary of unique words in a corpus and 2) measuring the presence of these words within the documents in the corpus. In order to do this we break down text into **tokens**, which is a unit of of characters that we will use for processing the data. Tokens can be sentences, individual words (**unigrams**), pairs of words (**bigrams**), or sequences of any length (**n-grams**)."
   ]
  },
  {
   "cell_type": "markdown",
   "metadata": {},
   "source": [
    "##### 1. Load in text"
   ]
  },
  {
   "cell_type": "markdown",
   "metadata": {},
   "source": [
    "We're going to use `urlretrieve` to save a local copy of the Jane Eyre text file."
   ]
  },
  {
   "cell_type": "code",
   "execution_count": 2,
   "metadata": {},
   "outputs": [],
   "source": [
    "from urllib.request import urlretrieve\n",
    "\n",
    "urlretrieve('https://www.gutenberg.org/cache/epub/1260/pg1260.txt', 'jane_eyre.txt')\n",
    "\n",
    "doc = open('jane_eyre.txt', 'r').readlines()\n"
   ]
  },
  {
   "cell_type": "markdown",
   "metadata": {},
   "source": [
    "We can see that the text file is read line by line, so we're going to have to split the list into sections."
   ]
  },
  {
   "cell_type": "code",
   "execution_count": 3,
   "metadata": {},
   "outputs": [
    {
     "data": {
      "text/plain": [
       "['\\ufeffThe Project Gutenberg eBook of Jane Eyre: An Autobiography\\n',\n",
       " '    \\n',\n",
       " 'This ebook is for the use of anyone anywhere in the United States and\\n',\n",
       " 'most other parts of the world at no cost and with almost no restrictions\\n',\n",
       " 'whatsoever. You may copy it, give it away or re-use it under the terms\\n',\n",
       " 'of the Project Gutenberg License included with this ebook or online\\n',\n",
       " 'at www.gutenberg.org. If you are not located in the United States,\\n',\n",
       " 'you will have to check the laws of the country where you are located\\n',\n",
       " 'before using this eBook.\\n',\n",
       " '\\n',\n",
       " 'Title: Jane Eyre: An Autobiography\\n',\n",
       " '\\n',\n",
       " 'Author: Charlotte Brontë\\n',\n",
       " '\\n',\n",
       " 'Illustrator: F. H. Townsend\\n',\n",
       " '\\n',\n",
       " 'Release date: March 1, 1998 [eBook #1260]\\n',\n",
       " '                Most recently updated: May 2, 2023\\n',\n",
       " '\\n',\n",
       " 'Language: English\\n']"
      ]
     },
     "execution_count": 3,
     "metadata": {},
     "output_type": "execute_result"
    }
   ],
   "source": [
    "doc[:20]"
   ]
  },
  {
   "cell_type": "markdown",
   "metadata": {},
   "source": [
    "We're going to focus on the text from the preface and chapters from the book. First, we're obtaining the indexes of of where these section titles appear in the list of lines from the text."
   ]
  },
  {
   "cell_type": "code",
   "execution_count": 4,
   "metadata": {},
   "outputs": [
    {
     "name": "stdout",
     "output_type": "stream",
     "text": [
      "[(172, 'CHAPTER I'), (401, 'CHAPTER II'), (690, 'CHAPTER III'), (1088, 'CHAPTER IV'), (1737, 'CHAPTER V'), (2313, 'CHAPTER VI'), (2648, 'CHAPTER VII'), (3023, 'CHAPTER VIII'), (3354, 'CHAPTER IX'), (3707, 'CHAPTER X'), (4182, 'CHAPTER XI'), (4877, 'CHAPTER XII'), (5322, 'CHAPTER XIII'), (5854, 'CHAPTER XIV'), (6409, 'CHAPTER XV'), (6926, 'CHAPTER XVI'), (7348, 'CHAPTER XVII'), (8228, 'CHAPTER XVIII'), (8867, 'CHAPTER XIX'), (9387, 'CHAPTER XX'), (10110, 'CHAPTER XXI'), (11090, 'CHAPTER XXII'), (11373, 'CHAPTER XXIII'), (11858, 'CHAPTER XXIV'), (12712, 'CHAPTER XXV'), (13267, 'CHAPTER XXVI'), (13748, 'CHAPTER XXVII'), (14855, 'CHAPTER XXVIII'), (15614, 'CHAPTER XXIX'), (16161, 'CHAPTER XXX'), (16577, 'CHAPTER XXXI'), (16906, 'CHAPTER XXXII'), (17386, 'CHAPTER XXXIII'), (17990, 'CHAPTER XXXIV'), (18961, 'CHAPTER XXXV'), (19442, 'CHAPTER XXXVI'), (19872, 'CHAPTER XXXVII'), (20851, 'CHAPTER XXXVIII—CONCLUSION')]\n"
     ]
    }
   ],
   "source": [
    "chapter_idx = []\n",
    "\n",
    "for idx, line in enumerate(doc):\n",
    "    if 'CHAPTER' in line:\n",
    "        chapter_idx.append((idx, line.strip()))\n",
    "        \n",
    "print(chapter_idx)"
   ]
  },
  {
   "cell_type": "markdown",
   "metadata": {},
   "source": [
    "Now, we're going to push a list of lines that pertain to the certain section into a new list."
   ]
  },
  {
   "cell_type": "code",
   "execution_count": 5,
   "metadata": {},
   "outputs": [],
   "source": [
    "chapter_texts = []\n",
    "\n",
    "for idx, ch in enumerate(chapter_idx):\n",
    "    # Skipping the first line of the section to cut out the chapter title\n",
    "    start_line = ch[0]+1\n",
    "    \n",
    "    # Setting the end line of the chapter based on when the following chapter starts\n",
    "    try:\n",
    "        end_line = chapter_idx[idx+1][0]\n",
    "    except:\n",
    "        end_line = len(doc)\n",
    "        \n",
    "    # Adds text to the list of chapter texts\n",
    "    chapter_texts.append(doc[start_line:end_line])    "
   ]
  },
  {
   "cell_type": "code",
   "execution_count": 6,
   "metadata": {},
   "outputs": [
    {
     "data": {
      "text/plain": [
       "['\\n',\n",
       " '\\n',\n",
       " 'There was no possibility of taking a walk that day. We had been\\n',\n",
       " 'wandering, indeed, in the leafless shrubbery an hour in the morning;\\n',\n",
       " 'but since dinner (Mrs. Reed, when there was no company, dined early)\\n',\n",
       " 'the cold winter wind had brought with it clouds so sombre, and a rain\\n',\n",
       " 'so penetrating, that further outdoor exercise was now out of the\\n',\n",
       " 'question.\\n',\n",
       " '\\n',\n",
       " 'I was glad of it: I never liked long walks, especially on chilly\\n']"
      ]
     },
     "execution_count": 6,
     "metadata": {},
     "output_type": "execute_result"
    }
   ],
   "source": [
    "# the first ten lines from the preface\n",
    "chapter_texts[0][:10]"
   ]
  },
  {
   "cell_type": "markdown",
   "metadata": {},
   "source": [
    "##### 2. Processing the text"
   ]
  },
  {
   "cell_type": "markdown",
   "metadata": {},
   "source": [
    "Most text analysis projects require a number of steps to **preprocess** the text. Usually, this involves removing undesired characters such as punctuation and line breaks. Below, we use [**regular expressions**](https://docs.python.org/3/library/re.html) to achieve this task. "
   ]
  },
  {
   "cell_type": "markdown",
   "metadata": {},
   "source": [
    "We have the text we want, but now we have to process the text we're working with. This involves removing line breaks (`\\n`) and punctuation. In other cases, this might involve stemming or lemmatizing words. "
   ]
  },
  {
   "cell_type": "code",
   "execution_count": 7,
   "metadata": {},
   "outputs": [
    {
     "name": "stdout",
     "output_type": "stream",
     "text": [
      "There was no possibility of taking a walk that day. We had been\n",
      "wandering, indeed, in the leafless shrubbery an hour in the morning;\n",
      "but since dinner (Mrs. Reed, when there was no company, dined early)\n",
      "the cold winter wind had brought with it clouds \n"
     ]
    }
   ],
   "source": [
    "import re\n",
    "\n",
    "# join the lines together first with nested list comprehensions while removing items that are only line breaks\n",
    "joined_chs = [''.join([line for line in ch if line != '\\n']) for ch in chapter_texts]\n",
    "\n",
    "print(joined_chs[0][:250])"
   ]
  },
  {
   "cell_type": "code",
   "execution_count": 8,
   "metadata": {},
   "outputs": [
    {
     "name": "stdout",
     "output_type": "stream",
     "text": [
      "There was no possibility of taking a walk that day. We had been wandering, indeed, in the leafless shrubbery an hour in the morning; but since dinner (Mrs. Reed, when there was no company, dined early) the cold winter wind had brought with it clouds \n"
     ]
    }
   ],
   "source": [
    "# replace remaining break lines with spaces\n",
    "no_bl_chs = [re.sub(r'\\n', ' ', ch) for ch in joined_chs]\n",
    "\n",
    "print(no_bl_chs[0][:250])"
   ]
  },
  {
   "cell_type": "markdown",
   "metadata": {},
   "source": [
    "Since we're going going to be using sentences are our documenet length instead of chapters, we need to remove the periods after \"Mr\" and \"Mrs\" to prevent sentences being split at the wrong place (i.e. `\"Mr. Rochester goes...\"` => `[\"Mr\", \"Rochester goes...\"]`)"
   ]
  },
  {
   "cell_type": "code",
   "execution_count": 9,
   "metadata": {},
   "outputs": [
    {
     "name": "stdout",
     "output_type": "stream",
     "text": [
      "There was no possibility of taking a walk that day. We had been wandering indeed in the leafless shrubbery an hour in the morning but since dinner Mrs Reed when there was no company dined early the cold winter wind had brought with it clouds so sombr\n"
     ]
    }
   ],
   "source": [
    "# remove punctuation except periods\n",
    "no_punct_chs = [re.sub(r'[:;,_“”\\'\\(\\)]', '', ch) for ch in no_bl_chs]\n",
    "\n",
    "# remove periods after Mr and Mrs\n",
    "no_punct_chs=[re.sub(r'(?<=Mr)\\.', '', ch) for ch in no_punct_chs]\n",
    "no_punct_chs=[re.sub(r'(?<=Mrs)\\.', '', ch) for ch in no_punct_chs]\n",
    "\n",
    "print(no_punct_chs[0][:250])"
   ]
  },
  {
   "cell_type": "markdown",
   "metadata": {},
   "source": [
    "Now, we will tokenize the chapters into sentence-level tokens and reduce our list into a one-dimensional list."
   ]
  },
  {
   "cell_type": "code",
   "execution_count": 10,
   "metadata": {},
   "outputs": [],
   "source": [
    "# divide chapters into sentences\n",
    "from nltk.tokenize import PunktSentenceTokenizer\n",
    "from functools import reduce\n",
    "# nltk.download('punkt)\n",
    "\n",
    "punkt = PunktSentenceTokenizer()\n",
    "\n",
    "# this operation produces a list of lists of sentences (i.e. [[\"sentence 1\", \"sentence 2\"], [\"sentence 3\", \"sentence 4\"]])\n",
    "sents = [punkt.tokenize(ch) for ch in no_punct_chs]\n",
    "\n",
    "# reduce the two-dimensional list into a one-dimensional list\n",
    "sent_tokens = reduce(lambda x,y :x+y ,sents)"
   ]
  },
  {
   "cell_type": "markdown",
   "metadata": {},
   "source": [
    "#### 3. Vectorize Text\n",
    "Using Scikit-learn's [Count Vectorizer](https://scikit-learn.org/stable/modules/generated/sklearn.feature_extraction.text.CountVectorizer.html) and [TFIDF Vectorizer](https://scikit-learn.org/stable/modules/generated/sklearn.feature_extraction.text.TfidfVectorizer.html)"
   ]
  },
  {
   "cell_type": "markdown",
   "metadata": {},
   "source": [
    "Scikit-learn has a built-in tool `CountVectorizer` which allows us to pass in a corpus of text and it will return vectors informing us how many times a word showed up in a document (sentence) for ebery word that appears in the corpus. This allows us to represent the text through a bag-of-words model as mentioned earlier.\n",
    "\n",
    "We didn't remove stop words earlier in the preprocessing step because `CountVectorizer` allows us to indicate stop words when initializing it. By default, it sets all words to lowercase, but we have set the parameter here to make it explicit. Additionally, we can set what ngrams we're interested in (unigrams, bigrams, trigrams, etc)."
   ]
  },
  {
   "cell_type": "code",
   "execution_count": 11,
   "metadata": {},
   "outputs": [],
   "source": [
    "import pandas as pd\n",
    "from nltk.corpus import stopwords\n",
    "from sklearn.feature_extraction.text import CountVectorizer, TfidfVectorizer\n",
    "\n",
    "stopwords = list(stopwords.words('english'))\n",
    "\n",
    "# demonstrating some of the parameters within Count Vectorizer\n",
    "vc = CountVectorizer(lowercase=True, \n",
    "                     stop_words=stopwords,\n",
    "                     ngram_range=(2,2),\n",
    "                    \n",
    "                     min_df=0.001)\n",
    "\n",
    "vectors = vc.fit_transform(sent_tokens)\n"
   ]
  },
  {
   "cell_type": "markdown",
   "metadata": {},
   "source": [
    "Below, we can see the output of the CountVectorizer and the frequency of different words used in the text."
   ]
  },
  {
   "cell_type": "code",
   "execution_count": 12,
   "metadata": {},
   "outputs": [
    {
     "name": "stdout",
     "output_type": "stream",
     "text": [
      "{'mrs reed': 54, 'drawing room': 10, 'right hand': 64, 'cannot tell': 2, 'john reed': 27, 'would soon': 85, 'never thought': 57, 'red room': 63, 'would say': 84, 'miss eyre': 35, 'said bessie': 65, 'ere long': 15, 'great deal': 21, 'let go': 29, 'would come': 79, 'jane eyre': 26, 'miss jane': 37, 'five minutes': 17, 'mr lloyd': 45, 'next day': 58, 'would like': 81, 'shall go': 70, 'came back': 1, 'half hour': 24, 'one day': 60, 'long time': 33, 'long way': 34, 'yes sir': 87, 'would rather': 83, 'shook head': 71, 'could see': 6, 'young ladies': 88, 'said mr': 66, 'first time': 16, 'said mrs': 67, 'good night': 19, 'ten minutes': 72, 'little girl': 32, 'mr brocklehurst': 43, 'miss temple': 41, 'come see': 4, 'well enough': 78, 'last night': 28, 'miss miller': 38, 'one side': 61, 'miss scatcherd': 40, 'could bear': 5, 'helen burns': 25, 'would never': 82, 'said nothing': 68, 'would take': 86, 'could tell': 7, 'let us': 30, 'would give': 80, 'two hours': 76, 'eight years': 12, 'mrs fairfax': 52, 'mr rochester': 49, 'dining room': 9, 'third storey': 73, 'thornfield hall': 74, 'one could': 59, 'grace poole': 20, 'drew near': 11, 'mr edward': 44, 'never mind': 56, 'must go': 55, 'see mr': 69, 'mrs poole': 53, 'colonel dent': 3, 'miss ingram': 36, 'mrs dent': 51, 'mr mason': 46, 'thousand pounds': 75, 'mr oliver': 47, 'mr st': 50, 'diana mary': 8, 'moor house': 42, 'mr rivers': 48, 'miss oliver': 39, 'go india': 18, 'project gutenberg': 62, 'united states': 77, 'gutenberg electronic': 22, 'electronic works': 14, 'electronic work': 13, 'gutenberg literary': 23, 'literary archive': 31, 'archive foundation': 0}\n"
     ]
    }
   ],
   "source": [
    "print(vc.vocabulary_)"
   ]
  },
  {
   "cell_type": "markdown",
   "metadata": {},
   "source": [
    "We can create a dataframe of vectors. The columns refer to the bigrams extracted from the corpus. Each row's index refers to a document (sentence) in the corpus. The values in each cell is how many times that bigram appeared in the sentence. "
   ]
  },
  {
   "cell_type": "code",
   "execution_count": 13,
   "metadata": {},
   "outputs": [
    {
     "data": {
      "text/html": [
       "<div>\n",
       "<style scoped>\n",
       "    .dataframe tbody tr th:only-of-type {\n",
       "        vertical-align: middle;\n",
       "    }\n",
       "\n",
       "    .dataframe tbody tr th {\n",
       "        vertical-align: top;\n",
       "    }\n",
       "\n",
       "    .dataframe thead th {\n",
       "        text-align: right;\n",
       "    }\n",
       "</style>\n",
       "<table border=\"1\" class=\"dataframe\">\n",
       "  <thead>\n",
       "    <tr style=\"text-align: right;\">\n",
       "      <th></th>\n",
       "      <th>archive foundation</th>\n",
       "      <th>came back</th>\n",
       "      <th>cannot tell</th>\n",
       "      <th>colonel dent</th>\n",
       "      <th>come see</th>\n",
       "      <th>could bear</th>\n",
       "      <th>could see</th>\n",
       "      <th>could tell</th>\n",
       "      <th>diana mary</th>\n",
       "      <th>dining room</th>\n",
       "      <th>...</th>\n",
       "      <th>would come</th>\n",
       "      <th>would give</th>\n",
       "      <th>would like</th>\n",
       "      <th>would never</th>\n",
       "      <th>would rather</th>\n",
       "      <th>would say</th>\n",
       "      <th>would soon</th>\n",
       "      <th>would take</th>\n",
       "      <th>yes sir</th>\n",
       "      <th>young ladies</th>\n",
       "    </tr>\n",
       "  </thead>\n",
       "  <tbody>\n",
       "    <tr>\n",
       "      <th>5195</th>\n",
       "      <td>0</td>\n",
       "      <td>0</td>\n",
       "      <td>0</td>\n",
       "      <td>0</td>\n",
       "      <td>0</td>\n",
       "      <td>0</td>\n",
       "      <td>0</td>\n",
       "      <td>0</td>\n",
       "      <td>0</td>\n",
       "      <td>0</td>\n",
       "      <td>...</td>\n",
       "      <td>0</td>\n",
       "      <td>0</td>\n",
       "      <td>0</td>\n",
       "      <td>0</td>\n",
       "      <td>0</td>\n",
       "      <td>0</td>\n",
       "      <td>0</td>\n",
       "      <td>0</td>\n",
       "      <td>0</td>\n",
       "      <td>0</td>\n",
       "    </tr>\n",
       "    <tr>\n",
       "      <th>179</th>\n",
       "      <td>0</td>\n",
       "      <td>0</td>\n",
       "      <td>0</td>\n",
       "      <td>0</td>\n",
       "      <td>0</td>\n",
       "      <td>0</td>\n",
       "      <td>0</td>\n",
       "      <td>0</td>\n",
       "      <td>0</td>\n",
       "      <td>0</td>\n",
       "      <td>...</td>\n",
       "      <td>0</td>\n",
       "      <td>0</td>\n",
       "      <td>0</td>\n",
       "      <td>0</td>\n",
       "      <td>0</td>\n",
       "      <td>0</td>\n",
       "      <td>0</td>\n",
       "      <td>0</td>\n",
       "      <td>0</td>\n",
       "      <td>0</td>\n",
       "    </tr>\n",
       "    <tr>\n",
       "      <th>8543</th>\n",
       "      <td>0</td>\n",
       "      <td>0</td>\n",
       "      <td>0</td>\n",
       "      <td>0</td>\n",
       "      <td>0</td>\n",
       "      <td>0</td>\n",
       "      <td>0</td>\n",
       "      <td>0</td>\n",
       "      <td>0</td>\n",
       "      <td>0</td>\n",
       "      <td>...</td>\n",
       "      <td>0</td>\n",
       "      <td>0</td>\n",
       "      <td>0</td>\n",
       "      <td>0</td>\n",
       "      <td>0</td>\n",
       "      <td>0</td>\n",
       "      <td>0</td>\n",
       "      <td>0</td>\n",
       "      <td>0</td>\n",
       "      <td>0</td>\n",
       "    </tr>\n",
       "    <tr>\n",
       "      <th>3051</th>\n",
       "      <td>0</td>\n",
       "      <td>0</td>\n",
       "      <td>0</td>\n",
       "      <td>0</td>\n",
       "      <td>0</td>\n",
       "      <td>0</td>\n",
       "      <td>0</td>\n",
       "      <td>0</td>\n",
       "      <td>0</td>\n",
       "      <td>0</td>\n",
       "      <td>...</td>\n",
       "      <td>0</td>\n",
       "      <td>0</td>\n",
       "      <td>0</td>\n",
       "      <td>0</td>\n",
       "      <td>0</td>\n",
       "      <td>0</td>\n",
       "      <td>0</td>\n",
       "      <td>0</td>\n",
       "      <td>0</td>\n",
       "      <td>0</td>\n",
       "    </tr>\n",
       "    <tr>\n",
       "      <th>2081</th>\n",
       "      <td>0</td>\n",
       "      <td>0</td>\n",
       "      <td>0</td>\n",
       "      <td>0</td>\n",
       "      <td>0</td>\n",
       "      <td>0</td>\n",
       "      <td>0</td>\n",
       "      <td>0</td>\n",
       "      <td>0</td>\n",
       "      <td>0</td>\n",
       "      <td>...</td>\n",
       "      <td>0</td>\n",
       "      <td>0</td>\n",
       "      <td>0</td>\n",
       "      <td>0</td>\n",
       "      <td>0</td>\n",
       "      <td>0</td>\n",
       "      <td>0</td>\n",
       "      <td>0</td>\n",
       "      <td>0</td>\n",
       "      <td>0</td>\n",
       "    </tr>\n",
       "    <tr>\n",
       "      <th>8885</th>\n",
       "      <td>0</td>\n",
       "      <td>0</td>\n",
       "      <td>0</td>\n",
       "      <td>0</td>\n",
       "      <td>0</td>\n",
       "      <td>0</td>\n",
       "      <td>0</td>\n",
       "      <td>0</td>\n",
       "      <td>0</td>\n",
       "      <td>0</td>\n",
       "      <td>...</td>\n",
       "      <td>0</td>\n",
       "      <td>0</td>\n",
       "      <td>0</td>\n",
       "      <td>0</td>\n",
       "      <td>0</td>\n",
       "      <td>0</td>\n",
       "      <td>0</td>\n",
       "      <td>0</td>\n",
       "      <td>0</td>\n",
       "      <td>0</td>\n",
       "    </tr>\n",
       "    <tr>\n",
       "      <th>5474</th>\n",
       "      <td>0</td>\n",
       "      <td>0</td>\n",
       "      <td>0</td>\n",
       "      <td>0</td>\n",
       "      <td>0</td>\n",
       "      <td>0</td>\n",
       "      <td>0</td>\n",
       "      <td>0</td>\n",
       "      <td>0</td>\n",
       "      <td>0</td>\n",
       "      <td>...</td>\n",
       "      <td>0</td>\n",
       "      <td>0</td>\n",
       "      <td>0</td>\n",
       "      <td>0</td>\n",
       "      <td>0</td>\n",
       "      <td>0</td>\n",
       "      <td>0</td>\n",
       "      <td>0</td>\n",
       "      <td>0</td>\n",
       "      <td>0</td>\n",
       "    </tr>\n",
       "    <tr>\n",
       "      <th>4419</th>\n",
       "      <td>0</td>\n",
       "      <td>0</td>\n",
       "      <td>0</td>\n",
       "      <td>0</td>\n",
       "      <td>0</td>\n",
       "      <td>0</td>\n",
       "      <td>0</td>\n",
       "      <td>0</td>\n",
       "      <td>0</td>\n",
       "      <td>0</td>\n",
       "      <td>...</td>\n",
       "      <td>0</td>\n",
       "      <td>0</td>\n",
       "      <td>0</td>\n",
       "      <td>0</td>\n",
       "      <td>0</td>\n",
       "      <td>0</td>\n",
       "      <td>0</td>\n",
       "      <td>0</td>\n",
       "      <td>0</td>\n",
       "      <td>0</td>\n",
       "    </tr>\n",
       "    <tr>\n",
       "      <th>4741</th>\n",
       "      <td>0</td>\n",
       "      <td>0</td>\n",
       "      <td>0</td>\n",
       "      <td>0</td>\n",
       "      <td>0</td>\n",
       "      <td>0</td>\n",
       "      <td>0</td>\n",
       "      <td>0</td>\n",
       "      <td>0</td>\n",
       "      <td>0</td>\n",
       "      <td>...</td>\n",
       "      <td>0</td>\n",
       "      <td>0</td>\n",
       "      <td>0</td>\n",
       "      <td>0</td>\n",
       "      <td>0</td>\n",
       "      <td>0</td>\n",
       "      <td>0</td>\n",
       "      <td>0</td>\n",
       "      <td>0</td>\n",
       "      <td>0</td>\n",
       "    </tr>\n",
       "    <tr>\n",
       "      <th>5982</th>\n",
       "      <td>0</td>\n",
       "      <td>0</td>\n",
       "      <td>0</td>\n",
       "      <td>0</td>\n",
       "      <td>0</td>\n",
       "      <td>0</td>\n",
       "      <td>0</td>\n",
       "      <td>0</td>\n",
       "      <td>0</td>\n",
       "      <td>0</td>\n",
       "      <td>...</td>\n",
       "      <td>0</td>\n",
       "      <td>0</td>\n",
       "      <td>0</td>\n",
       "      <td>0</td>\n",
       "      <td>0</td>\n",
       "      <td>0</td>\n",
       "      <td>0</td>\n",
       "      <td>0</td>\n",
       "      <td>0</td>\n",
       "      <td>0</td>\n",
       "    </tr>\n",
       "  </tbody>\n",
       "</table>\n",
       "<p>10 rows × 89 columns</p>\n",
       "</div>"
      ],
      "text/plain": [
       "      archive foundation  came back  cannot tell  colonel dent  come see  \\\n",
       "5195                   0          0            0             0         0   \n",
       "179                    0          0            0             0         0   \n",
       "8543                   0          0            0             0         0   \n",
       "3051                   0          0            0             0         0   \n",
       "2081                   0          0            0             0         0   \n",
       "8885                   0          0            0             0         0   \n",
       "5474                   0          0            0             0         0   \n",
       "4419                   0          0            0             0         0   \n",
       "4741                   0          0            0             0         0   \n",
       "5982                   0          0            0             0         0   \n",
       "\n",
       "      could bear  could see  could tell  diana mary  dining room  ...  \\\n",
       "5195           0          0           0           0            0  ...   \n",
       "179            0          0           0           0            0  ...   \n",
       "8543           0          0           0           0            0  ...   \n",
       "3051           0          0           0           0            0  ...   \n",
       "2081           0          0           0           0            0  ...   \n",
       "8885           0          0           0           0            0  ...   \n",
       "5474           0          0           0           0            0  ...   \n",
       "4419           0          0           0           0            0  ...   \n",
       "4741           0          0           0           0            0  ...   \n",
       "5982           0          0           0           0            0  ...   \n",
       "\n",
       "      would come  would give  would like  would never  would rather  \\\n",
       "5195           0           0           0            0             0   \n",
       "179            0           0           0            0             0   \n",
       "8543           0           0           0            0             0   \n",
       "3051           0           0           0            0             0   \n",
       "2081           0           0           0            0             0   \n",
       "8885           0           0           0            0             0   \n",
       "5474           0           0           0            0             0   \n",
       "4419           0           0           0            0             0   \n",
       "4741           0           0           0            0             0   \n",
       "5982           0           0           0            0             0   \n",
       "\n",
       "      would say  would soon  would take  yes sir  young ladies  \n",
       "5195          0           0           0        0             0  \n",
       "179           0           0           0        0             0  \n",
       "8543          0           0           0        0             0  \n",
       "3051          0           0           0        0             0  \n",
       "2081          0           0           0        0             0  \n",
       "8885          0           0           0        0             0  \n",
       "5474          0           0           0        0             0  \n",
       "4419          0           0           0        0             0  \n",
       "4741          0           0           0        0             0  \n",
       "5982          0           0           0        0             0  \n",
       "\n",
       "[10 rows x 89 columns]"
      ]
     },
     "execution_count": 13,
     "metadata": {},
     "output_type": "execute_result"
    }
   ],
   "source": [
    "cols = vc.get_feature_names_out()\n",
    "word_vect_df = pd.DataFrame(data=vectors.toarray(), columns=cols)\n",
    "word_vect_df.sample(10)"
   ]
  },
  {
   "cell_type": "markdown",
   "metadata": {},
   "source": [
    "We can see the top 20 bigrams with the higestest frequencies"
   ]
  },
  {
   "cell_type": "code",
   "execution_count": 14,
   "metadata": {},
   "outputs": [
    {
     "data": {
      "text/plain": [
       "mr rochester         332\n",
       "mrs fairfax          121\n",
       "project gutenberg     85\n",
       "mrs reed              81\n",
       "miss temple           63\n",
       "miss ingram           58\n",
       "mr brocklehurst       45\n",
       "miss eyre             45\n",
       "jane eyre             38\n",
       "yes sir               35\n",
       "thornfield hall       33\n",
       "mr rivers             33\n",
       "diana mary            31\n",
       "drawing room          26\n",
       "could see             25\n",
       "said mr               24\n",
       "last night            23\n",
       "miss miller           23\n",
       "mr mason              23\n",
       "mr st                 23\n",
       "dtype: int64"
      ]
     },
     "execution_count": 14,
     "metadata": {},
     "output_type": "execute_result"
    }
   ],
   "source": [
    "word_vect_df.sum(axis=0).sort_values(ascending=False).head(20)"
   ]
  },
  {
   "cell_type": "code",
   "execution_count": 15,
   "metadata": {},
   "outputs": [
    {
     "data": {
      "image/png": "[encoded data removed]",
      "text/plain": [
       "<Figure size 640x480 with 1 Axes>"
      ]
     },
     "metadata": {},
     "output_type": "display_data"
    }
   ],
   "source": [
    "import matplotlib.pyplot as plt\n",
    "\n",
    "word_counts = word_vect_df.sum(axis=0).sort_values(ascending=False)\n",
    "plt.barh(y=word_counts.index[:10], width=word_counts[:10])\n",
    "plt.show()"
   ]
  },
  {
   "cell_type": "markdown",
   "metadata": {},
   "source": [
    "Many of the words with the highest frequencies are part of characters' names, which we expect to show up a lot more. However, the most common words may not always be provide a good representation of what a document/corpus is about, but we can check how 'informative' these terms are by finding their TF-IDF scores. **TF-IDF** (Term Frequency - Inverse Document Frequency) is a stastical method used to measure how important a term is within a document relative to the corpus as a whole."
   ]
  },
  {
   "cell_type": "code",
   "execution_count": 16,
   "metadata": {},
   "outputs": [
    {
     "data": {
      "text/html": [
       "<div>\n",
       "<style scoped>\n",
       "    .dataframe tbody tr th:only-of-type {\n",
       "        vertical-align: middle;\n",
       "    }\n",
       "\n",
       "    .dataframe tbody tr th {\n",
       "        vertical-align: top;\n",
       "    }\n",
       "\n",
       "    .dataframe thead th {\n",
       "        text-align: right;\n",
       "    }\n",
       "</style>\n",
       "<table border=\"1\" class=\"dataframe\">\n",
       "  <thead>\n",
       "    <tr style=\"text-align: right;\">\n",
       "      <th></th>\n",
       "      <th>actually took</th>\n",
       "      <th>adèle came</th>\n",
       "      <th>almost like</th>\n",
       "      <th>already made</th>\n",
       "      <th>another time</th>\n",
       "      <th>answer question</th>\n",
       "      <th>answered yes</th>\n",
       "      <th>anything else</th>\n",
       "      <th>arm chair</th>\n",
       "      <th>arms round</th>\n",
       "      <th>...</th>\n",
       "      <th>years since</th>\n",
       "      <th>yes right</th>\n",
       "      <th>yes said</th>\n",
       "      <th>yes sir</th>\n",
       "      <th>yes yes</th>\n",
       "      <th>yet could</th>\n",
       "      <th>yet know</th>\n",
       "      <th>yet said</th>\n",
       "      <th>young ladies</th>\n",
       "      <th>young lady</th>\n",
       "    </tr>\n",
       "  </thead>\n",
       "  <tbody>\n",
       "    <tr>\n",
       "      <th>22</th>\n",
       "      <td>0.000000</td>\n",
       "      <td>0.081916</td>\n",
       "      <td>0.000000</td>\n",
       "      <td>0.081916</td>\n",
       "      <td>0.081916</td>\n",
       "      <td>0.000000</td>\n",
       "      <td>0.081916</td>\n",
       "      <td>0.000000</td>\n",
       "      <td>0.00000</td>\n",
       "      <td>0.000000</td>\n",
       "      <td>...</td>\n",
       "      <td>0.000000</td>\n",
       "      <td>0.000000</td>\n",
       "      <td>0.0</td>\n",
       "      <td>0.262247</td>\n",
       "      <td>0.0</td>\n",
       "      <td>0.000000</td>\n",
       "      <td>0.000000</td>\n",
       "      <td>0.000000</td>\n",
       "      <td>0.000000</td>\n",
       "      <td>0.000000</td>\n",
       "    </tr>\n",
       "    <tr>\n",
       "      <th>6</th>\n",
       "      <td>0.000000</td>\n",
       "      <td>0.000000</td>\n",
       "      <td>0.000000</td>\n",
       "      <td>0.000000</td>\n",
       "      <td>0.000000</td>\n",
       "      <td>0.000000</td>\n",
       "      <td>0.000000</td>\n",
       "      <td>0.000000</td>\n",
       "      <td>0.00000</td>\n",
       "      <td>0.000000</td>\n",
       "      <td>...</td>\n",
       "      <td>0.000000</td>\n",
       "      <td>0.049280</td>\n",
       "      <td>0.0</td>\n",
       "      <td>0.000000</td>\n",
       "      <td>0.0</td>\n",
       "      <td>0.000000</td>\n",
       "      <td>0.000000</td>\n",
       "      <td>0.000000</td>\n",
       "      <td>0.000000</td>\n",
       "      <td>0.000000</td>\n",
       "    </tr>\n",
       "    <tr>\n",
       "      <th>20</th>\n",
       "      <td>0.000000</td>\n",
       "      <td>0.000000</td>\n",
       "      <td>0.000000</td>\n",
       "      <td>0.000000</td>\n",
       "      <td>0.000000</td>\n",
       "      <td>0.000000</td>\n",
       "      <td>0.000000</td>\n",
       "      <td>0.000000</td>\n",
       "      <td>0.00000</td>\n",
       "      <td>0.000000</td>\n",
       "      <td>...</td>\n",
       "      <td>0.051704</td>\n",
       "      <td>0.000000</td>\n",
       "      <td>0.0</td>\n",
       "      <td>0.140828</td>\n",
       "      <td>0.0</td>\n",
       "      <td>0.000000</td>\n",
       "      <td>0.054986</td>\n",
       "      <td>0.054986</td>\n",
       "      <td>0.212535</td>\n",
       "      <td>0.000000</td>\n",
       "    </tr>\n",
       "    <tr>\n",
       "      <th>7</th>\n",
       "      <td>0.000000</td>\n",
       "      <td>0.000000</td>\n",
       "      <td>0.000000</td>\n",
       "      <td>0.060430</td>\n",
       "      <td>0.000000</td>\n",
       "      <td>0.000000</td>\n",
       "      <td>0.000000</td>\n",
       "      <td>0.000000</td>\n",
       "      <td>0.05113</td>\n",
       "      <td>0.053772</td>\n",
       "      <td>...</td>\n",
       "      <td>0.000000</td>\n",
       "      <td>0.000000</td>\n",
       "      <td>0.0</td>\n",
       "      <td>0.000000</td>\n",
       "      <td>0.0</td>\n",
       "      <td>0.000000</td>\n",
       "      <td>0.000000</td>\n",
       "      <td>0.000000</td>\n",
       "      <td>0.046715</td>\n",
       "      <td>0.000000</td>\n",
       "    </tr>\n",
       "    <tr>\n",
       "      <th>21</th>\n",
       "      <td>0.104696</td>\n",
       "      <td>0.000000</td>\n",
       "      <td>0.000000</td>\n",
       "      <td>0.000000</td>\n",
       "      <td>0.000000</td>\n",
       "      <td>0.000000</td>\n",
       "      <td>0.000000</td>\n",
       "      <td>0.000000</td>\n",
       "      <td>0.00000</td>\n",
       "      <td>0.000000</td>\n",
       "      <td>...</td>\n",
       "      <td>0.000000</td>\n",
       "      <td>0.000000</td>\n",
       "      <td>0.0</td>\n",
       "      <td>0.067035</td>\n",
       "      <td>0.0</td>\n",
       "      <td>0.000000</td>\n",
       "      <td>0.000000</td>\n",
       "      <td>0.000000</td>\n",
       "      <td>0.000000</td>\n",
       "      <td>0.000000</td>\n",
       "    </tr>\n",
       "    <tr>\n",
       "      <th>36</th>\n",
       "      <td>0.000000</td>\n",
       "      <td>0.000000</td>\n",
       "      <td>0.000000</td>\n",
       "      <td>0.000000</td>\n",
       "      <td>0.000000</td>\n",
       "      <td>0.063317</td>\n",
       "      <td>0.000000</td>\n",
       "      <td>0.000000</td>\n",
       "      <td>0.00000</td>\n",
       "      <td>0.056341</td>\n",
       "      <td>...</td>\n",
       "      <td>0.000000</td>\n",
       "      <td>0.063317</td>\n",
       "      <td>0.0</td>\n",
       "      <td>0.162163</td>\n",
       "      <td>0.0</td>\n",
       "      <td>0.000000</td>\n",
       "      <td>0.000000</td>\n",
       "      <td>0.000000</td>\n",
       "      <td>0.000000</td>\n",
       "      <td>0.051131</td>\n",
       "    </tr>\n",
       "    <tr>\n",
       "      <th>30</th>\n",
       "      <td>0.000000</td>\n",
       "      <td>0.000000</td>\n",
       "      <td>0.109129</td>\n",
       "      <td>0.000000</td>\n",
       "      <td>0.000000</td>\n",
       "      <td>0.000000</td>\n",
       "      <td>0.000000</td>\n",
       "      <td>0.000000</td>\n",
       "      <td>0.00000</td>\n",
       "      <td>0.000000</td>\n",
       "      <td>...</td>\n",
       "      <td>0.000000</td>\n",
       "      <td>0.000000</td>\n",
       "      <td>0.0</td>\n",
       "      <td>0.000000</td>\n",
       "      <td>0.0</td>\n",
       "      <td>0.000000</td>\n",
       "      <td>0.000000</td>\n",
       "      <td>0.000000</td>\n",
       "      <td>0.000000</td>\n",
       "      <td>0.000000</td>\n",
       "    </tr>\n",
       "    <tr>\n",
       "      <th>26</th>\n",
       "      <td>0.000000</td>\n",
       "      <td>0.000000</td>\n",
       "      <td>0.000000</td>\n",
       "      <td>0.000000</td>\n",
       "      <td>0.000000</td>\n",
       "      <td>0.000000</td>\n",
       "      <td>0.000000</td>\n",
       "      <td>0.000000</td>\n",
       "      <td>0.00000</td>\n",
       "      <td>0.000000</td>\n",
       "      <td>...</td>\n",
       "      <td>0.000000</td>\n",
       "      <td>0.000000</td>\n",
       "      <td>0.0</td>\n",
       "      <td>0.081215</td>\n",
       "      <td>0.0</td>\n",
       "      <td>0.126842</td>\n",
       "      <td>0.000000</td>\n",
       "      <td>0.000000</td>\n",
       "      <td>0.000000</td>\n",
       "      <td>0.000000</td>\n",
       "    </tr>\n",
       "    <tr>\n",
       "      <th>1</th>\n",
       "      <td>0.000000</td>\n",
       "      <td>0.000000</td>\n",
       "      <td>0.000000</td>\n",
       "      <td>0.000000</td>\n",
       "      <td>0.000000</td>\n",
       "      <td>0.000000</td>\n",
       "      <td>0.000000</td>\n",
       "      <td>0.000000</td>\n",
       "      <td>0.00000</td>\n",
       "      <td>0.000000</td>\n",
       "      <td>...</td>\n",
       "      <td>0.000000</td>\n",
       "      <td>0.000000</td>\n",
       "      <td>0.0</td>\n",
       "      <td>0.000000</td>\n",
       "      <td>0.0</td>\n",
       "      <td>0.000000</td>\n",
       "      <td>0.000000</td>\n",
       "      <td>0.000000</td>\n",
       "      <td>0.000000</td>\n",
       "      <td>0.000000</td>\n",
       "    </tr>\n",
       "    <tr>\n",
       "      <th>25</th>\n",
       "      <td>0.000000</td>\n",
       "      <td>0.000000</td>\n",
       "      <td>0.000000</td>\n",
       "      <td>0.000000</td>\n",
       "      <td>0.000000</td>\n",
       "      <td>0.000000</td>\n",
       "      <td>0.000000</td>\n",
       "      <td>0.056861</td>\n",
       "      <td>0.00000</td>\n",
       "      <td>0.000000</td>\n",
       "      <td>...</td>\n",
       "      <td>0.000000</td>\n",
       "      <td>0.000000</td>\n",
       "      <td>0.0</td>\n",
       "      <td>0.072814</td>\n",
       "      <td>0.0</td>\n",
       "      <td>0.000000</td>\n",
       "      <td>0.000000</td>\n",
       "      <td>0.000000</td>\n",
       "      <td>0.000000</td>\n",
       "      <td>0.000000</td>\n",
       "    </tr>\n",
       "  </tbody>\n",
       "</table>\n",
       "<p>10 rows × 480 columns</p>\n",
       "</div>"
      ],
      "text/plain": [
       "    actually took  adèle came  almost like  already made  another time  \\\n",
       "22       0.000000    0.081916     0.000000      0.081916      0.081916   \n",
       "6        0.000000    0.000000     0.000000      0.000000      0.000000   \n",
       "20       0.000000    0.000000     0.000000      0.000000      0.000000   \n",
       "7        0.000000    0.000000     0.000000      0.060430      0.000000   \n",
       "21       0.104696    0.000000     0.000000      0.000000      0.000000   \n",
       "36       0.000000    0.000000     0.000000      0.000000      0.000000   \n",
       "30       0.000000    0.000000     0.109129      0.000000      0.000000   \n",
       "26       0.000000    0.000000     0.000000      0.000000      0.000000   \n",
       "1        0.000000    0.000000     0.000000      0.000000      0.000000   \n",
       "25       0.000000    0.000000     0.000000      0.000000      0.000000   \n",
       "\n",
       "    answer question  answered yes  anything else  arm chair  arms round  ...  \\\n",
       "22         0.000000      0.081916       0.000000    0.00000    0.000000  ...   \n",
       "6          0.000000      0.000000       0.000000    0.00000    0.000000  ...   \n",
       "20         0.000000      0.000000       0.000000    0.00000    0.000000  ...   \n",
       "7          0.000000      0.000000       0.000000    0.05113    0.053772  ...   \n",
       "21         0.000000      0.000000       0.000000    0.00000    0.000000  ...   \n",
       "36         0.063317      0.000000       0.000000    0.00000    0.056341  ...   \n",
       "30         0.000000      0.000000       0.000000    0.00000    0.000000  ...   \n",
       "26         0.000000      0.000000       0.000000    0.00000    0.000000  ...   \n",
       "1          0.000000      0.000000       0.000000    0.00000    0.000000  ...   \n",
       "25         0.000000      0.000000       0.056861    0.00000    0.000000  ...   \n",
       "\n",
       "    years since  yes right  yes said   yes sir  yes yes  yet could  yet know  \\\n",
       "22     0.000000   0.000000       0.0  0.262247      0.0   0.000000  0.000000   \n",
       "6      0.000000   0.049280       0.0  0.000000      0.0   0.000000  0.000000   \n",
       "20     0.051704   0.000000       0.0  0.140828      0.0   0.000000  0.054986   \n",
       "7      0.000000   0.000000       0.0  0.000000      0.0   0.000000  0.000000   \n",
       "21     0.000000   0.000000       0.0  0.067035      0.0   0.000000  0.000000   \n",
       "36     0.000000   0.063317       0.0  0.162163      0.0   0.000000  0.000000   \n",
       "30     0.000000   0.000000       0.0  0.000000      0.0   0.000000  0.000000   \n",
       "26     0.000000   0.000000       0.0  0.081215      0.0   0.126842  0.000000   \n",
       "1      0.000000   0.000000       0.0  0.000000      0.0   0.000000  0.000000   \n",
       "25     0.000000   0.000000       0.0  0.072814      0.0   0.000000  0.000000   \n",
       "\n",
       "    yet said  young ladies  young lady  \n",
       "22  0.000000      0.000000    0.000000  \n",
       "6   0.000000      0.000000    0.000000  \n",
       "20  0.054986      0.212535    0.000000  \n",
       "7   0.000000      0.046715    0.000000  \n",
       "21  0.000000      0.000000    0.000000  \n",
       "36  0.000000      0.000000    0.051131  \n",
       "30  0.000000      0.000000    0.000000  \n",
       "26  0.000000      0.000000    0.000000  \n",
       "1   0.000000      0.000000    0.000000  \n",
       "25  0.000000      0.000000    0.000000  \n",
       "\n",
       "[10 rows x 480 columns]"
      ]
     },
     "execution_count": 16,
     "metadata": {},
     "output_type": "execute_result"
    }
   ],
   "source": [
    "tc = TfidfVectorizer(lowercase=True, \n",
    "                     stop_words=stopwords,\n",
    "                     ngram_range=(2,2),\n",
    "                     max_df=0.9,\n",
    "                     min_df=0.1)\n",
    "\n",
    "tc_vectors = tc.fit_transform(no_punct_chs)\n",
    "\n",
    "\n",
    "tfidf_vect_df = pd.DataFrame(data=tc_vectors.toarray(), columns=tc.get_feature_names_out())\n",
    "tfidf_vect_df.sample(10)"
   ]
  },
  {
   "cell_type": "code",
   "execution_count": 17,
   "metadata": {},
   "outputs": [
    {
     "data": {
      "text/plain": [
       "mr rochester       0.254307\n",
       "st john            0.148947\n",
       "mrs fairfax        0.116914\n",
       "mrs reed           0.083966\n",
       "miss temple        0.077260\n",
       "miss ingram        0.062901\n",
       "miss eyre          0.056189\n",
       "mr rivers          0.054495\n",
       "mr brocklehurst    0.046019\n",
       "diana mary         0.041832\n",
       "yes sir            0.041395\n",
       "thornfield hall    0.040288\n",
       "jane eyre          0.039254\n",
       "mr st              0.036489\n",
       "miss scatcherd     0.034366\n",
       "helen burns        0.033323\n",
       "mr mason           0.033289\n",
       "last night         0.030306\n",
       "miss jane          0.029874\n",
       "could see          0.029271\n",
       "dtype: float64"
      ]
     },
     "execution_count": 17,
     "metadata": {},
     "output_type": "execute_result"
    }
   ],
   "source": [
    "tfidf_vect_df.mean(axis=0).sort_values(ascending=False).head(20)"
   ]
  },
  {
   "cell_type": "markdown",
   "metadata": {},
   "source": [
    "#### Term Co-Occurance"
   ]
  },
  {
   "cell_type": "markdown",
   "metadata": {},
   "source": [
    "We may be interested in see how words co-occur with others words. In this case, we will use unigrams instead of bigrams. "
   ]
  },
  {
   "cell_type": "code",
   "execution_count": 18,
   "metadata": {},
   "outputs": [],
   "source": [
    "cvc = CountVectorizer(lowercase=True, \n",
    "                     stop_words=stopwords,\n",
    "                     ngram_range=(1,1),\n",
    "                    \n",
    "                     min_df=0.001)\n",
    "\n",
    "co_vectors = cvc.fit_transform(sent_tokens)\n",
    "\n",
    "# matrix manipulation \n",
    "co_matrix = (co_vectors.T * co_vectors)\n",
    "\n",
    "# setting the diagonals to 0 since it will always be 1 when we're comparing the same words\n",
    "co_matrix.setdiag(0)"
   ]
  },
  {
   "cell_type": "markdown",
   "metadata": {},
   "source": [
    "Below is a dataframe that shows how many times one word (column) co-occurs within the same sentence as another word (row)"
   ]
  },
  {
   "cell_type": "code",
   "execution_count": 19,
   "metadata": {},
   "outputs": [
    {
     "data": {
      "text/html": [
       "<div>\n",
       "<style scoped>\n",
       "    .dataframe tbody tr th:only-of-type {\n",
       "        vertical-align: middle;\n",
       "    }\n",
       "\n",
       "    .dataframe tbody tr th {\n",
       "        vertical-align: top;\n",
       "    }\n",
       "\n",
       "    .dataframe thead th {\n",
       "        text-align: right;\n",
       "    }\n",
       "</style>\n",
       "<table border=\"1\" class=\"dataframe\">\n",
       "  <thead>\n",
       "    <tr style=\"text-align: right;\">\n",
       "      <th></th>\n",
       "      <th>abbot</th>\n",
       "      <th>able</th>\n",
       "      <th>absence</th>\n",
       "      <th>absolutely</th>\n",
       "      <th>absorbed</th>\n",
       "      <th>accent</th>\n",
       "      <th>accept</th>\n",
       "      <th>access</th>\n",
       "      <th>accompany</th>\n",
       "      <th>account</th>\n",
       "      <th>...</th>\n",
       "      <th>year</th>\n",
       "      <th>years</th>\n",
       "      <th>yes</th>\n",
       "      <th>yesterday</th>\n",
       "      <th>yet</th>\n",
       "      <th>yield</th>\n",
       "      <th>yonder</th>\n",
       "      <th>young</th>\n",
       "      <th>younger</th>\n",
       "      <th>youth</th>\n",
       "    </tr>\n",
       "  </thead>\n",
       "  <tbody>\n",
       "    <tr>\n",
       "      <th>loss</th>\n",
       "      <td>0</td>\n",
       "      <td>0</td>\n",
       "      <td>0</td>\n",
       "      <td>0</td>\n",
       "      <td>0</td>\n",
       "      <td>1</td>\n",
       "      <td>0</td>\n",
       "      <td>0</td>\n",
       "      <td>0</td>\n",
       "      <td>0</td>\n",
       "      <td>...</td>\n",
       "      <td>0</td>\n",
       "      <td>1</td>\n",
       "      <td>0</td>\n",
       "      <td>0</td>\n",
       "      <td>0</td>\n",
       "      <td>0</td>\n",
       "      <td>0</td>\n",
       "      <td>0</td>\n",
       "      <td>0</td>\n",
       "      <td>0</td>\n",
       "    </tr>\n",
       "    <tr>\n",
       "      <th>become</th>\n",
       "      <td>0</td>\n",
       "      <td>0</td>\n",
       "      <td>0</td>\n",
       "      <td>0</td>\n",
       "      <td>0</td>\n",
       "      <td>0</td>\n",
       "      <td>0</td>\n",
       "      <td>0</td>\n",
       "      <td>0</td>\n",
       "      <td>0</td>\n",
       "      <td>...</td>\n",
       "      <td>1</td>\n",
       "      <td>1</td>\n",
       "      <td>0</td>\n",
       "      <td>0</td>\n",
       "      <td>2</td>\n",
       "      <td>0</td>\n",
       "      <td>0</td>\n",
       "      <td>0</td>\n",
       "      <td>0</td>\n",
       "      <td>0</td>\n",
       "    </tr>\n",
       "    <tr>\n",
       "      <th>fetch</th>\n",
       "      <td>0</td>\n",
       "      <td>1</td>\n",
       "      <td>0</td>\n",
       "      <td>0</td>\n",
       "      <td>0</td>\n",
       "      <td>0</td>\n",
       "      <td>0</td>\n",
       "      <td>0</td>\n",
       "      <td>0</td>\n",
       "      <td>0</td>\n",
       "      <td>...</td>\n",
       "      <td>0</td>\n",
       "      <td>0</td>\n",
       "      <td>1</td>\n",
       "      <td>1</td>\n",
       "      <td>1</td>\n",
       "      <td>0</td>\n",
       "      <td>0</td>\n",
       "      <td>1</td>\n",
       "      <td>0</td>\n",
       "      <td>0</td>\n",
       "    </tr>\n",
       "    <tr>\n",
       "      <th>regions</th>\n",
       "      <td>0</td>\n",
       "      <td>0</td>\n",
       "      <td>0</td>\n",
       "      <td>0</td>\n",
       "      <td>0</td>\n",
       "      <td>0</td>\n",
       "      <td>0</td>\n",
       "      <td>0</td>\n",
       "      <td>0</td>\n",
       "      <td>0</td>\n",
       "      <td>...</td>\n",
       "      <td>0</td>\n",
       "      <td>0</td>\n",
       "      <td>0</td>\n",
       "      <td>0</td>\n",
       "      <td>1</td>\n",
       "      <td>0</td>\n",
       "      <td>0</td>\n",
       "      <td>1</td>\n",
       "      <td>0</td>\n",
       "      <td>0</td>\n",
       "    </tr>\n",
       "    <tr>\n",
       "      <th>uncle</th>\n",
       "      <td>0</td>\n",
       "      <td>0</td>\n",
       "      <td>0</td>\n",
       "      <td>0</td>\n",
       "      <td>0</td>\n",
       "      <td>0</td>\n",
       "      <td>0</td>\n",
       "      <td>0</td>\n",
       "      <td>1</td>\n",
       "      <td>0</td>\n",
       "      <td>...</td>\n",
       "      <td>0</td>\n",
       "      <td>0</td>\n",
       "      <td>0</td>\n",
       "      <td>0</td>\n",
       "      <td>0</td>\n",
       "      <td>0</td>\n",
       "      <td>0</td>\n",
       "      <td>0</td>\n",
       "      <td>0</td>\n",
       "      <td>0</td>\n",
       "    </tr>\n",
       "    <tr>\n",
       "      <th>brain</th>\n",
       "      <td>0</td>\n",
       "      <td>0</td>\n",
       "      <td>0</td>\n",
       "      <td>0</td>\n",
       "      <td>0</td>\n",
       "      <td>0</td>\n",
       "      <td>0</td>\n",
       "      <td>0</td>\n",
       "      <td>0</td>\n",
       "      <td>0</td>\n",
       "      <td>...</td>\n",
       "      <td>0</td>\n",
       "      <td>0</td>\n",
       "      <td>2</td>\n",
       "      <td>0</td>\n",
       "      <td>0</td>\n",
       "      <td>0</td>\n",
       "      <td>0</td>\n",
       "      <td>0</td>\n",
       "      <td>0</td>\n",
       "      <td>0</td>\n",
       "    </tr>\n",
       "    <tr>\n",
       "      <th>frame</th>\n",
       "      <td>0</td>\n",
       "      <td>0</td>\n",
       "      <td>0</td>\n",
       "      <td>0</td>\n",
       "      <td>0</td>\n",
       "      <td>0</td>\n",
       "      <td>0</td>\n",
       "      <td>0</td>\n",
       "      <td>0</td>\n",
       "      <td>0</td>\n",
       "      <td>...</td>\n",
       "      <td>0</td>\n",
       "      <td>1</td>\n",
       "      <td>0</td>\n",
       "      <td>0</td>\n",
       "      <td>1</td>\n",
       "      <td>0</td>\n",
       "      <td>0</td>\n",
       "      <td>0</td>\n",
       "      <td>0</td>\n",
       "      <td>0</td>\n",
       "    </tr>\n",
       "    <tr>\n",
       "      <th>devil</th>\n",
       "      <td>0</td>\n",
       "      <td>0</td>\n",
       "      <td>0</td>\n",
       "      <td>0</td>\n",
       "      <td>0</td>\n",
       "      <td>0</td>\n",
       "      <td>0</td>\n",
       "      <td>0</td>\n",
       "      <td>0</td>\n",
       "      <td>0</td>\n",
       "      <td>...</td>\n",
       "      <td>0</td>\n",
       "      <td>0</td>\n",
       "      <td>0</td>\n",
       "      <td>0</td>\n",
       "      <td>0</td>\n",
       "      <td>0</td>\n",
       "      <td>0</td>\n",
       "      <td>0</td>\n",
       "      <td>0</td>\n",
       "      <td>0</td>\n",
       "    </tr>\n",
       "    <tr>\n",
       "      <th>class</th>\n",
       "      <td>0</td>\n",
       "      <td>0</td>\n",
       "      <td>0</td>\n",
       "      <td>0</td>\n",
       "      <td>0</td>\n",
       "      <td>0</td>\n",
       "      <td>0</td>\n",
       "      <td>0</td>\n",
       "      <td>0</td>\n",
       "      <td>0</td>\n",
       "      <td>...</td>\n",
       "      <td>0</td>\n",
       "      <td>1</td>\n",
       "      <td>0</td>\n",
       "      <td>0</td>\n",
       "      <td>0</td>\n",
       "      <td>0</td>\n",
       "      <td>0</td>\n",
       "      <td>0</td>\n",
       "      <td>0</td>\n",
       "      <td>0</td>\n",
       "    </tr>\n",
       "    <tr>\n",
       "      <th>light</th>\n",
       "      <td>0</td>\n",
       "      <td>1</td>\n",
       "      <td>0</td>\n",
       "      <td>0</td>\n",
       "      <td>0</td>\n",
       "      <td>0</td>\n",
       "      <td>0</td>\n",
       "      <td>0</td>\n",
       "      <td>0</td>\n",
       "      <td>0</td>\n",
       "      <td>...</td>\n",
       "      <td>0</td>\n",
       "      <td>1</td>\n",
       "      <td>0</td>\n",
       "      <td>0</td>\n",
       "      <td>2</td>\n",
       "      <td>1</td>\n",
       "      <td>0</td>\n",
       "      <td>2</td>\n",
       "      <td>1</td>\n",
       "      <td>0</td>\n",
       "    </tr>\n",
       "  </tbody>\n",
       "</table>\n",
       "<p>10 rows × 1729 columns</p>\n",
       "</div>"
      ],
      "text/plain": [
       "         abbot  able  absence  absolutely  absorbed  accent  accept  access  \\\n",
       "loss         0     0        0           0         0       1       0       0   \n",
       "become       0     0        0           0         0       0       0       0   \n",
       "fetch        0     1        0           0         0       0       0       0   \n",
       "regions      0     0        0           0         0       0       0       0   \n",
       "uncle        0     0        0           0         0       0       0       0   \n",
       "brain        0     0        0           0         0       0       0       0   \n",
       "frame        0     0        0           0         0       0       0       0   \n",
       "devil        0     0        0           0         0       0       0       0   \n",
       "class        0     0        0           0         0       0       0       0   \n",
       "light        0     1        0           0         0       0       0       0   \n",
       "\n",
       "         accompany  account  ...  year  years  yes  yesterday  yet  yield  \\\n",
       "loss             0        0  ...     0      1    0          0    0      0   \n",
       "become           0        0  ...     1      1    0          0    2      0   \n",
       "fetch            0        0  ...     0      0    1          1    1      0   \n",
       "regions          0        0  ...     0      0    0          0    1      0   \n",
       "uncle            1        0  ...     0      0    0          0    0      0   \n",
       "brain            0        0  ...     0      0    2          0    0      0   \n",
       "frame            0        0  ...     0      1    0          0    1      0   \n",
       "devil            0        0  ...     0      0    0          0    0      0   \n",
       "class            0        0  ...     0      1    0          0    0      0   \n",
       "light            0        0  ...     0      1    0          0    2      1   \n",
       "\n",
       "         yonder  young  younger  youth  \n",
       "loss          0      0        0      0  \n",
       "become        0      0        0      0  \n",
       "fetch         0      1        0      0  \n",
       "regions       0      1        0      0  \n",
       "uncle         0      0        0      0  \n",
       "brain         0      0        0      0  \n",
       "frame         0      0        0      0  \n",
       "devil         0      0        0      0  \n",
       "class         0      0        0      0  \n",
       "light         0      2        1      0  \n",
       "\n",
       "[10 rows x 1729 columns]"
      ]
     },
     "execution_count": 19,
     "metadata": {},
     "output_type": "execute_result"
    }
   ],
   "source": [
    "co_cols = cvc.get_feature_names_out()\n",
    "co_df = pd.DataFrame(data=co_matrix.toarray(), columns=co_cols, index=co_cols)\n",
    "co_df.sample(10)"
   ]
  },
  {
   "cell_type": "markdown",
   "metadata": {},
   "source": [
    "We may be interested in seeing what are the most common words that show up in the same sentence that 'rochester' (referring to Mr. Rochester) appears. "
   ]
  },
  {
   "cell_type": "code",
   "execution_count": 20,
   "metadata": {},
   "outputs": [
    {
     "data": {
      "text/plain": [
       "mr         362\n",
       "said        50\n",
       "would       40\n",
       "see         33\n",
       "mrs         31\n",
       "fairfax     28\n",
       "could       25\n",
       "heard       24\n",
       "never       22\n",
       "go          18\n",
       "like        18\n",
       "room        17\n",
       "hand        17\n",
       "one         16\n",
       "well        16\n",
       "eyes        15\n",
       "knew        15\n",
       "yes         15\n",
       "adèle       15\n",
       "long        14\n",
       "Name: rochester, dtype: int64"
      ]
     },
     "execution_count": 20,
     "metadata": {},
     "output_type": "execute_result"
    }
   ],
   "source": [
    "co_df['rochester'].sort_values(ascending=False).head(20)"
   ]
  },
  {
   "cell_type": "markdown",
   "metadata": {},
   "source": [
    "## Mini-project 2: Classification\n",
    "\n",
    "#### Data: [On the Books Laws](https://cdr.lib.unc.edu/collections/f4752p47h?locale=en)\n",
    "\n"
   ]
  },
  {
   "cell_type": "markdown",
   "metadata": {},
   "source": [
    "Classification allows us to separate documents into different groups depending on the language used in the text. Often, classification uses machine learning techniques. Two common types of machine learning are **supervised and unsupervised**."
   ]
  },
  {
   "cell_type": "markdown",
   "metadata": {},
   "source": [
    "### About the Data\n",
    "\n",
    "This data comes from [On the Books: Jim Crow and Algorithms of Resistance](https://onthebooks.lib.unc.edu/), a text analysis project that discovered Jim Crow and racially-based legislation signed into law in North Carolina between 1866 and 1967. It uses supervised and unsupervised classification techniques to identify laws with race-based language and the type of legislation covered by those laws."
   ]
  },
  {
   "cell_type": "markdown",
   "metadata": {},
   "source": [
    "### Supervised Classification"
   ]
  },
  {
   "cell_type": "markdown",
   "metadata": {},
   "source": [
    "Supervised classification requires what is known as a **training set**. A training set is a subset of documents that have been assigned classifications and manually labeled by humans. The labels will be used to train a model."
   ]
  },
  {
   "cell_type": "markdown",
   "metadata": {},
   "source": [
    "### Create Testing & Training Sets"
   ]
  },
  {
   "cell_type": "markdown",
   "metadata": {},
   "source": [
    "We'll use Pandas to read in the On The Books training set."
   ]
  },
  {
   "cell_type": "code",
   "execution_count": 21,
   "metadata": {},
   "outputs": [
    {
     "name": "stdout",
     "output_type": "stream",
     "text": [
      "<class 'pandas.core.frame.DataFrame'>\n",
      "RangeIndex: 1785 entries, 0 to 1784\n",
      "Data columns (total 12 columns):\n",
      " #   Column                  Non-Null Count  Dtype \n",
      "---  ------                  --------------  ----- \n",
      " 0   id                      1785 non-null   object\n",
      " 1   source                  1785 non-null   object\n",
      " 2   jim_crow                1785 non-null   int64 \n",
      " 3   chapter_num             1785 non-null   int64 \n",
      " 4   section_num             1785 non-null   int64 \n",
      " 5   chapter_text            1785 non-null   object\n",
      " 6   section_text            1785 non-null   object\n",
      " 7   year                    1785 non-null   int64 \n",
      " 8   type_private laws       1785 non-null   int64 \n",
      " 9   type_public laws        1785 non-null   int64 \n",
      " 10  type_public local laws  1785 non-null   int64 \n",
      " 11  type_session laws       1785 non-null   int64 \n",
      "dtypes: int64(8), object(4)\n",
      "memory usage: 167.5+ KB\n"
     ]
    }
   ],
   "source": [
    "import pandas as pd\n",
    "\n",
    "df = pd.read_csv(\"https://unc-libraries-data.github.io/text_analysis_with_python/datasets/otb_training_set.csv\")\n",
    "df.info()"
   ]
  },
  {
   "cell_type": "markdown",
   "metadata": {},
   "source": [
    "The column jim_crow contains a label of either 1 or 0 indicating whether the law is considered \"Jim Crow\" or \"Not Jim Crow\". The training set includes 1,785 labeled laws, with 512 examples of Jim Crow laws and 1,273 non Jim Crow laws."
   ]
  },
  {
   "cell_type": "code",
   "execution_count": 22,
   "metadata": {},
   "outputs": [
    {
     "data": {
      "text/plain": [
       "jim_crow\n",
       "0    1273\n",
       "1     512\n",
       "Name: count, dtype: int64"
      ]
     },
     "execution_count": 22,
     "metadata": {},
     "output_type": "execute_result"
    }
   ],
   "source": [
    "df.jim_crow.value_counts()"
   ]
  },
  {
   "cell_type": "markdown",
   "metadata": {},
   "source": [
    "The training set also contains information about where the source of the labeling came from. Laws were labeled as Jim Crow or Not Jim Crow according to the work of legal scholars (Pauli Murray, Richard Paschal) and experts at UNC (William Sturkey and others)."
   ]
  },
  {
   "cell_type": "code",
   "execution_count": 23,
   "metadata": {},
   "outputs": [
    {
     "data": {
      "text/plain": [
       "source\n",
       "project experts    1673\n",
       "paschal              74\n",
       "murray               38\n",
       "Name: count, dtype: int64"
      ]
     },
     "execution_count": 23,
     "metadata": {},
     "output_type": "execute_result"
    }
   ],
   "source": [
    "df.source.value_counts()"
   ]
  },
  {
   "cell_type": "markdown",
   "metadata": {},
   "source": [
    "To begin training a model, we need to pick a target for our classification, aka the \"output\". It is the thing we want our model to predict or the question we want it to answer. We want our model to predict whether a law is a Jim Crow law or not, so our target is the jim_crow column."
   ]
  },
  {
   "cell_type": "code",
   "execution_count": 24,
   "metadata": {},
   "outputs": [],
   "source": [
    "target = df[\"jim_crow\"]"
   ]
  },
  {
   "cell_type": "markdown",
   "metadata": {},
   "source": [
    "We also need to decide what other features we want the model to take into account when it predicts whether or not a law is Jim Crow. In this case, we have information about what year the law appears in the books and what type of law it is (private, public, public local or session). These features will be our \"inputs\"."
   ]
  },
  {
   "cell_type": "code",
   "execution_count": 25,
   "metadata": {},
   "outputs": [
    {
     "name": "stdout",
     "output_type": "stream",
     "text": [
      "<class 'pandas.core.frame.DataFrame'>\n",
      "RangeIndex: 1785 entries, 0 to 1784\n",
      "Data columns (total 6 columns):\n",
      " #   Column                  Non-Null Count  Dtype \n",
      "---  ------                  --------------  ----- \n",
      " 0   section_text            1785 non-null   object\n",
      " 1   year                    1785 non-null   int64 \n",
      " 2   type_private laws       1785 non-null   int64 \n",
      " 3   type_public laws        1785 non-null   int64 \n",
      " 4   type_public local laws  1785 non-null   int64 \n",
      " 5   type_session laws       1785 non-null   int64 \n",
      "dtypes: int64(5), object(1)\n",
      "memory usage: 83.8+ KB\n"
     ]
    }
   ],
   "source": [
    "features = df.loc[:, \"section_text\" : \"type_session laws\"]\n",
    "features.info()"
   ]
  },
  {
   "cell_type": "markdown",
   "metadata": {},
   "source": [
    "When training a classification model, we can't use our entire training set, because then we'd have no labeled laws on which to test how well the model is performing. Supervised classification techniques require us to split the training set into training and testing subsets. We can use sklearn's train_test_split function to do accomplish the split. \n",
    "\n",
    "Note that test_size is set to 0.2. That means 80% of our data will be used for training and 20% will be used for testing.  We are also giving the \"random_state\" argument a number to ensure we all get the same results since train_test_split divides the data randomly. X_train and X_test will include the inputs. y_train and y_test will include the output."
   ]
  },
  {
   "cell_type": "code",
   "execution_count": 26,
   "metadata": {},
   "outputs": [],
   "source": [
    "import numpy as np\n",
    "from sklearn.model_selection import train_test_split\n",
    "\n",
    "X_train, X_test, y_train, y_test = train_test_split(features, target, test_size = 0.2, random_state = 25)"
   ]
  },
  {
   "cell_type": "markdown",
   "metadata": {},
   "source": [
    "### Vectorize the text"
   ]
  },
  {
   "cell_type": "markdown",
   "metadata": {},
   "source": [
    "We also need to use word frequency information to train the model. We'll use the CountVectorizer."
   ]
  },
  {
   "cell_type": "code",
   "execution_count": 27,
   "metadata": {},
   "outputs": [],
   "source": [
    "from sklearn.feature_extraction.text import CountVectorizer\n",
    "vec = CountVectorizer(decode_error = \"ignore\", min_df = 2, max_df = 1000)"
   ]
  },
  {
   "cell_type": "markdown",
   "metadata": {},
   "source": [
    "In this case, we've chosen to ignore errors when it comes to characters with the wrong encoding. Additionally, we are not including any words that are too rarely used in the text (less than two times) or too often used (more than 1000 times).\n",
    "\n",
    "Below, the vectorization is applied."
   ]
  },
  {
   "cell_type": "code",
   "execution_count": 28,
   "metadata": {},
   "outputs": [],
   "source": [
    "X_train = vec.fit_transform(X_train.section_text)\n",
    "X_test = vec.transform(X_test.section_text)"
   ]
  },
  {
   "cell_type": "markdown",
   "metadata": {},
   "source": [
    "### Train a Model"
   ]
  },
  {
   "cell_type": "markdown",
   "metadata": {},
   "source": [
    "Now we need to decide on a machine learning classification model. In this case, we are using multinomial Naive Bayes which comes with sklearn."
   ]
  },
  {
   "cell_type": "code",
   "execution_count": 29,
   "metadata": {},
   "outputs": [
    {
     "data": {
      "text/html": [
       "<style>#sk-container-id-1 {color: black;}#sk-container-id-1 pre{padding: 0;}#sk-container-id-1 div.sk-toggleable {background-color: white;}#sk-container-id-1 label.sk-toggleable__label {cursor: pointer;display: block;width: 100%;margin-bottom: 0;padding: 0.3em;box-sizing: border-box;text-align: center;}#sk-container-id-1 label.sk-toggleable__label-arrow:before {content: \"▸\";float: left;margin-right: 0.25em;color: #696969;}#sk-container-id-1 label.sk-toggleable__label-arrow:hover:before {color: black;}#sk-container-id-1 div.sk-estimator:hover label.sk-toggleable__label-arrow:before {color: black;}#sk-container-id-1 div.sk-toggleable__content {max-height: 0;max-width: 0;overflow: hidden;text-align: left;background-color: #f0f8ff;}#sk-container-id-1 div.sk-toggleable__content pre {margin: 0.2em;color: black;border-radius: 0.25em;background-color: #f0f8ff;}#sk-container-id-1 input.sk-toggleable__control:checked~div.sk-toggleable__content {max-height: 200px;max-width: 100%;overflow: auto;}#sk-container-id-1 input.sk-toggleable__control:checked~label.sk-toggleable__label-arrow:before {content: \"▾\";}#sk-container-id-1 div.sk-estimator input.sk-toggleable__control:checked~label.sk-toggleable__label {background-color: #d4ebff;}#sk-container-id-1 div.sk-label input.sk-toggleable__control:checked~label.sk-toggleable__label {background-color: #d4ebff;}#sk-container-id-1 input.sk-hidden--visually {border: 0;clip: rect(1px 1px 1px 1px);clip: rect(1px, 1px, 1px, 1px);height: 1px;margin: -1px;overflow: hidden;padding: 0;position: absolute;width: 1px;}#sk-container-id-1 div.sk-estimator {font-family: monospace;background-color: #f0f8ff;border: 1px dotted black;border-radius: 0.25em;box-sizing: border-box;margin-bottom: 0.5em;}#sk-container-id-1 div.sk-estimator:hover {background-color: #d4ebff;}#sk-container-id-1 div.sk-parallel-item::after {content: \"\";width: 100%;border-bottom: 1px solid gray;flex-grow: 1;}#sk-container-id-1 div.sk-label:hover label.sk-toggleable__label {background-color: #d4ebff;}#sk-container-id-1 div.sk-serial::before {content: \"\";position: absolute;border-left: 1px solid gray;box-sizing: border-box;top: 0;bottom: 0;left: 50%;z-index: 0;}#sk-container-id-1 div.sk-serial {display: flex;flex-direction: column;align-items: center;background-color: white;padding-right: 0.2em;padding-left: 0.2em;position: relative;}#sk-container-id-1 div.sk-item {position: relative;z-index: 1;}#sk-container-id-1 div.sk-parallel {display: flex;align-items: stretch;justify-content: center;background-color: white;position: relative;}#sk-container-id-1 div.sk-item::before, #sk-container-id-1 div.sk-parallel-item::before {content: \"\";position: absolute;border-left: 1px solid gray;box-sizing: border-box;top: 0;bottom: 0;left: 50%;z-index: -1;}#sk-container-id-1 div.sk-parallel-item {display: flex;flex-direction: column;z-index: 1;position: relative;background-color: white;}#sk-container-id-1 div.sk-parallel-item:first-child::after {align-self: flex-end;width: 50%;}#sk-container-id-1 div.sk-parallel-item:last-child::after {align-self: flex-start;width: 50%;}#sk-container-id-1 div.sk-parallel-item:only-child::after {width: 0;}#sk-container-id-1 div.sk-dashed-wrapped {border: 1px dashed gray;margin: 0 0.4em 0.5em 0.4em;box-sizing: border-box;padding-bottom: 0.4em;background-color: white;}#sk-container-id-1 div.sk-label label {font-family: monospace;font-weight: bold;display: inline-block;line-height: 1.2em;}#sk-container-id-1 div.sk-label-container {text-align: center;}#sk-container-id-1 div.sk-container {/* jupyter's `normalize.less` sets `[hidden] { display: none; }` but bootstrap.min.css set `[hidden] { display: none !important; }` so we also need the `!important` here to be able to override the default hidden behavior on the sphinx rendered scikit-learn.org. See: https://github.com/scikit-learn/scikit-learn/issues/21755 */display: inline-block !important;position: relative;}#sk-container-id-1 div.sk-text-repr-fallback {display: none;}</style><div id=\"sk-container-id-1\" class=\"sk-top-container\"><div class=\"sk-text-repr-fallback\"><pre>MultinomialNB()</pre><b>In a Jupyter environment, please rerun this cell to show the HTML representation or trust the notebook. <br />On GitHub, the HTML representation is unable to render, please try loading this page with nbviewer.org.</b></div><div class=\"sk-container\" hidden><div class=\"sk-item\"><div class=\"sk-estimator sk-toggleable\"><input class=\"sk-toggleable__control sk-hidden--visually\" id=\"sk-estimator-id-1\" type=\"checkbox\" checked><label for=\"sk-estimator-id-1\" class=\"sk-toggleable__label sk-toggleable__label-arrow\">MultinomialNB</label><div class=\"sk-toggleable__content\"><pre>MultinomialNB()</pre></div></div></div></div></div>"
      ],
      "text/plain": [
       "MultinomialNB()"
      ]
     },
     "execution_count": 29,
     "metadata": {},
     "output_type": "execute_result"
    }
   ],
   "source": [
    "from sklearn.naive_bayes import MultinomialNB\n",
    "\n",
    "\n",
    "nb = MultinomialNB()\n",
    "nb.fit(X_train, y_train)\n",
    "\n"
   ]
  },
  {
   "cell_type": "markdown",
   "metadata": {},
   "source": [
    "### Test the Model"
   ]
  },
  {
   "cell_type": "markdown",
   "metadata": {},
   "source": [
    "Now that we've trained the model on our data, let's use it on the testing set and see how well it did. Below, we apply the predict method of our model on the testing data (X_tests)."
   ]
  },
  {
   "cell_type": "code",
   "execution_count": 30,
   "metadata": {},
   "outputs": [],
   "source": [
    "preds = nb.predict(X_test)"
   ]
  },
  {
   "cell_type": "markdown",
   "metadata": {},
   "source": [
    "A common way to display the performance of a classification model is through a \"confusion matrix\". Below, we use the heatmap function in seaborn to visualize it."
   ]
  },
  {
   "cell_type": "code",
   "execution_count": 31,
   "metadata": {},
   "outputs": [
    {
     "data": {
      "image/png": "[encoded data removed]",
      "text/plain": [
       "<Figure size 640x480 with 2 Axes>"
      ]
     },
     "metadata": {},
     "output_type": "display_data"
    }
   ],
   "source": [
    "from sklearn.metrics import confusion_matrix, classification_report\n",
    "import seaborn as sns\n",
    "\n",
    "data = confusion_matrix(y_test, preds)\n",
    "df_cm = pd.DataFrame(data, columns=np.unique(y_test), index = np.unique(y_test))\n",
    "df_cm.index.name = 'Actual'\n",
    "df_cm.columns.name = 'Predicted'\n",
    "\n",
    "ax = sns.heatmap(df_cm,xticklabels=True, annot=True, fmt='.0f')"
   ]
  },
  {
   "cell_type": "markdown",
   "metadata": {},
   "source": [
    "The matrix above compares the actual classifications to the predicted ones made by our model. Remember that 1 is the label for Jim Crow laws and 0 is the label for Non Jim Crow laws. Let's discuss each section of the matrix going clockwise.\n",
    "\n",
    "**Top Left - True Negative**<br>\n",
    "229 laws were labeled as Not Jim Crow and the model correctly predicted that they were Not Jim Crow.\n",
    "\n",
    "**Top Right - False Positive**<br>\n",
    "36 laws were labeled as Not Jim Crow, but the model incorrectly predicted that they were Jim Crow.\n",
    "\n",
    "**Bottom Right - True Positive**<br>\n",
    "86 laws were labeled as Jim Crow and the model correctly predicted that they were Jim Crow.\n",
    "\n",
    "**Bottom Left - False Negative**<br>\n",
    "6 laws were labeled as Jim Crow, but the model incorrectly predicted that they were Not Jim Crow.\n",
    "\n"
   ]
  },
  {
   "cell_type": "markdown",
   "metadata": {},
   "source": [
    "This model is not accurate enough to move forward with, but we can always change the features and parameters used to train it and try and increase its accuracy.\n",
    "\n",
    "The On the Books project used what is known as \"Cross Validation\" to compare the performance of multiple models at once. Ultimately, an [XGBoost](https://xgboost.readthedocs.io/en/stable/index.html) model performed the best. Python notebooks with code used in the project can be found on the [On The Books Git Hub](https://github.com/UNC-Libraries-data/OnTheBooks/)."
   ]
  },
  {
   "cell_type": "markdown",
   "metadata": {},
   "source": [
    "## Mini-project 3: Sentiment Analysis"
   ]
  },
  {
   "cell_type": "markdown",
   "metadata": {},
   "source": [
    "Sentiment analysis is another text analysis appraoch that is used to determine sentiment polarity (positive, neutral, negative) or emotional tone (happy, sad, etc.) of texts. Sentiment analysis approaches often fall within **dictionary based approaches** which use a lexicon (and often rule-modifiers) or **machine learning based approaches**. **Lexicon** refers to list of words that are mapped to a particular sentiment or emotion score. In this workshop, both tools used follow a dictionary based approach."
   ]
  },
  {
   "cell_type": "markdown",
   "metadata": {},
   "source": [
    "We will be using a [dataset of tweets about ChatGPT from Kaggle](https://www.kaggle.com/datasets/charunisa/chatgpt-sentiment-analysis/data?select=file.csv) for this example. "
   ]
  },
  {
   "cell_type": "markdown",
   "metadata": {},
   "source": [
    "#### 1. Importing ChatGPT twitter data"
   ]
  },
  {
   "cell_type": "code",
   "execution_count": 32,
   "metadata": {},
   "outputs": [],
   "source": [
    "import pandas as pd\n",
    "\n",
    "df = pd.read_csv('https://unc-libraries-data.github.io/text_analysis_with_python/datasets/chatgpt_sentiment_sample.csv', encoding='utf-8')"
   ]
  },
  {
   "cell_type": "code",
   "execution_count": 33,
   "metadata": {},
   "outputs": [
    {
     "data": {
      "text/plain": [
       "(50000, 3)"
      ]
     },
     "execution_count": 33,
     "metadata": {},
     "output_type": "execute_result"
    }
   ],
   "source": [
    "df.shape"
   ]
  },
  {
   "cell_type": "code",
   "execution_count": 34,
   "metadata": {},
   "outputs": [
    {
     "data": {
      "text/html": [
       "<div>\n",
       "<style scoped>\n",
       "    .dataframe tbody tr th:only-of-type {\n",
       "        vertical-align: middle;\n",
       "    }\n",
       "\n",
       "    .dataframe tbody tr th {\n",
       "        vertical-align: top;\n",
       "    }\n",
       "\n",
       "    .dataframe thead th {\n",
       "        text-align: right;\n",
       "    }\n",
       "</style>\n",
       "<table border=\"1\" class=\"dataframe\">\n",
       "  <thead>\n",
       "    <tr style=\"text-align: right;\">\n",
       "      <th></th>\n",
       "      <th>Unnamed: 0</th>\n",
       "      <th>tweets</th>\n",
       "      <th>labels</th>\n",
       "    </tr>\n",
       "  </thead>\n",
       "  <tbody>\n",
       "    <tr>\n",
       "      <th>29402</th>\n",
       "      <td>174367</td>\n",
       "      <td>🚨 Reminder: Special Broadcast starts in 10 min...</td>\n",
       "      <td>neutral</td>\n",
       "    </tr>\n",
       "    <tr>\n",
       "      <th>20329</th>\n",
       "      <td>140659</td>\n",
       "      <td>ChatGPT continues to blow my mind 😭</td>\n",
       "      <td>bad</td>\n",
       "    </tr>\n",
       "    <tr>\n",
       "      <th>23288</th>\n",
       "      <td>51892</td>\n",
       "      <td>Cyber tools playground with ChatGPT. Relax, we...</td>\n",
       "      <td>good</td>\n",
       "    </tr>\n",
       "    <tr>\n",
       "      <th>39645</th>\n",
       "      <td>101573</td>\n",
       "      <td>My top #ChatGPT feature request: a side-note f...</td>\n",
       "      <td>bad</td>\n",
       "    </tr>\n",
       "    <tr>\n",
       "      <th>7172</th>\n",
       "      <td>72152</td>\n",
       "      <td>Natural language processing algorithms like th...</td>\n",
       "      <td>good</td>\n",
       "    </tr>\n",
       "    <tr>\n",
       "      <th>16239</th>\n",
       "      <td>130697</td>\n",
       "      <td>Is ChatGPT a ‘virus that has been released int...</td>\n",
       "      <td>neutral</td>\n",
       "    </tr>\n",
       "    <tr>\n",
       "      <th>15238</th>\n",
       "      <td>196066</td>\n",
       "      <td>The latest The Randy Lopez Daily! https://t.co...</td>\n",
       "      <td>neutral</td>\n",
       "    </tr>\n",
       "    <tr>\n",
       "      <th>32543</th>\n",
       "      <td>56855</td>\n",
       "      <td>Interesting...ChatGPT reads 'football' as the ...</td>\n",
       "      <td>neutral</td>\n",
       "    </tr>\n",
       "    <tr>\n",
       "      <th>1066</th>\n",
       "      <td>213967</td>\n",
       "      <td>anyone using #chatgpt in their podcat workflow...</td>\n",
       "      <td>bad</td>\n",
       "    </tr>\n",
       "    <tr>\n",
       "      <th>12570</th>\n",
       "      <td>68893</td>\n",
       "      <td>This ChatGPT AI program is unreal. I think the...</td>\n",
       "      <td>bad</td>\n",
       "    </tr>\n",
       "  </tbody>\n",
       "</table>\n",
       "</div>"
      ],
      "text/plain": [
       "       Unnamed: 0                                             tweets   labels\n",
       "29402      174367  🚨 Reminder: Special Broadcast starts in 10 min...  neutral\n",
       "20329      140659                ChatGPT continues to blow my mind 😭      bad\n",
       "23288       51892  Cyber tools playground with ChatGPT. Relax, we...     good\n",
       "39645      101573  My top #ChatGPT feature request: a side-note f...      bad\n",
       "7172        72152  Natural language processing algorithms like th...     good\n",
       "16239      130697  Is ChatGPT a ‘virus that has been released int...  neutral\n",
       "15238      196066  The latest The Randy Lopez Daily! https://t.co...  neutral\n",
       "32543       56855  Interesting...ChatGPT reads 'football' as the ...  neutral\n",
       "1066       213967  anyone using #chatgpt in their podcat workflow...      bad\n",
       "12570       68893  This ChatGPT AI program is unreal. I think the...      bad"
      ]
     },
     "execution_count": 34,
     "metadata": {},
     "output_type": "execute_result"
    }
   ],
   "source": [
    "df.sample(10)"
   ]
  },
  {
   "cell_type": "markdown",
   "metadata": {},
   "source": [
    "#### 1. Simple Sentiment Analysis using Textblob"
   ]
  },
  {
   "cell_type": "markdown",
   "metadata": {},
   "source": [
    "[`TextBlob`](https://textblob.readthedocs.io/en/dev/quickstart.html#sentiment-analysis) is a Python library that allows for easy access to text analysis methods such as parts-of-speech tagging, tokenization, term frequencies, sentiment analysis, and more. "
   ]
  },
  {
   "cell_type": "code",
   "execution_count": 35,
   "metadata": {},
   "outputs": [
    {
     "data": {
      "text/plain": [
       "Sentiment(polarity=0.3833333333333333, subjectivity=0.5266666666666667, assessments=[(['very', 'politically'], 0.0, 0.13, None), (['good'], 0.7, 0.6000000000000001, None), (['becoming'], 0.45, 0.8500000000000001, None)])"
      ]
     },
     "execution_count": 35,
     "metadata": {},
     "output_type": "execute_result"
    }
   ],
   "source": [
    "#! pip install textblob\n",
    "from textblob import TextBlob\n",
    "\n",
    "# simple example of TextBlob\n",
    "example_tweet = TextBlob(df.tweets[22747])\n",
    "\n",
    "example_tweet.sentiment_assessments"
   ]
  },
  {
   "cell_type": "markdown",
   "metadata": {},
   "source": [
    "`TextBlob.sentiment_assessments` returns the overall sentiment polarity and subjectivity of the sentence alongside the polarity and subjectivity of individual terms that make up the composite score. Polarity scores range from -1 (most negative) to 1 (most positive); subjectivity scores range from 0 (most objective) to 1 (most subjective). Below we can see the text that of the tweet that had a polarity score of 0.3 and a subjectivity score of 0.7."
   ]
  },
  {
   "cell_type": "code",
   "execution_count": 36,
   "metadata": {},
   "outputs": [
    {
     "data": {
      "text/plain": [
       "'#chatgpt is very politically correct. this is good. keeps it from becoming biased. https://t.co/GcFjacvpYk'"
      ]
     },
     "execution_count": 36,
     "metadata": {},
     "output_type": "execute_result"
    }
   ],
   "source": [
    "df.tweets[22747]"
   ]
  },
  {
   "cell_type": "code",
   "execution_count": 37,
   "metadata": {},
   "outputs": [],
   "source": [
    "# method to return the sentiment scores for a given text\n",
    "def textblob_scores(text):\n",
    "    try:\n",
    "        return TextBlob(text).sentiment\n",
    "    except:\n",
    "        dict() # returns an empty dictionary if there is an issue with the text"
   ]
  },
  {
   "cell_type": "code",
   "execution_count": 38,
   "metadata": {},
   "outputs": [],
   "source": [
    "# find the sentiment polarity/subjectivity scores for all the tweets in our sample dataframe\n",
    "tweets_txtblob = df.tweets.apply(textblob_scores).apply(pd.Series)\n",
    "\n",
    "# creates new columns in with those scores \n",
    "tweet_scores = pd.concat([df, tweets_txtblob], axis =1)"
   ]
  },
  {
   "cell_type": "code",
   "execution_count": 39,
   "metadata": {},
   "outputs": [
    {
     "data": {
      "text/html": [
       "<div>\n",
       "<style scoped>\n",
       "    .dataframe tbody tr th:only-of-type {\n",
       "        vertical-align: middle;\n",
       "    }\n",
       "\n",
       "    .dataframe tbody tr th {\n",
       "        vertical-align: top;\n",
       "    }\n",
       "\n",
       "    .dataframe thead th {\n",
       "        text-align: right;\n",
       "    }\n",
       "</style>\n",
       "<table border=\"1\" class=\"dataframe\">\n",
       "  <thead>\n",
       "    <tr style=\"text-align: right;\">\n",
       "      <th></th>\n",
       "      <th>Unnamed: 0</th>\n",
       "      <th>tweets</th>\n",
       "      <th>labels</th>\n",
       "      <th>textblob_polarity</th>\n",
       "      <th>textblob_subjectivity</th>\n",
       "    </tr>\n",
       "  </thead>\n",
       "  <tbody>\n",
       "    <tr>\n",
       "      <th>11381</th>\n",
       "      <td>17860</td>\n",
       "      <td>ChatGPT is the new Wordle.</td>\n",
       "      <td>bad</td>\n",
       "      <td>0.136364</td>\n",
       "      <td>0.454545</td>\n",
       "    </tr>\n",
       "    <tr>\n",
       "      <th>48111</th>\n",
       "      <td>55895</td>\n",
       "      <td>ChatGPT is so convenient and scary AF at the s...</td>\n",
       "      <td>bad</td>\n",
       "      <td>-0.250000</td>\n",
       "      <td>0.562500</td>\n",
       "    </tr>\n",
       "    <tr>\n",
       "      <th>33515</th>\n",
       "      <td>95859</td>\n",
       "      <td>ChatGPT, Galactica, and the Progress Trap http...</td>\n",
       "      <td>neutral</td>\n",
       "      <td>0.000000</td>\n",
       "      <td>0.000000</td>\n",
       "    </tr>\n",
       "    <tr>\n",
       "      <th>8897</th>\n",
       "      <td>32610</td>\n",
       "      <td>📰 ChatGPT passes the 2022 AP Computer Science ...</td>\n",
       "      <td>good</td>\n",
       "      <td>0.400000</td>\n",
       "      <td>0.800000</td>\n",
       "    </tr>\n",
       "    <tr>\n",
       "      <th>38519</th>\n",
       "      <td>67054</td>\n",
       "      <td>ChatGPT is an unfair advantage fr</td>\n",
       "      <td>bad</td>\n",
       "      <td>-0.500000</td>\n",
       "      <td>1.000000</td>\n",
       "    </tr>\n",
       "  </tbody>\n",
       "</table>\n",
       "</div>"
      ],
      "text/plain": [
       "       Unnamed: 0                                             tweets   labels  \\\n",
       "11381       17860                         ChatGPT is the new Wordle.      bad   \n",
       "48111       55895  ChatGPT is so convenient and scary AF at the s...      bad   \n",
       "33515       95859  ChatGPT, Galactica, and the Progress Trap http...  neutral   \n",
       "8897        32610  📰 ChatGPT passes the 2022 AP Computer Science ...     good   \n",
       "38519       67054                  ChatGPT is an unfair advantage fr      bad   \n",
       "\n",
       "       textblob_polarity  textblob_subjectivity  \n",
       "11381           0.136364               0.454545  \n",
       "48111          -0.250000               0.562500  \n",
       "33515           0.000000               0.000000  \n",
       "8897            0.400000               0.800000  \n",
       "38519          -0.500000               1.000000  "
      ]
     },
     "execution_count": 39,
     "metadata": {},
     "output_type": "execute_result"
    }
   ],
   "source": [
    "# renames columns so we can make sense of them \n",
    "tweet_scores.rename(columns={0: 'textblob_polarity', 1: 'textblob_subjectivity'}, inplace=True)\n",
    "\n",
    "tweet_scores.sample(5)"
   ]
  },
  {
   "cell_type": "markdown",
   "metadata": {},
   "source": [
    "#### 2. Sentiment Analysis using NLTK"
   ]
  },
  {
   "cell_type": "markdown",
   "metadata": {},
   "source": [
    "[`NLTK`](https://www.nltk.org/) has has a  `SentimentintensityAnalyzer` module for sentiment analysis which uses the [**Vader model**](https://ojs.aaai.org/index.php/ICWSM/article/view/14550). Vader uses both a sentiment valence lexicon alongside rule-based modifiers to determine sentiment scores. **Valence** refers to the direction and intensity of a score (\"worst\" vs \"bad\" vs \"best\").\n",
    "\n",
    "Unlike the sentiment scores from `TextBlob`, the scores for individual words in `Vader` range from -4 (most negative) to +4 (most positive)."
   ]
  },
  {
   "cell_type": "code",
   "execution_count": 40,
   "metadata": {},
   "outputs": [
    {
     "name": "stderr",
     "output_type": "stream",
     "text": [
      "[nltk_data] Downloading package vader_lexicon to\n",
      "[nltk_data]     C:\\Users\\rolando\\AppData\\Roaming\\nltk_data...\n",
      "[nltk_data]   Package vader_lexicon is already up-to-date!\n"
     ]
    }
   ],
   "source": [
    "import nltk\n",
    "from nltk.sentiment.vader import SentimentIntensityAnalyzer\n",
    "nltk.download('vader_lexicon')\n",
    "\n",
    "# initialize the Sentiment Intensity Analyzer\n",
    "sid = SentimentIntensityAnalyzer()"
   ]
  },
  {
   "cell_type": "markdown",
   "metadata": {},
   "source": [
    "We can take a look into the lexicon to see the scores of some common emotive words."
   ]
  },
  {
   "cell_type": "code",
   "execution_count": 41,
   "metadata": {},
   "outputs": [
    {
     "name": "stdout",
     "output_type": "stream",
     "text": [
      "Score for 'sad': -2.1\n",
      "Score for 'happy': 2.7\n"
     ]
    }
   ],
   "source": [
    "print(f\"Score for 'sad': {sid.lexicon['sad']}\")\n",
    "print(f\"Score for 'happy': {sid.lexicon['happy']}\")"
   ]
  },
  {
   "cell_type": "markdown",
   "metadata": {},
   "source": [
    "Below we can see how rule-based modifiers affect the overall score of a text. \n",
    "\n",
    "The `polarity_scores` method returns four values: `neg` (negative), `neu` (neutral), `pos` (positive), and `compound`. \n",
    "\n",
    "The negative, neutral, and positive are standardized scores that range from 0-1 and add up to 1, while the compound score is normalized on a -1 (negative) to 1 (positive) range. "
   ]
  },
  {
   "cell_type": "code",
   "execution_count": 42,
   "metadata": {},
   "outputs": [
    {
     "data": {
      "text/html": [
       "<div>\n",
       "<style scoped>\n",
       "    .dataframe tbody tr th:only-of-type {\n",
       "        vertical-align: middle;\n",
       "    }\n",
       "\n",
       "    .dataframe tbody tr th {\n",
       "        vertical-align: top;\n",
       "    }\n",
       "\n",
       "    .dataframe thead th {\n",
       "        text-align: right;\n",
       "    }\n",
       "</style>\n",
       "<table border=\"1\" class=\"dataframe\">\n",
       "  <thead>\n",
       "    <tr style=\"text-align: right;\">\n",
       "      <th></th>\n",
       "      <th>input</th>\n",
       "      <th>neg</th>\n",
       "      <th>neu</th>\n",
       "      <th>pos</th>\n",
       "      <th>compound</th>\n",
       "    </tr>\n",
       "  </thead>\n",
       "  <tbody>\n",
       "    <tr>\n",
       "      <th>0</th>\n",
       "      <td>that was good</td>\n",
       "      <td>0.000</td>\n",
       "      <td>0.408</td>\n",
       "      <td>0.592</td>\n",
       "      <td>0.4404</td>\n",
       "    </tr>\n",
       "    <tr>\n",
       "      <th>1</th>\n",
       "      <td>that was GOOD</td>\n",
       "      <td>0.000</td>\n",
       "      <td>0.355</td>\n",
       "      <td>0.645</td>\n",
       "      <td>0.5622</td>\n",
       "    </tr>\n",
       "    <tr>\n",
       "      <th>2</th>\n",
       "      <td>that was good!</td>\n",
       "      <td>0.000</td>\n",
       "      <td>0.385</td>\n",
       "      <td>0.615</td>\n",
       "      <td>0.4926</td>\n",
       "    </tr>\n",
       "    <tr>\n",
       "      <th>3</th>\n",
       "      <td>that was good!!</td>\n",
       "      <td>0.000</td>\n",
       "      <td>0.365</td>\n",
       "      <td>0.635</td>\n",
       "      <td>0.5399</td>\n",
       "    </tr>\n",
       "    <tr>\n",
       "      <th>4</th>\n",
       "      <td>that was good!!!</td>\n",
       "      <td>0.000</td>\n",
       "      <td>0.346</td>\n",
       "      <td>0.654</td>\n",
       "      <td>0.5826</td>\n",
       "    </tr>\n",
       "    <tr>\n",
       "      <th>5</th>\n",
       "      <td>that was extremely good</td>\n",
       "      <td>0.000</td>\n",
       "      <td>0.484</td>\n",
       "      <td>0.516</td>\n",
       "      <td>0.4927</td>\n",
       "    </tr>\n",
       "    <tr>\n",
       "      <th>6</th>\n",
       "      <td>that was good, but not great</td>\n",
       "      <td>0.427</td>\n",
       "      <td>0.385</td>\n",
       "      <td>0.188</td>\n",
       "      <td>-0.5409</td>\n",
       "    </tr>\n",
       "  </tbody>\n",
       "</table>\n",
       "</div>"
      ],
      "text/plain": [
       "                          input    neg    neu    pos  compound\n",
       "0                 that was good  0.000  0.408  0.592    0.4404\n",
       "1                 that was GOOD  0.000  0.355  0.645    0.5622\n",
       "2                that was good!  0.000  0.385  0.615    0.4926\n",
       "3               that was good!!  0.000  0.365  0.635    0.5399\n",
       "4              that was good!!!  0.000  0.346  0.654    0.5826\n",
       "5       that was extremely good  0.000  0.484  0.516    0.4927\n",
       "6  that was good, but not great  0.427  0.385  0.188   -0.5409"
      ]
     },
     "execution_count": 42,
     "metadata": {},
     "output_type": "execute_result"
    }
   ],
   "source": [
    "input_text = [\"that was good\", \"that was GOOD\" ,\"that was good!\", \"that was good!!\", \n",
    "              \"that was good!!!\", \"that was extremely good\", \"that was good, but not great\"]\n",
    "\n",
    "pd.DataFrame([{'input':text} | sid.polarity_scores(text) for text in input_text])"
   ]
  },
  {
   "cell_type": "code",
   "execution_count": 43,
   "metadata": {},
   "outputs": [],
   "source": [
    "def vader_scores(text):\n",
    "    try:\n",
    "        return sid.polarity_scores(text)\n",
    "    except:\n",
    "        return dict()\n",
    "\n",
    "\n",
    "tweets_vader = df.tweets.apply(vader_scores).apply(pd.Series)\n",
    "tweet_scores = pd.concat([tweet_scores, tweets_vader], axis =1)"
   ]
  },
  {
   "cell_type": "code",
   "execution_count": 44,
   "metadata": {},
   "outputs": [],
   "source": [
    "tweet_scores.rename(columns={\"neg\": \"vader_neg\", \"neu\": \"vader_neu\", \"pos\": \"vader_pos\", \"compound\":\"vader_compound\"}, inplace=True)"
   ]
  },
  {
   "cell_type": "code",
   "execution_count": 45,
   "metadata": {},
   "outputs": [
    {
     "data": {
      "text/html": [
       "<div>\n",
       "<style scoped>\n",
       "    .dataframe tbody tr th:only-of-type {\n",
       "        vertical-align: middle;\n",
       "    }\n",
       "\n",
       "    .dataframe tbody tr th {\n",
       "        vertical-align: top;\n",
       "    }\n",
       "\n",
       "    .dataframe thead th {\n",
       "        text-align: right;\n",
       "    }\n",
       "</style>\n",
       "<table border=\"1\" class=\"dataframe\">\n",
       "  <thead>\n",
       "    <tr style=\"text-align: right;\">\n",
       "      <th></th>\n",
       "      <th>Unnamed: 0</th>\n",
       "      <th>tweets</th>\n",
       "      <th>labels</th>\n",
       "      <th>textblob_polarity</th>\n",
       "      <th>textblob_subjectivity</th>\n",
       "      <th>vader_neg</th>\n",
       "      <th>vader_neu</th>\n",
       "      <th>vader_pos</th>\n",
       "      <th>vader_compound</th>\n",
       "    </tr>\n",
       "  </thead>\n",
       "  <tbody>\n",
       "    <tr>\n",
       "      <th>23354</th>\n",
       "      <td>77454</td>\n",
       "      <td>What is #ChatGPT https://t.co/x7nCAyTVXh</td>\n",
       "      <td>bad</td>\n",
       "      <td>0.000000</td>\n",
       "      <td>0.000000</td>\n",
       "      <td>0.000</td>\n",
       "      <td>1.000</td>\n",
       "      <td>0.000</td>\n",
       "      <td>0.0000</td>\n",
       "    </tr>\n",
       "    <tr>\n",
       "      <th>47570</th>\n",
       "      <td>91371</td>\n",
       "      <td>Did anybody notice this scrollbar beauty in th...</td>\n",
       "      <td>good</td>\n",
       "      <td>0.000000</td>\n",
       "      <td>0.000000</td>\n",
       "      <td>0.000</td>\n",
       "      <td>0.833</td>\n",
       "      <td>0.167</td>\n",
       "      <td>0.5859</td>\n",
       "    </tr>\n",
       "    <tr>\n",
       "      <th>10550</th>\n",
       "      <td>154626</td>\n",
       "      <td>Sorry for the cursing, but the man is such a f...</td>\n",
       "      <td>bad</td>\n",
       "      <td>-0.433333</td>\n",
       "      <td>0.766667</td>\n",
       "      <td>0.208</td>\n",
       "      <td>0.792</td>\n",
       "      <td>0.000</td>\n",
       "      <td>-0.7218</td>\n",
       "    </tr>\n",
       "    <tr>\n",
       "      <th>23285</th>\n",
       "      <td>84760</td>\n",
       "      <td>For this brief moment in time there are only t...</td>\n",
       "      <td>bad</td>\n",
       "      <td>0.000000</td>\n",
       "      <td>0.666667</td>\n",
       "      <td>0.000</td>\n",
       "      <td>1.000</td>\n",
       "      <td>0.000</td>\n",
       "      <td>0.0000</td>\n",
       "    </tr>\n",
       "    <tr>\n",
       "      <th>36861</th>\n",
       "      <td>103627</td>\n",
       "      <td>I asked chatGPT to imagine itself becoming sen...</td>\n",
       "      <td>bad</td>\n",
       "      <td>0.350000</td>\n",
       "      <td>0.658333</td>\n",
       "      <td>0.046</td>\n",
       "      <td>0.954</td>\n",
       "      <td>0.000</td>\n",
       "      <td>-0.1531</td>\n",
       "    </tr>\n",
       "    <tr>\n",
       "      <th>26680</th>\n",
       "      <td>134833</td>\n",
       "      <td>The Brilliance and Weirdness of ChatGPT https:...</td>\n",
       "      <td>neutral</td>\n",
       "      <td>0.000000</td>\n",
       "      <td>0.000000</td>\n",
       "      <td>0.176</td>\n",
       "      <td>0.463</td>\n",
       "      <td>0.361</td>\n",
       "      <td>0.4588</td>\n",
       "    </tr>\n",
       "    <tr>\n",
       "      <th>20476</th>\n",
       "      <td>66978</td>\n",
       "      <td>Just tried #ChatGPT.  I seem to have broken it...</td>\n",
       "      <td>bad</td>\n",
       "      <td>0.112500</td>\n",
       "      <td>0.700000</td>\n",
       "      <td>0.222</td>\n",
       "      <td>0.589</td>\n",
       "      <td>0.190</td>\n",
       "      <td>-0.1260</td>\n",
       "    </tr>\n",
       "    <tr>\n",
       "      <th>40239</th>\n",
       "      <td>213704</td>\n",
       "      <td>Some thoughts @PaquitoFalder and I have on how...</td>\n",
       "      <td>bad</td>\n",
       "      <td>0.000000</td>\n",
       "      <td>0.100000</td>\n",
       "      <td>0.094</td>\n",
       "      <td>0.906</td>\n",
       "      <td>0.000</td>\n",
       "      <td>-0.3612</td>\n",
       "    </tr>\n",
       "    <tr>\n",
       "      <th>35946</th>\n",
       "      <td>46099</td>\n",
       "      <td>AI-generated answers temporarily banned on cod...</td>\n",
       "      <td>bad</td>\n",
       "      <td>0.000000</td>\n",
       "      <td>0.000000</td>\n",
       "      <td>0.214</td>\n",
       "      <td>0.786</td>\n",
       "      <td>0.000</td>\n",
       "      <td>-0.4588</td>\n",
       "    </tr>\n",
       "    <tr>\n",
       "      <th>5984</th>\n",
       "      <td>82907</td>\n",
       "      <td>I have a 94 page google doc saved with my ONE ...</td>\n",
       "      <td>neutral</td>\n",
       "      <td>0.000000</td>\n",
       "      <td>0.000000</td>\n",
       "      <td>0.000</td>\n",
       "      <td>0.823</td>\n",
       "      <td>0.177</td>\n",
       "      <td>0.4215</td>\n",
       "    </tr>\n",
       "  </tbody>\n",
       "</table>\n",
       "</div>"
      ],
      "text/plain": [
       "       Unnamed: 0                                             tweets   labels  \\\n",
       "23354       77454           What is #ChatGPT https://t.co/x7nCAyTVXh      bad   \n",
       "47570       91371  Did anybody notice this scrollbar beauty in th...     good   \n",
       "10550      154626  Sorry for the cursing, but the man is such a f...      bad   \n",
       "23285       84760  For this brief moment in time there are only t...      bad   \n",
       "36861      103627  I asked chatGPT to imagine itself becoming sen...      bad   \n",
       "26680      134833  The Brilliance and Weirdness of ChatGPT https:...  neutral   \n",
       "20476       66978  Just tried #ChatGPT.  I seem to have broken it...      bad   \n",
       "40239      213704  Some thoughts @PaquitoFalder and I have on how...      bad   \n",
       "35946       46099  AI-generated answers temporarily banned on cod...      bad   \n",
       "5984        82907  I have a 94 page google doc saved with my ONE ...  neutral   \n",
       "\n",
       "       textblob_polarity  textblob_subjectivity  vader_neg  vader_neu  \\\n",
       "23354           0.000000               0.000000      0.000      1.000   \n",
       "47570           0.000000               0.000000      0.000      0.833   \n",
       "10550          -0.433333               0.766667      0.208      0.792   \n",
       "23285           0.000000               0.666667      0.000      1.000   \n",
       "36861           0.350000               0.658333      0.046      0.954   \n",
       "26680           0.000000               0.000000      0.176      0.463   \n",
       "20476           0.112500               0.700000      0.222      0.589   \n",
       "40239           0.000000               0.100000      0.094      0.906   \n",
       "35946           0.000000               0.000000      0.214      0.786   \n",
       "5984            0.000000               0.000000      0.000      0.823   \n",
       "\n",
       "       vader_pos  vader_compound  \n",
       "23354      0.000          0.0000  \n",
       "47570      0.167          0.5859  \n",
       "10550      0.000         -0.7218  \n",
       "23285      0.000          0.0000  \n",
       "36861      0.000         -0.1531  \n",
       "26680      0.361          0.4588  \n",
       "20476      0.190         -0.1260  \n",
       "40239      0.000         -0.3612  \n",
       "35946      0.000         -0.4588  \n",
       "5984       0.177          0.4215  "
      ]
     },
     "execution_count": 45,
     "metadata": {},
     "output_type": "execute_result"
    }
   ],
   "source": [
    "tweet_scores.sample(10)"
   ]
  },
  {
   "cell_type": "code",
   "execution_count": 46,
   "metadata": {},
   "outputs": [
    {
     "name": "stdout",
     "output_type": "stream",
     "text": [
      "Dear friends and colleagues! I wish you a wonderful festive time, health, happiness, and professional success! To celebrate with #AI, I asked #chatGPT to write me a romantic Xmas poem, and it was lovely https://t.co/CeZk9ObNsc 😀 All the best! Elena https://t.co/UC2u3L84nh\n"
     ]
    }
   ],
   "source": [
    "bestlist = tweet_scores.sort_values(\"vader_compound\", ascending=False).tweets.tolist()\n",
    "print(bestlist[0])"
   ]
  },
  {
   "cell_type": "code",
   "execution_count": 47,
   "metadata": {},
   "outputs": [
    {
     "name": "stdout",
     "output_type": "stream",
     "text": [
      "pov\\nits ur rotation of the sun\\nu have a large spine dat hurts (boohoo)\\nu stay in bed til 9 cause cozy\\ngets out of bed\\nchatgpt not solving mystery\\nblender rass =crap\\nFever gone but itchy. Hungry and eat doggy food. Itchy itchy Scott came. Ugly face so killed him. Tasty. 4. Itchy.\n"
     ]
    }
   ],
   "source": [
    "worstlist = tweet_scores.sort_values(\"vader_compound\", ascending=True).tweets.tolist()\n",
    "print(worstlist[0])"
   ]
  },
  {
   "cell_type": "markdown",
   "metadata": {},
   "source": [
    "We can plot the composite scores from `TextBlob` against `NLTK`'s Vader module to get a sense of how they compare."
   ]
  },
  {
   "cell_type": "code",
   "execution_count": 48,
   "metadata": {},
   "outputs": [
    {
     "data": {
      "text/plain": [
       "<Axes: xlabel='textblob_polarity', ylabel='vader_compound'>"
      ]
     },
     "execution_count": 48,
     "metadata": {},
     "output_type": "execute_result"
    },
    {
     "data": {
      "image/png": "[encoded data removed]",
      "text/plain": [
       "<Figure size 640x480 with 1 Axes>"
      ]
     },
     "metadata": {},
     "output_type": "display_data"
    }
   ],
   "source": [
    "import seaborn as sns\n",
    "\n",
    "sns.regplot(data = tweet_scores, x=\"textblob_polarity\", y = \"vader_compound\", scatter_kws = {\"alpha\":0.05})"
   ]
  },
  {
   "cell_type": "markdown",
   "metadata": {},
   "source": [
    "## Additional Resources"
   ]
  },
  {
   "cell_type": "markdown",
   "metadata": {},
   "source": [
    "1. [Text and Data Mining Libguide](https://guides.lib.unc.edu/tdm) - some best practices tips\n",
    "2. [Python Crash Course Material](https://unc-libraries-data.github.io/Python/) - intro to Python and Pandas utilities\n",
    "3. [Text Analysis Seminar Google Drive](https://drive.google.com/drive/folders/159upIOGEYZu2Qdbu9NdyGUYaG5OK9-OO)\n",
    "    - if you want to receive emails, add your information to the [roster](https://docs.google.com/spreadsheets/d/1Z6T7Y-bq33C9TMQ7MjzKIdvW6g5wzi4-cJQwtriAGKk/edit#gid=0)\n",
    "4. [Library Data Services](https://library.unc.edu/data/) - get in contact with librarians"
   ]
  }
 ],
 "metadata": {
  "kernelspec": {
   "display_name": "base",
   "language": "python",
   "name": "python3"
  },
  "language_info": {
   "codemirror_mode": {
    "name": "ipython",
    "version": 3
   },
   "file_extension": ".py",
   "mimetype": "text/x-python",
   "name": "python",
   "nbconvert_exporter": "python",
   "pygments_lexer": "ipython3",
   "version": "3.11.5"
  }
 },
 "nbformat": 4,
 "nbformat_minor": 2
}
