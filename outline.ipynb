{
 "cells": [
  {
   "cell_type": "markdown",
   "metadata": {},
   "source": [
    "# Text Analysis With Python "
   ]
  },
  {
   "cell_type": "markdown",
   "metadata": {},
   "source": [
    "## Introduction - Lorin\n",
    "\n",
    "To follow along...\n",
    "\n",
    "Packages that need to be installed\n",
    "\n",
    "pandas\n",
    "sklearn\n"
   ]
  },
  {
   "cell_type": "markdown",
   "metadata": {},
   "source": [
    "## Python Packages often used for Text Analysis - Rolando\n",
    "- Directly related to Text Analysis\n",
    "    - NLTK\n",
    "    - spaCy\n",
    "    - Textblob\n",
    "    - Gensim\n",
    "    - Transformers\n",
    "\n",
    "- Useful tools for text analysis\n",
    "    - Pandas\n",
    "    - Scikit-Learn\n",
    "    - Matplotlib\n"
   ]
  },
  {
   "cell_type": "markdown",
   "metadata": {},
   "source": [
    "## Mini-project 1: Word Frequencies (1:05) - Rolando\n",
    "\n",
    "#### Data: [Jane Eyre - Charlotte Brontë](https://www.gutenberg.org/files/1260/1260-h/1260-h.htm)\n",
    "#### Tools: NLTK, Scitkit-learn, Pandas\n",
    "#### Method: Simple N-grams (Document vs Chapters), Maybe TF-IDF, "
   ]
  },
  {
   "cell_type": "markdown",
   "metadata": {},
   "source": [
    "##### 1. Load in data"
   ]
  },
  {
   "cell_type": "code",
   "execution_count": 1,
   "metadata": {},
   "outputs": [],
   "source": [
    "import os \n",
    "\n",
    "chapter_texts = []\n",
    "chs_dir = './datasets/jane_eyre_bronte/'\n",
    "for ch in os.listdir(chs_dir):\n",
    "    ch_path = os.path.join(chs_dir, ch)\n",
    "    with open(ch_path, 'r') as f:\n",
    "        f.readline() # reading through the first line\n",
    "        txt = f.readlines()\n",
    "        chapter_texts.append(txt)"
   ]
  },
  {
   "cell_type": "code",
   "execution_count": 7,
   "metadata": {},
   "outputs": [
    {
     "data": {
      "text/plain": [
       "['\\n',\n",
       " '\\n',\n",
       " 'A splendid Midsummer shone over England: skies so pure, suns so radiant\\n',\n",
       " 'as were then seen in long succession, seldom favour even singly, our\\n',\n",
       " 'wave-girt land. It was as if a band of Italian days had come from the\\n',\n",
       " 'South, like a flock of glorious passenger birds, and lighted to rest\\n',\n",
       " 'them on the cliffs of Albion. The hay was all got in; the fields round\\n',\n",
       " 'Thornfield were green and shorn; the roads white and baked; the trees\\n',\n",
       " 'were in their dark prime; hedge and wood, full-leaved and deeply\\n',\n",
       " 'tinted, contrasted well with the sunny hue of the cleared meadows\\n']"
      ]
     },
     "execution_count": 7,
     "metadata": {},
     "output_type": "execute_result"
    }
   ],
   "source": [
    "# the first ten lines from the first chapter\n",
    "chapter_texts[0][:10]"
   ]
  },
  {
   "cell_type": "markdown",
   "metadata": {},
   "source": [
    "##### 2. Clean text"
   ]
  },
  {
   "cell_type": "code",
   "execution_count": 22,
   "metadata": {},
   "outputs": [],
   "source": [
    "import re\n",
    "\n",
    "# join the lines together first with nested list comprehensions\n",
    "joined_chs = [''.join([line for line in ch if line != '\\n']) for ch in chapter_texts]\n",
    "\n",
    "# replace break lines (\\n) with spaces\n",
    "no_bl_chs = [re.sub(r'\\n', ' ', ch) for ch in joined_chs]\n",
    "\n",
    "# remove punctuation\n",
    "no_punct_chs = [re.sub(r'[:;.,_“”\\']', '', ch) for ch in no_bl_chs]"
   ]
  },
  {
   "cell_type": "markdown",
   "metadata": {},
   "source": [
    "#### 3. Vectorize Text\n",
    "Using Scikit-learn's [Count Vectorizer](https://scikit-learn.org/stable/modules/generated/sklearn.feature_extraction.text.CountVectorizer.html) and [TFIDF Vectorizer](https://scikit-learn.org/stable/modules/generated/sklearn.feature_extraction.text.TfidfVectorizer.html)"
   ]
  },
  {
   "cell_type": "code",
   "execution_count": 35,
   "metadata": {},
   "outputs": [],
   "source": [
    "import pandas as pd\n",
    "from nltk.corpus import stopwords\n",
    "from sklearn.feature_extraction.text import CountVectorizer, TfidfVectorizer\n",
    "\n",
    "stopwords = set(stopwords.words('english'))\n",
    "\n",
    "# demonstrating some of the parameters within Count Vectorizer\n",
    "vc = CountVectorizer(lowercase=True, \n",
    "                     stop_words=stopwords,\n",
    "                     ngram_range=(1,1),\n",
    "                     max_df=0.9,\n",
    "                     min_df=0.1)\n",
    "\n",
    "vectors = vc.fit_transform(no_punct_chs)\n"
   ]
  },
  {
   "cell_type": "code",
   "execution_count": 36,
   "metadata": {},
   "outputs": [
    {
     "name": "stdout",
     "output_type": "stream",
     "text": [
      "{'splendid': 2953, 'shone': 2805, 'england': 1012, 'pure': 2416, 'radiant': 2452, 'seen': 2735, 'seldom': 2738, 'favour': 1156, 'even': 1050, 'wave': 3430, 'land': 1748, 'band': 240, 'italian': 1687, 'days': 735, 'south': 2929, 'flock': 1226, 'glorious': 1383, 'birds': 304, 'lighted': 1804, 'rest': 2589, 'hay': 1479, 'got': 1397, 'fields': 1189, 'round': 2654, 'thornfield': 3184, 'green': 1421, 'roads': 2633, 'white': 3466, 'trees': 3259, 'dark': 723, 'hedge': 1494, 'wood': 3511, 'full': 1303, 'deeply': 758, 'sunny': 3085, 'cleared': 528, 'adèle': 68, 'weary': 3439, 'gathering': 1328, 'wild': 3476, 'lane': 1750, 'half': 1447, 'gone': 1395, 'bed': 262, 'sun': 3082, 'watched': 3427, 'drop': 930, 'asleep': 187, 'sought': 2922, 'garden': 1320, 'sweetest': 3113, 'twenty': 3284, 'four': 1274, 'fires': 1208, 'wasted': 3425, 'dew': 827, 'fell': 1177, 'cool': 657, 'plain': 2284, 'scorched': 2706, 'simple': 2839, 'state': 2977, 'clouds': 544, 'spread': 2959, 'solemn': 2901, 'purple': 2419, 'burning': 401, 'red': 2503, 'flame': 1219, 'point': 2304, 'hill': 1511, 'high': 1509, 'wide': 3473, 'soft': 2894, 'heaven': 1492, 'east': 961, 'charm': 482, 'fine': 1202, 'deep': 756, 'blue': 329, 'modest': 1991, 'gem': 1334, 'rising': 2627, 'solitary': 2903, 'star': 2971, 'moon': 2002, 'beneath': 286, 'horizon': 1530, 'walked': 3398, 'pavement': 2226, 'known': 1736, 'scent': 2699, 'window': 3483, 'library': 1797, 'casement': 445, 'open': 2149, 'knew': 1729, 'thence': 3173, 'went': 3448, 'apart': 140, 'orchard': 2158, 'nook': 2090, 'grounds': 1428, 'sheltered': 2795, 'bloomed': 324, 'flowers': 1231, 'wall': 3401, 'shut': 2822, 'side': 2825, 'screened': 2710, 'lawn': 1765, 'bottom': 349, 'sunk': 3084, 'sole': 2900, 'separation': 2753, 'lonely': 1844, 'walk': 3397, 'bordered': 343, 'giant': 1356, 'horse': 1533, 'chestnut': 498, 'base': 244, 'seat': 2718, 'led': 1783, 'wander': 3403, 'unseen': 3313, 'silence': 2833, 'reigned': 2522, 'gathered': 1327, 'haunt': 1477, 'shade': 2773, 'flower': 1230, 'fruit': 1301, 'upper': 3318, 'part': 2202, 'cast': 446, 'quarter': 2434, 'step': 2987, 'stayed': 2982, 'sound': 2925, 'sight': 2829, 'warning': 3419, 'sweet': 3112, 'briar': 373, 'pink': 2277, 'rose': 2650, 'yielding': 3548, 'evening': 1051, 'sacrifice': 2672, 'new': 2076, 'neither': 2070, 'rochester': 2637, 'listen': 1825, 'hear': 1483, 'mile': 1961, 'moving': 2029, 'form': 1258, 'visible': 3372, 'coming': 567, 'audible': 216, 'make': 1882, 'wicket': 3472, 'leading': 1769, 'shrubbery': 2818, 'entering': 1021, 'aside': 184, 'ivy': 1688, 'recess': 2493, 'stay': 2981, 'return': 2607, 'whence': 3455, 'sit': 2856, 'pleasant': 2295, 'antique': 134, 'attractive': 215, 'lifting': 1803, 'tree': 3258, 'branches': 361, 'large': 1754, 'taking': 3124, 'ripe': 2624, 'cherry': 496, 'stooping': 3004, 'towards': 3233, 'either': 978, 'admire': 56, 'beads': 247, 'goes': 1391, 'plant': 2288, 'foot': 1246, 'sees': 2736, 'examine': 1066, 'back': 234, 'occupied': 2132, 'perhaps': 2243, 'softly': 2896, 'slip': 2875, 'away': 229, 'unnoticed': 3312, 'turf': 3279, 'gravel': 1415, 'betray': 296, 'standing': 2969, 'among': 115, 'beds': 264, 'yard': 3539, 'distant': 872, 'pass': 2213, 'apparently': 145, 'engaged': 1011, 'get': 1351, 'meditated': 1930, 'crossed': 693, 'shadow': 2776, 'thrown': 3199, 'risen': 2626, 'quietly': 2444, 'without': 3501, 'turning': 3282, 'jane': 1690, 'fellow': 1178, 'noise': 2087, 'behind': 276, 'feel': 1172, 'started': 2974, 'approached': 156, 'wings': 3486, 'rather': 2466, 'west': 3450, 'indian': 1606, 'often': 2143, 'gay': 1330, 'night': 2080, 'also': 104, 'followed': 1240, 'reached': 2472, 'turn': 3280, 'lovely': 1861, 'shame': 2782, 'surely': 3098, 'wish': 3492, 'sunset': 3086, 'thus': 3203, 'meeting': 1934, 'faults': 1155, 'tongue': 3220, 'sometimes': 2908, 'prompt': 2387, 'enough': 1018, 'answer': 129, 'times': 3207, 'excuse': 1080, 'always': 109, 'crisis': 691, 'pretext': 2361, 'wanted': 3409, 'painful': 2181, 'embarrassment': 992, 'alone': 100, 'shadowy': 2778, 'find': 1200, 'reason': 2484, 'leaving': 1782, 'thoughts': 3186, 'bent': 289, 'means': 1923, 'composed': 591, 'grave': 1414, 'became': 257, 'ashamed': 183, 'feeling': 1173, 'confusion': 613, 'evil': 1061, 'lie': 1799, 'mind': 1966, 'unconscious': 3295, 'quiet': 2443, 'recommenced': 2500, 'entered': 1020, 'slowly': 2878, 'strayed': 3022, 'direction': 843, 'place': 2281, 'summer': 3078, 'sir': 2853, 'become': 259, 'degree': 765, 'attached': 203, 'natural': 2051, 'deal': 739, 'organ': 2163, 'indeed': 1602, 'comprehend': 592, 'perceive': 2237, 'acquired': 38, 'regard': 2515, 'child': 499, 'dame': 715, 'fairfax': 1125, 'different': 832, 'ways': 3434, 'affection': 70, 'sorry': 2919, 'pity': 2280, 'sighed': 2828, 'paused': 2225, 'way': 3433, 'events': 1053, 'continued': 643, 'presently': 2356, 'sooner': 2913, 'settled': 2766, 'resting': 2591, 'voice': 3384, 'calls': 419, 'rise': 2625, 'move': 2025, 'repose': 2567, 'expired': 1095, 'leave': 1780, 'believe': 279, 'janet': 1691, 'blow': 327, 'let': 1790, 'prostrate': 2398, 'ready': 2477, 'order': 2159, 'march': 1899, 'comes': 564, 'give': 1361, 'going': 1392, 'married': 1903, 'act': 40, 'usual': 3327, 'hit': 1516, 'nail': 2044, 'straight': 3013, 'head': 1480, 'miss': 1978, 'eyre': 1113, 'remember': 2542, 'plainly': 2285, 'intimated': 1670, 'intention': 1657, 'old': 2145, 'neck': 2062, 'sacred': 2671, 'enter': 1019, 'estate': 1045, 'ingram': 1625, 'bosom': 348, 'short': 2807, 'excellent': 1070, 'thing': 3177, 'beautiful': 255, 'blanche': 310, 'saying': 2690, 'lady': 1743, 'clock': 534, 'flying': 1234, 'home': 1523, 'remind': 2545, 'respect': 2581, 'humility': 1547, 'dependent': 789, 'position': 2321, 'case': 444, 'sort': 2920, 'conveyed': 653, 'suggestion': 3072, 'character': 476, 'try': 3276, 'forget': 1252, 'notice': 2097, 'wisdom': 3491, 'law': 1764, 'action': 43, 'school': 2702, 'situation': 2860, 'advertise': 66, 'immediately': 1577, 'meantime': 1925, 'suppose': 3095, 'shelter': 2794, 'stopped': 3006, 'risk': 2628, 'sentence': 2748, 'command': 568, 'month': 1999, 'hope': 1526, 'employment': 998, 'asylum': 200, 'thank': 3169, 'oh': 2144, 'need': 2063, 'consider': 627, 'duty': 942, 'done': 888, 'claim': 523, 'upon': 3317, 'assistance': 192, 'render': 2551, 'already': 103, 'future': 1310, 'mother': 2014, 'suit': 3073, 'education': 968, 'five': 1216, 'daughters': 731, 'mrs': 2030, 'lodge': 1840, 'warm': 3414, 'hearted': 1485, 'people': 2236, 'matter': 1917, 'girl': 1359, 'sense': 2744, 'object': 2112, 'voyage': 3389, 'distance': 871, 'sea': 2713, 'almost': 99, 'involuntarily': 1677, 'free': 1281, 'tears': 3146, 'cry': 700, 'however': 1542, 'struck': 3039, 'cold': 554, 'colder': 555, 'destined': 812, 'rush': 2666, 'master': 1912, 'whose': 3470, 'remembrance': 2544, 'ocean': 2134, 'wealth': 3437, 'caste': 447, 'custom': 711, 'naturally': 2052, 'inevitably': 1614, 'loved': 1860, 'sure': 3097, 'certain': 459, 'fancy': 1139, 'country': 670, 'friends': 1292, 'spend': 2946, 'remains': 2538, 'close': 535, 'talk': 3129, 'parting': 2208, 'stars': 2972, 'shining': 2798, 'yonder': 3549, 'bench': 283, 'roots': 2648, 'peace': 2228, 'together': 3212, 'seated': 2719, 'send': 2741, 'friend': 1289, 'travels': 3250, 'helped': 1501, 'anything': 138, 'queer': 2436, 'especially': 1042, 'string': 3032, 'somewhere': 2910, 'similar': 2838, 'situated': 2859, 'frame': 1277, 'channel': 473, 'hundred': 1550, 'miles': 1962, 'broad': 384, 'us': 3322, 'afraid': 72, 'communion': 579, 'nervous': 2073, 'notion': 2099, 'inwardly': 1680, 'impossible': 1588, 'proceed': 2376, 'singing': 2849, 'listening': 1828, 'endured': 1009, 'longer': 1846, 'obliged': 2115, 'yield': 3546, 'shaken': 2780, 'distress': 877, 'speak': 2937, 'express': 1100, 'impetuous': 1584, 'born': 346, 'emotion': 995, 'stirred': 2996, 'grief': 1424, 'love': 1859, 'within': 3500, 'struggling': 3041, 'right': 2619, 'overcome': 2173, 'live': 1830, 'grieve': 1425, 'lived': 1831, 'delightful': 772, 'momentarily': 1993, 'least': 1779, 'trampled': 3242, 'petrified': 2261, 'buried': 399, 'inferior': 1618, 'minds': 1968, 'excluded': 1079, 'every': 1054, 'glimpse': 1379, 'bright': 378, 'talked': 3130, 'delight': 770, 'original': 2164, 'vigorous': 3365, 'expanded': 1087, 'terror': 3167, 'anguish': 124, 'absolutely': 10, 'torn': 3226, 'necessity': 2061, 'departure': 787, 'looking': 1848, 'death': 741, 'suddenly': 3062, 'placed': 2282, 'shape': 2783, 'noble': 2084, 'woman': 3506, 'bride': 375, 'set': 2763, 'teeth': 3148, 'swear': 3109, 'kept': 1712, 'roused': 2655, 'passion': 2217, 'feelings': 1174, 'bear': 249, 'morsel': 2009, 'bread': 364, 'snatched': 2888, 'lips': 1824, 'living': 1836, 'water': 3429, 'dashed': 728, 'cup': 701, 'poor': 2314, 'obscure': 2116, 'heartless': 1488, 'wrong': 3535, 'soul': 2923, 'god': 1390, 'beauty': 256, 'hard': 1463, 'talking': 3131, 'medium': 1932, 'mortal': 2010, 'flesh': 1224, 'spirit': 2949, 'passed': 2215, 'stood': 3001, 'feet': 1176, 'equal': 1031, 'repeated': 2560, 'added': 49, 'arms': 167, 'breast': 368, 'rejoined': 2524, 'man': 1888, 'wed': 3441, 'sympathy': 3118, 'truly': 3271, 'scorn': 2707, 'union': 3305, 'therefore': 3174, 'spoken': 2956, 'anywhere': 139, 'struggle': 3040, 'frantic': 1280, 'bird': 303, 'desperation': 808, 'human': 1545, 'independent': 1604, 'exert': 1082, 'effort': 974, 'liberty': 1796, 'erect': 1035, 'decide': 746, 'destiny': 813, 'offer': 2138, 'share': 2784, 'play': 2292, 'merely': 1948, 'laugh': 1761, 'ask': 185, 'second': 2720, 'self': 2739, 'best': 293, 'earthly': 957, 'companion': 580, 'fate': 1151, 'choice': 509, 'moments': 1994, 'excited': 1074, 'wind': 3482, 'sweeping': 3111, 'trembled': 3261, 'wandered': 3404, 'indefinite': 1603, 'died': 830, 'song': 2912, 'wept': 3449, 'sat': 2682, 'gently': 1343, 'seriously': 2756, 'spoke': 2955, 'explain': 1096, 'understand': 3296, 'cannot': 426, 'summon': 3079, 'wife': 3475, 'marry': 1905, 'silent': 2834, 'stands': 2970, 'stride': 3029, 'drawing': 907, 'likeness': 1811, 'grasp': 1407, 'doubt': 893, 'entirely': 1026, 'faith': 1127, 'whit': 3464, 'liar': 1795, 'convinced': 655, 'none': 2088, 'taken': 3123, 'pains': 2182, 'prove': 2402, 'reach': 2471, 'fortune': 1268, 'third': 3181, 'supposed': 3096, 'presented': 2355, 'result': 2597, 'coldness': 556, 'strange': 3015, 'small': 2880, 'entreat': 1028, 'accept': 19, 'husband': 1558, 'ejaculated': 979, 'beginning': 272, 'sincerity': 2847, 'world': 3520, 'shilling': 2796, 'given': 1362, 'mine': 1969, 'quickly': 2441, 'moonlight': 2003, 'want': 3408, 'read': 2473, 'countenance': 669, 'scarcely': 2693, 'page': 2177, 'haste': 1468, 'suffer': 3063, 'agitated': 79, 'flushed': 1233, 'strong': 3037, 'workings': 3518, 'features': 1168, 'gleams': 1376, 'torture': 3228, 'exclaimed': 1077, 'searching': 2716, 'faithful': 1128, 'generous': 1337, 'true': 3270, 'real': 2478, 'gratitude': 1413, 'devotion': 825, 'wildly': 3478, 'edward': 969, 'name': 2045, 'earnest': 953, 'sincerely': 2846, 'necessary': 2060, 'satisfy': 2686, 'dear': 740, 'tone': 3218, 'speaking': 2939, 'ear': 950, 'cheek': 488, 'laid': 1744, 'happiness': 1460, 'pardon': 2195, 'subjoined': 3050, 'ere': 1034, 'hold': 1519, 'kindred': 1719, 'less': 1786, 'accent': 17, 'savage': 2687, 'sitting': 2858, 'nightmare': 2081, 'called': 418, 'paradise': 2192, 'bliss': 319, 'drink': 925, 'abundant': 15, 'flow': 1229, 'happy': 1461, 'answered': 130, 'murmured': 2033, 'friendless': 1290, 'guard': 1434, 'cherish': 493, 'solace': 2899, 'maker': 1883, 'judgment': 1702, 'wash': 3421, 'hands': 1451, 'opinion': 2154, 'defy': 763, 'weather': 3440, 'changes': 472, 'livid': 1835, 'vivid': 3382, 'spark': 2935, 'cloud': 543, 'crash': 681, 'dazzled': 736, 'shoulder': 2810, 'rain': 2453, 'rushed': 2667, 'hurried': 1555, 'wet': 3451, 'threshold': 3190, 'shawl': 2788, 'hall': 1448, 'shaking': 2781, 'loosened': 1851, 'hair': 1446, 'observe': 2120, 'lamp': 1747, 'lit': 1829, 'stroke': 3036, 'twelve': 3283, 'hasten': 1469, 'things': 3178, 'darling': 727, 'kissed': 1722, 'widow': 3474, 'pale': 2186, 'amazed': 110, 'smiled': 2882, 'ran': 2456, 'upstairs': 3319, 'explanation': 1098, 'chamber': 466, 'pang': 2188, 'idea': 1562, 'joy': 1700, 'effaced': 971, 'loud': 1858, 'blew': 316, 'fierce': 1191, 'frequent': 1285, 'lightning': 1807, 'gleamed': 1374, 'storm': 3010, 'hours': 1537, 'experienced': 1094, 'fear': 1161, 'awe': 230, 'thrice': 3192, 'door': 890, 'course': 673, 'safe': 2675, 'tranquil': 3243, 'comfort': 565, 'strength': 3026, 'running': 2664, 'circumstance': 519, 'greatly': 1419, 'bad': 236, 'bessie': 292, 'abbot': 1, 'disposed': 869, 'entertain': 1022, 'fact': 1116, 'beside': 290, 'french': 1284, 'conscious': 620, 'moment': 1992, 'mutiny': 2039, 'rendered': 2552, 'liable': 1794, 'slave': 2868, 'resolved': 2580, 'mad': 1873, 'cat': 448, 'cried': 688, 'maid': 1879, 'shocking': 2803, 'conduct': 606, 'strike': 3030, 'young': 3550, 'gentleman': 1341, 'benefactress': 287, 'son': 2911, 'servant': 2757, 'keep': 1709, 'apartment': 141, 'reed': 2504, 'thrust': 3200, 'stool': 3002, 'impulse': 1593, 'spring': 2961, 'pair': 2185, 'arrested': 175, 'instantly': 1644, 'tied': 3206, 'break': 365, 'directly': 845, 'turned': 3281, 'stout': 3012, 'preparation': 2348, 'took': 3221, 'excitement': 1075, 'stir': 2995, 'ascertained': 182, 'really': 2481, 'folded': 1236, 'reply': 2566, 'told': 3216, 'missis': 1982, 'agreed': 84, 'age': 76, 'cover': 677, 'addressing': 54, 'ought': 2170, 'aware': 228, 'keeps': 1711, 'words': 3513, 'recollections': 2499, 'existence': 1085, 'included': 1600, 'kind': 1714, 'reproach': 2569, 'vague': 3334, 'sing': 2848, 'joined': 1698, 'equality': 1032, 'misses': 1979, 'kindly': 1717, 'brought': 392, 'money': 1995, 'humble': 1546, 'agreeable': 83, 'harsh': 1466, 'useful': 3325, 'passionate': 2218, 'rude': 2658, 'besides': 291, 'punish': 2411, 'dead': 738, 'midst': 1957, 'prayers': 2341, 'repent': 2561, 'permitted': 2251, 'chimney': 505, 'fetch': 1183, 'square': 2962, 'slept': 2871, 'unless': 3308, 'chance': 468, 'visitors': 3378, 'gateshead': 1325, 'account': 30, 'contained': 633, 'chambers': 467, 'mansion': 1895, 'supported': 3094, 'massive': 1911, 'hung': 1552, 'curtains': 710, 'centre': 457, 'windows': 3484, 'drawn': 908, 'drapery': 902, 'carpet': 438, 'table': 3120, 'covered': 678, 'crimson': 690, 'walls': 3402, 'colour': 560, 'blush': 330, 'wardrobe': 3413, 'toilet': 3214, 'chairs': 464, 'polished': 2310, 'surrounding': 3103, 'shades': 2775, 'piled': 2273, 'snowy': 2890, 'ample': 117, 'easy': 962, 'chair': 463, 'throne': 3197, 'chill': 502, 'fire': 1207, 'remote': 2548, 'nursery': 2107, 'kitchen': 1724, 'wipe': 3489, 'mirrors': 1974, 'furniture': 1308, 'week': 3443, 'dust': 940, 'intervals': 1667, 'contents': 638, 'secret': 2722, 'drawer': 905, 'miniature': 1970, 'lies': 1800, 'spell': 2945, 'spite': 2952, 'nine': 2083, 'years': 3543, 'breathed': 370, 'lay': 1766, 'coffin': 552, 'borne': 347, 'men': 1940, 'since': 2844, 'dreary': 916, 'guarded': 1435, 'bitter': 306, 'riveted': 2631, 'low': 1865, 'marble': 1898, 'piece': 2272, 'subdued': 3048, 'broken': 387, 'reflections': 2509, 'muffled': 2031, 'glass': 1371, 'vacant': 3333, 'whether': 3459, 'locked': 1838, 'dared': 720, 'alas': 91, 'secure': 2724, 'returning': 2609, 'cross': 692, 'glance': 1366, 'depth': 791, 'revealed': 2611, 'darker': 725, 'visionary': 3374, 'hollow': 1522, 'reality': 2480, 'figure': 1195, 'gazing': 1333, 'gloom': 1381, 'glittering': 1380, 'else': 990, 'effect': 972, 'tiny': 3210, 'fairy': 1126, 'stories': 3009, 'represented': 2568, 'moors': 2006, 'returned': 2608, 'superstition': 3090, 'complete': 588, 'victory': 3361, 'blood': 320, 'mood': 2001, 'vigour': 3366, 'rapid': 2461, 'present': 2354, 'john': 1696, 'violent': 3369, 'sisters': 2855, 'proud': 2401, 'indifference': 1607, 'aversion': 223, 'servants': 2758, 'disturbed': 880, 'suffering': 3065, 'condemned': 604, 'please': 2296, 'useless': 3326, 'win': 3481, 'eliza': 989, 'selfish': 2740, 'respected': 2583, 'georgiana': 1347, 'temper': 3151, 'carriage': 439, 'indulged': 1612, 'cheeks': 489, 'golden': 1394, 'curls': 707, 'purchase': 2415, 'fault': 1154, 'sheep': 2790, 'stripped': 3034, 'broke': 386, 'plants': 2289, 'skin': 2865, 'wishes': 3494, 'unfrequently': 3302, 'tore': 3225, 'silk': 2836, 'attire': 211, 'commit': 573, 'sullen': 3075, 'noon': 2091, 'fall': 1130, 'received': 2490, 'striking': 3031, 'avert': 224, 'farther': 1141, 'violence': 3368, 'general': 1335, 'unjust': 3306, 'forced': 1249, 'stimulus': 2994, 'transitory': 3246, 'power': 2334, 'equally': 1033, 'wrought': 3537, 'expedient': 1092, 'escape': 1039, 'insupportable': 1651, 'effected': 973, 'die': 829, 'afternoon': 74, 'brain': 359, 'tumult': 3278, 'darkness': 726, 'dense': 782, 'ignorance': 1567, 'mental': 1941, 'ceaseless': 454, 'inward': 1679, 'question': 2437, 'suffered': 3064, 'many': 1897, 'clearly': 529, 'nobody': 2085, 'harmony': 1465, 'children': 501, 'chosen': 512, 'bound': 352, 'sympathise': 3117, 'amongst': 116, 'opposed': 2156, 'capacity': 428, 'propensities': 2391, 'incapable': 1595, 'interest': 1660, 'adding': 50, 'pleasure': 2299, 'noxious': 2104, 'cherishing': 495, 'germs': 1349, 'indignation': 1609, 'treatment': 3257, 'contempt': 635, 'brilliant': 379, 'careless': 436, 'exacting': 1063, 'handsome': 1452, 'presence': 2353, 'entertained': 1023, 'daylight': 734, 'began': 268, 'past': 2221, 'twilight': 3286, 'beating': 254, 'staircase': 2965, 'grew': 1422, 'stone': 2999, 'courage': 672, 'sank': 2680, 'habitual': 1445, 'forlorn': 1257, 'damp': 716, 'embers': 993, 'ire': 1681, 'wicked': 3471, 'certainly': 460, 'crime': 689, 'fit': 1213, 'vault': 3349, 'church': 516, 'inviting': 1676, 'bourne': 354, 'recall': 2487, 'dwelt': 945, 'dread': 909, 'uncle': 3292, 'brother': 390, 'infant': 1617, 'required': 2573, 'promise': 2385, 'rear': 2482, 'maintain': 1881, 'probably': 2374, 'considered': 629, 'dare': 719, 'nature': 2053, 'permit': 2250, 'race': 2450, 'tie': 3205, 'wrung': 3538, 'pledge': 2301, 'stand': 2968, 'stead': 2984, 'parent': 2196, 'alien': 92, 'permanently': 2248, 'family': 1136, 'group': 1429, 'singular': 2851, 'dawned': 733, 'doubted': 894, 'alive': 95, 'treated': 3256, 'occasionally': 2127, 'dimly': 837, 'gleaming': 1375, 'mirror': 1973, 'troubled': 3269, 'earth': 956, 'harassed': 1462, 'sister': 2854, 'quit': 2445, 'abode': 4, 'unknown': 3307, 'departed': 786, 'wiped': 3490, 'hushed': 1560, 'sobs': 2891, 'fearful': 1163, 'lest': 1789, 'sign': 2830, 'preternatural': 2360, 'bending': 285, 'terrible': 3166, 'realised': 2479, 'endeavoured': 1005, 'firm': 1210, 'lifted': 1802, 'tried': 3264, 'ray': 2469, 'penetrating': 2234, 'aperture': 142, 'blind': 318, 'gazed': 1332, 'glided': 1378, 'ceiling': 455, 'quivered': 2448, 'conjecture': 614, 'readily': 2475, 'gleam': 1373, 'lantern': 1752, 'carried': 440, 'across': 39, 'prepared': 2351, 'horror': 1532, 'nerves': 2072, 'vision': 3373, 'beat': 252, 'thick': 3175, 'hot': 1535, 'filled': 1198, 'ears': 955, 'deemed': 754, 'endurance': 1007, 'shook': 2806, 'lock': 1837, 'desperate': 807, 'steps': 2989, 'along': 101, 'passage': 2214, 'key': 1713, 'ill': 1570, 'dreadful': 911, 'hurt': 1557, 'demanded': 778, 'ghost': 1355, 'snatch': 2887, 'purpose': 2420, 'declared': 751, 'disgust': 858, 'pain': 2180, 'bring': 381, 'corridor': 664, 'cap': 427, 'gown': 1400, 'rustling': 2669, 'gave': 1329, 'orders': 2161, 'loose': 1850, 'succeed': 3056, 'getting': 1353, 'assured': 197, 'abhor': 2, 'particularly': 2206, 'show': 2812, 'condition': 605, 'perfect': 2239, 'stillness': 2993, 'aunt': 218, 'forgive': 1254, 'endure': 1008, 'passions': 2219, 'mean': 1921, 'dangerous': 718, 'retreated': 2606, 'impatient': 1582, 'abruptly': 6, 'species': 2941, 'closed': 536, 'scene': 2697, 'lowood': 1867, 'comprised': 595, 'difficulties': 834, 'rules': 2662, 'unwonted': 3316, 'tasks': 3135, 'points': 2307, 'worse': 3522, 'physical': 2265, 'lot': 1857, 'january': 1692, 'impassable': 1580, 'prevented': 2364, 'stirring': 2997, 'beyond': 299, 'except': 1071, 'air': 89, 'clothing': 542, 'protect': 2399, 'severe': 2769, 'snow': 2889, 'shoes': 2804, 'melted': 1937, 'irritation': 1684, 'cause': 451, 'thrusting': 3201, 'swelled': 3114, 'raw': 2468, 'stiff': 2991, 'scanty': 2692, 'supply': 3092, 'food': 1244, 'keen': 1707, 'growing': 1432, 'sufficient': 3068, 'delicate': 768, 'deficiency': 762, 'abuse': 16, 'pressed': 2358, 'hardly': 1464, 'younger': 3551, 'pupils': 2414, 'whenever': 3456, 'famished': 1137, 'girls': 1360, 'opportunity': 2155, 'ones': 2148, 'portion': 2319, 'shared': 2785, 'precious': 2342, 'brown': 394, 'tea': 3140, 'coffee': 551, 'swallowed': 3108, 'hunger': 1553, 'wintry': 3488, 'season': 2717, 'arrived': 178, 'service': 2761, 'paralysed': 2193, 'dinner': 840, 'meat': 1928, 'observed': 2121, 'ordinary': 2162, 'meals': 1920, 'served': 2760, 'services': 2762, 'road': 2632, 'winter': 3487, 'blowing': 328, 'north': 2092, 'faces': 1115, 'temple': 3153, 'walking': 3399, 'lightly': 1806, 'rapidly': 2462, 'drooping': 929, 'line': 1816, 'cloak': 533, 'example': 1069, 'spirits': 2950, 'forward': 1271, 'teachers': 3143, 'generally': 1336, 'attempt': 205, 'task': 3134, 'others': 2168, 'longed': 1845, 'denied': 781, 'hearth': 1486, 'schoolroom': 2704, 'surrounded': 3102, 'double': 892, 'row': 2656, 'groups': 1430, 'starved': 2976, 'whole': 3468, 'instead': 1645, 'slice': 2872, 'delicious': 769, 'addition': 51, 'thin': 3176, 'butter': 411, 'treat': 3255, 'contrived': 647, 'reserve': 2574, 'repast': 2558, 'spent': 2947, 'st': 2963, 'miller': 1965, 'dozen': 899, 'sleep': 2869, 'fourth': 1275, 'finished': 1206, 'failed': 1121, 'visits': 3379, 'brocklehurst': 385, 'greater': 1418, 'arrival': 176, 'absence': 7, 'relief': 2531, 'reasons': 2486, 'three': 3189, 'weeks': 3444, 'sum': 3077, 'raised': 2454, 'abstraction': 13, 'caught': 450, 'passing': 2216, 'recognised': 2496, 'instinctively': 1647, 'outline': 2171, 'minutes': 1972, 'en': 1000, 'ascertain': 181, 'entrance': 1027, 'measured': 1927, 'black': 307, 'glanced': 1367, 'rigid': 2620, 'dismayed': 862, 'apparition': 146, 'remembered': 2543, 'disposition': 870, 'daily': 714, 'information': 1623, 'respecting': 2585, 'conversation': 650, 'making': 1885, 'anxiety': 135, 'expecting': 1091, 'listened': 1826, 'happened': 1457, 'top': 3222, 'import': 1585, 'relieved': 2532, 'immediate': 1576, 'thread': 3188, 'bought': 351, 'lowton': 1868, 'quality': 2431, 'needles': 2066, 'match': 1914, 'forgot': 1255, 'papers': 2191, 'sent': 2747, 'next': 2078, 'pupil': 2413, 'lose': 1853, 'stockings': 2998, 'examined': 1067, 'clothes': 541, 'quantity': 2432, 'repair': 2556, 'size': 2862, 'directions': 844, 'tells': 3150, 'clean': 526, 'invited': 1675, 'thursday': 3202, 'occasion': 2125, 'nodded': 2086, 'surprised': 3101, 'accounts': 31, 'housekeeper': 1539, 'cheese': 492, 'twice': 3285, 'fortnight': 1265, 'meal': 1919, 'mentioned': 1944, 'introduced': 1672, 'authority': 220, 'replied': 2565, 'breakfast': 366, 'possibly': 2327, 'eat': 963, 'allow': 96, 'remain': 2535, 'madam': 1874, 'instant': 1643, 'plan': 2286, 'bringing': 382, 'habits': 1444, 'indulgence': 1613, 'patient': 2223, 'disappointment': 848, 'appetite': 152, 'dressing': 921, 'incident': 1597, 'lost': 1856, 'body': 333, 'aim': 88, 'institution': 1648, 'improved': 1591, 'spiritual': 2951, 'temporary': 3155, 'brief': 377, 'address': 52, 'occasions': 2128, 'wherein': 3457, 'judicious': 1703, 'sufferings': 3066, 'lord': 1852, 'follow': 1239, 'warnings': 3420, 'mouth': 2024, 'divine': 882, 'ye': 3541, 'sake': 2677, 'burnt': 403, 'porridge': 2316, 'feed': 1171, 'souls': 2924, 'appeared': 150, 'assuming': 195, 'brow': 393, 'gradually': 1403, 'severity': 2770, 'surveyed': 3104, 'met': 1954, 'shocked': 2802, 'accents': 18, 'hitherto': 1517, 'used': 3324, 'pointed': 2305, 'awful': 231, 'principle': 2369, 'openly': 2152, 'charitable': 480, 'establishment': 1044, 'mass': 1910, 'grace': 1401, 'desire': 802, 'arranged': 170, 'closely': 537, 'cut': 712, 'morrow': 2008, 'tall': 3133, 'direct': 841, 'handkerchief': 1450, 'smooth': 2886, 'involuntary': 1678, 'smile': 2881, 'class': 525, 'obeyed': 2111, 'leaning': 1773, 'looks': 1849, 'whatever': 3452, 'outside': 2172, 'inside': 1638, 'imagined': 1575, 'scrutinised': 2711, 'pronounced': 2389, 'doom': 889, 'pursued': 2423, 'serve': 2759, 'kingdom': 1720, 'mission': 1980, 'teach': 3141, 'apparel': 143, 'persons': 2256, 'repeat': 2559, 'interrupted': 1665, 'ladies': 1742, 'dress': 918, 'attired': 212, 'velvet': 3354, 'grey': 1423, 'fashion': 1144, 'shaded': 2774, 'graceful': 1402, 'tresses': 3263, 'elder': 981, 'enveloped': 1030, 'wore': 3514, 'false': 1133, 'front': 1298, 'conducted': 607, 'honour': 1525, 'seems': 2734, 'relative': 2528, 'scrutiny': 2712, 'business': 407, 'questioned': 2438, 'superintendent': 3088, 'proceeded': 2377, 'charged': 479, 'care': 432, 'linen': 1818, 'matters': 1918, 'attention': 210, 'discourse': 852, 'neglected': 2068, 'personal': 2255, 'safety': 2676, 'observation': 2118, 'end': 1003, 'seeming': 2732, 'busy': 409, 'held': 1497, 'manner': 1892, 'conceal': 596, 'escaped': 1040, 'somehow': 2907, 'falling': 1132, 'stooped': 3003, 'pick': 2269, 'rallied': 2455, 'worst': 3523, 'draw': 904, 'breath': 369, 'aloud': 102, 'accord': 27, 'pushed': 2425, 'judge': 1701, 'whispered': 3461, 'counsel': 668, 'accident': 22, 'whisper': 3460, 'minute': 1971, 'despise': 809, 'fury': 1309, 'bounded': 353, 'conviction': 654, 'helen': 1498, 'burns': 402, 'pointing': 2306, 'monitor': 1996, 'note': 2095, 'height': 1496, 'nose': 2093, 'shot': 2809, 'extended': 1105, 'waved': 3431, 'directed': 842, 'childhood': 500, 'marked': 1901, 'agent': 78, 'pause': 2224, 'steady': 2986, 'firmly': 1212, 'sustained': 3107, 'clergyman': 530, 'sad': 2673, 'melancholy': 1935, 'becomes': 260, 'warn': 3417, 'member': 1938, 'evidently': 1060, 'shun': 2820, 'avoid': 225, 'company': 583, 'exclude': 1078, 'converse': 651, 'watch': 3426, 'movements': 2028, 'actions': 44, 'save': 2688, 'possible': 2326, 'native': 2050, 'christian': 514, 'says': 2691, 'ten': 3158, 'possession': 2324, 'wits': 3503, 'female': 1179, 'pocket': 2303, 'apply': 154, 'elderly': 982, 'fro': 1295, 'resumed': 2600, 'learned': 1776, 'adopted': 61, 'orphan': 2167, 'reared': 2483, 'daughter': 730, 'kindness': 1718, 'unhappy': 3303, 'repaid': 2555, 'separate': 2752, 'purity': 2418, 'beg': 267, 'sublime': 3051, 'conclusion': 603, 'muttered': 2040, 'bowed': 356, 'mounted': 2021, 'middle': 1955, 'view': 3362, 'sensations': 2743, 'language': 1751, 'describe': 797, 'throat': 3195, 'inspired': 1641, 'extraordinary': 1107, 'sensation': 2742, 'bore': 345, 'victim': 3360, 'mastered': 1913, 'slight': 2873, 'work': 3515, 'inquiry': 1635, 'intellect': 1652, 'lineaments': 1817, 'reflection': 2508, 'aspect': 188, 'angel': 119, 'arm': 166, 'ago': 80, 'scatcherd': 2695, 'exercise': 1081, 'imperfect': 1583, 'defects': 760, 'christmas': 515, 'holiday': 1521, 'morton': 2011, 'somewhat': 2909, 'unusual': 3315, 'rustic': 2668, 'scholars': 2701, 'liked': 1809, 'parted': 2203, 'consciousness': 621, 'strongly': 3038, 'gratification': 1411, 'hearts': 1489, 'promised': 2386, 'visit': 3375, 'teaching': 3144, 'rivers': 2630, 'decent': 745, 'respectable': 2582, 'informed': 1624, 'women': 3507, 'ranks': 2460, 'british': 383, 'taught': 3139, 'europe': 1049, 'ignorant': 1568, 'coarse': 549, 'compared': 586, 'reward': 2614, 'doubtless': 896, 'months': 2000, 'devoted': 824, 'enjoy': 1015, 'faculties': 1117, 'sudden': 3061, 'eagerness': 949, 'active': 45, 'hannah': 1455, 'somebody': 2906, 'wait': 3391, 'moor': 2004, 'diana': 828, 'mary': 1908, 'everything': 1056, 'cottage': 666, 'substitute': 3055, 'ambition': 112, 'force': 1248, 'expression': 1102, 'wax': 3432, 'number': 2105, 'arrange': 169, 'afterwards': 75, 'ruin': 2660, 'expected': 1090, 'cakes': 415, 'materials': 1916, 'ideal': 1563, 'welcome': 3447, 'slightly': 2874, 'trust': 3273, 'vivacity': 3381, 'higher': 1510, 'household': 1538, 'contrary': 645, 'enjoyment': 1017, 'pleasing': 2298, 'late': 1756, 'begin': 271, 'society': 2892, 'calm': 420, 'trouble': 3268, 'surprise': 3100, 'content': 636, 'talents': 3127, 'committed': 574, 'keeping': 1710, 'demand': 777, 'strict': 3028, 'restrain': 2594, 'fervour': 1182, 'throw': 3198, 'commonplace': 576, 'pleasures': 2300, 'ardour': 165, 'waste': 3424, 'trite': 3265, 'objects': 2113, 'greek': 1420, 'worked': 3516, 'charmed': 483, 'amidst': 114, 'bustle': 408, 'cook': 656, 'chaos': 474, 'journey': 1699, 'cousins': 676, 'pleased': 2297, 'seeing': 2728, 'tables': 3121, 'spectacle': 2943, 'wished': 3493, 'arrangement': 171, 'carefully': 435, 'ornaments': 2166, 'bronze': 388, 'fresh': 1287, 'spare': 2933, 'parlour': 2199, 'bedroom': 263, 'stairs': 2966, 'model': 1989, 'specimen': 2942, 'desert': 800, 'length': 1785, 'dusk': 939, 'dressed': 919, 'entreated': 1029, 'clear': 527, 'bare': 243, 'sordid': 2917, 'sufficed': 3067, 'watching': 3428, 'progress': 2383, 'approaching': 157, 'satisfied': 2685, 'housemaid': 1540, 'accompany': 24, 'labours': 1740, 'difficulty': 835, 'doors': 891, 'opened': 2150, 'downstairs': 898, 'fatigue': 1153, 'considerable': 628, 'syllable': 3116, 'utter': 3330, 'associations': 193, 'valued': 3341, 'inquired': 1633, 'fallen': 1131, 'remarked': 2541, 'feared': 1162, 'bestowed': 294, 'worth': 3524, 'instance': 1642, 'bye': 412, 'book': 340, 'showed': 2813, 'volume': 3387, 'shelf': 2793, 'accustomed': 32, 'reader': 2474, 'truth': 3275, 'attraction': 214, 'approve': 159, 'lofty': 1841, 'forehead': 1250, 'fixed': 1218, 'study': 3044, 'trying': 3277, 'understood': 3298, 'oliver': 2147, 'senses': 2745, 'feverish': 1187, 'influence': 1620, 'destroy': 815, 'fireside': 1209, 'gloomy': 1382, 'sphere': 2948, 'reflected': 2507, 'ridge': 2618, 'bush': 405, 'cursed': 708, 'appear': 148, 'advantage': 64, 'scenes': 2698, 'danger': 717, 'proved': 2403, 'energy': 1010, 'superior': 3089, 'merry': 1950, 'choose': 510, 'missionary': 1981, 'career': 433, 'wheels': 3454, 'vehicle': 3350, 'driver': 928, 'stepped': 2988, 'laughed': 1762, 'eagerly': 948, 'hastened': 1470, 'drive': 926, 'whitcross': 3465, 'chilled': 503, 'cheerful': 491, 'advanced': 62, 'threw': 3191, 'kiss': 1721, 'withdrew': 3499, 'candles': 425, 'delighted': 771, 'rooms': 2647, 'rich': 2615, 'china': 508, 'expressed': 1101, 'arrangements': 172, 'exactly': 1064, 'narrative': 2048, 'comment': 572, 'glad': 1365, 'glow': 1386, 'event': 1052, 'glee': 1377, 'reception': 2492, 'calmer': 422, 'moss': 2012, 'travel': 3247, 'track': 3240, 'putting': 2426, 'murmur': 2032, 'midnight': 1956, 'tired': 3211, 'happier': 1458, 'performed': 2242, 'deny': 784, 'terms': 3165, 'freedom': 1282, 'dawn': 732, 'acted': 41, 'giving': 1364, 'charms': 485, 'preferred': 2347, 'population': 2315, 'scattered': 2696, 'visiting': 3376, 'sick': 2824, 'pensive': 2235, 'plans': 2287, 'inform': 1622, 'year': 3542, 'rosamond': 2649, 'suggested': 3071, 'uttered': 3332, 'gesture': 1350, 'wishing': 3495, 'connected': 615, 'intelligence': 1653, 'father': 1152, 'yesterday': 3545, 'serene': 2754, 'hastily': 1471, 'october': 2135, 'county': 671, 'ball': 238, 'connection': 616, 'unnecessary': 3311, 'gives': 1363, 'communication': 578, 'tempted': 3157, 'inquire': 1632, 'distressed': 878, 'recollection': 2498, 'frozen': 1300, 'continually': 641, 'acknowledged': 34, 'roof': 2646, 'village': 3367, 'schoolmistress': 2703, 'admitted': 59, 'confidence': 609, 'desk': 804, 'startled': 2975, 'addressed': 53, 'hesitation': 1505, 'cost': 665, 'signify': 2832, 'conflict': 610, 'mutual': 2041, 'regular': 2521, 'studies': 3043, 'drew': 922, 'reading': 2476, 'amazement': 111, 'german': 1348, 'absorbed': 11, 'habit': 1443, 'wandering': 3406, 'curious': 706, 'withdrawn': 3498, 'wondered': 3509, 'meant': 1924, 'satisfaction': 2684, 'puzzled': 2428, 'urged': 3320, 'encourage': 1002, 'elements': 986, 'mountain': 2019, 'blast': 312, 'shower': 2814, 'constitution': 632, 'calculated': 416, 'robust': 2636, 'beaten': 253, 'annoyance': 128, 'learning': 1777, 'learn': 1775, 'commencement': 571, 'fix': 1217, 'thoroughly': 3185, 'refused': 2513, 'impression': 1590, 'permanent': 2247, 'consented': 623, 'former': 1261, 'persuaded': 2258, 'fulfilled': 1302, 'fully': 1304, 'approbation': 158, 'praise': 2338, 'freely': 1283, 'instinct': 1646, 'reminded': 2546, 'serious': 2755, 'occupations': 2131, 'vain': 3335, 'neglect': 2067, 'bedtime': 266, 'chanced': 469, 'humour': 1548, 'call': 417, 'provoking': 2406, 'confused': 612, 'thinking': 3179, 'level': 1793, 'ice': 1561, 'cousin': 675, 'belonged': 282, 'viewed': 3363, 'fetters': 1185, 'ceremony': 458, 'gravity': 1417, 'quiescence': 2442, 'disown': 865, 'tastes': 3138, 'vocation': 3383, 'train': 3241, 'hourly': 1536, 'correct': 663, 'tint': 3208, 'lustre': 1870, 'source': 2928, 'forgotten': 1256, 'vapour': 3343, 'sunshine': 3087, 'traced': 3238, 'tablet': 3122, 'everywhere': 1057, 'residence': 2575, 'health': 1482, 'concerning': 601, 'wrote': 3536, 'subject': 3049, 'certainty': 461, 'answering': 131, 'early': 951, 'astonished': 199, 'post': 2328, 'letter': 1791, 'renewed': 2553, 'faded': 1119, 'cheer': 490, 'deficiencies': 761, 'prolonged': 2384, 'lessons': 1788, 'urgent': 3321, 'fool': 1245, 'resist': 2577, 'lower': 1866, 'tidings': 3204, 'check': 486, 'characters': 477, 'attempting': 207, 'occupants': 2129, 'music': 2035, 'science': 2705, 'succeeded': 3057, 'books': 341, 'marsh': 1907, 'join': 1697, 'absolute': 9, 'determined': 820, 'faithfully': 1129, 'circumstances': 520, 'inclined': 1599, 'careful': 434, 'breeze': 372, 'hills': 1512, 'heath': 1490, 'sky': 2867, 'stainless': 2964, 'stream': 3023, 'descending': 796, 'poured': 2332, 'tints': 3209, 'mossy': 2013, 'yellow': 3544, 'blossom': 326, 'wound': 3526, 'core': 660, 'rocks': 2639, 'crag': 680, 'solitude': 2904, 'traverse': 3251, 'unclouded': 3294, 'coloured': 561, 'removed': 2550, 'hat': 1473, 'genius': 1339, 'dreams': 914, 'slumber': 2879, 'austere': 219, 'interval': 1666, 'six': 2861, 'june': 1704, 'glory': 1384, 'guidance': 1440, 'defective': 759, 'control': 648, 'feeble': 1170, 'burn': 400, 'powers': 2336, 'folly': 1242, 'worthy': 3525, 'difficult': 833, 'discover': 853, 'gifts': 1358, 'message': 1952, 'fatal': 1150, 'declare': 750, 'mute': 2038, 'thrilled': 3194, 'india': 1605, 'labourer': 1739, 'heaved': 1491, 'summons': 3081, 'messenger': 1953, 'help': 1500, 'behold': 277, 'receive': 2489, 'mercy': 1946, 'appealed': 147, 'discharge': 850, 'believed': 280, 'remorse': 2547, 'intended': 1655, 'formed': 1260, 'labour': 1738, 'sovereign': 2930, 'irritated': 1683, 'leaned': 1772, 'chest': 497, 'conquest': 618, 'acknowledge': 33, 'mighty': 1959, 'instrument': 1649, 'perform': 2241, 'providence': 2405, 'rock': 2638, 'lean': 1771, 'weight': 3446, 'weakness': 3436, 'studied': 3042, 'aid': 86, 'require': 2572, 'speaks': 2940, 'sensible': 2746, 'kindling': 1716, 'rayless': 2470, 'dungeon': 938, 'fettered': 1184, 'depths': 792, 'sundry': 3083, 'punctually': 2409, 'learnt': 1778, 'vice': 3359, 'resolute': 2578, 'justice': 1705, 'interested': 1661, 'qualities': 2430, 'seek': 2729, 'docile': 883, 'constant': 631, 'gentle': 1340, 'heroic': 1504, 'cease': 452, 'iron': 1682, 'slow': 2877, 'comparatively': 585, 'assumed': 194, 'waited': 3392, 'willingly': 3480, 'wants': 3411, 'spared': 2934, 'protracted': 2400, 'empty': 999, 'absurd': 14, 'weak': 3435, 'waiting': 3393, 'change': 470, 'replace': 2563, 'occupation': 2130, 'offers': 2141, 'adopt': 60, 'assign': 190, 'cares': 437, 'results': 2598, 'fill': 1197, 'void': 3386, 'hopes': 1529, 'farthest': 1142, 'circle': 518, 'altar': 105, 'entire': 1025, 'suspected': 3105, 'consent': 622, 'unmarried': 3309, 'coolly': 658, 'wedding': 3442, 'bridal': 374, 'ring': 2621, 'forms': 1262, 'absent': 8, 'beaming': 248, 'continue': 642, 'sealed': 2714, 'marriage': 1902, 'exist': 1084, 'practical': 2337, 'guide': 1441, 'sharp': 2786, 'determination': 819, 'main': 1880, 'operation': 2153, 'consistent': 630, 'withdraw': 3497, 'retain': 2601, 'shuddered': 2819, 'marrow': 1904, 'limbs': 1815, 'elsewhere': 991, 'fitted': 1214, 'insignificant': 1639, 'private': 2371, 'individual': 1610, 'mere': 1947, 'mate': 1915, 'use': 3323, 'behalf': 274, 'divided': 881, 'accompanied': 23, 'silently': 2835, 'revelations': 2612, 'proceeding': 2378, 'veil': 3351, 'stern': 2990, 'sarcastic': 2681, 'sin': 2843, 'endeavour': 1004, 'efforts': 975, 'conformity': 611, 'beings': 278, 'tenderness': 3162, 'inclination': 1598, 'strangely': 3016, 'imposing': 1587, 'fancied': 1138, 'curate': 703, 'toil': 3213, 'office': 2142, 'loneliness': 1843, 'sentiments': 2751, 'blight': 317, 'restrained': 2595, 'checked': 487, 'compel': 587, 'vital': 3380, 'meditation': 1931, 'steadily': 2985, 'otherwise': 2169, 'thirty': 3182, 'shortly': 2808, 'fasten': 1148, 'affirmed': 71, 'perfectly': 2240, 'marrying': 1906, 'sentiment': 2750, 'touched': 3231, 'mien': 1958, 'topic': 3223, 'scheme': 2700, 'cherished': 494, 'space': 2931, 'refuse': 2512, 'ease': 959, 'obscurity': 2117, 'tremble': 3260, 'river': 2629, 'despotic': 811, 'detected': 818, 'views': 3364, 'sincere': 2845, 'allowed': 97, 'repentance': 2562, 'proper': 2392, 'shake': 2779, 'friendship': 1293, 'quarrelling': 2433, 'lingering': 1821, 'pride': 2367, 'calmly': 423, 'touch': 3230, 'impressed': 1589, 'fingers': 1204, 'displeased': 867, 'occurred': 2133, 'placid': 2283, 'knocked': 1733, 'waking': 3396, 'frightful': 1294, 'glare': 1370, 'voices': 3385, 'rested': 2590, 'pillow': 2275, 'candle': 424, 'basin': 245, 'inexpressible': 1616, 'soothing': 2915, 'security': 2726, 'stranger': 3017, 'related': 2525, 'employed': 997, 'offering': 2140, 'smiling': 2884, 'darkened': 724, 'sadness': 2674, 'rough': 2653, 'wonder': 3508, 'whispering': 3462, 'able': 3, 'distinctly': 874, 'discussed': 856, 'vanished': 3342, 'dog': 885, 'churchyard': 517, 'ghastly': 1354, 'alike': 94, 'bodily': 332, 'illness': 1571, 'shock': 2801, 'owe': 2174, 'strings': 3033, 'wrapped': 3528, 'physically': 2266, 'mama': 1887, 'sewing': 2772, 'moved': 2026, 'thither': 3183, 'arranging': 173, 'drawers': 906, 'soothe': 2914, 'excite': 1073, 'painted': 2184, 'plate': 2290, 'wreath': 3529, 'admiration': 55, 'privilege': 2372, 'knee': 1725, 'favours': 1160, 'begged': 270, 'perused': 2260, 'discovered': 854, 'vein': 3352, 'deeper': 757, 'tales': 3128, 'leaves': 1781, 'ground': 1427, 'woods': 3512, 'creed': 685, 'solid': 2902, 'parts': 2210, 'houses': 1541, 'monster': 1998, 'tower': 3234, 'pictures': 2271, 'eerie': 970, 'desolate': 805, 'wanderer': 3405, 'regions': 2518, 'washed': 3422, 'satin': 2683, 'bonnet': 339, 'doll': 887, 'sang': 2679, 'lively': 1833, 'funeral': 1305, 'doleful': 886, 'mountains': 2020, 'path': 2222, 'angels': 120, 'mild': 1960, 'showing': 2815, 'stray': 3021, 'lights': 1808, 'avail': 222, 'fail': 1120, 'nurse': 2106, 'daresay': 721, 'interposed': 1664, 'wounded': 3527, 'charge': 478, 'hate': 1474, 'miserable': 1976, 'featured': 1167, 'natured': 2054, 'leisure': 1784, 'manage': 1889, 'eight': 976, 'box': 357, 'bell': 281, 'rang': 2457, 'cruel': 697, 'nonsense': 2089, 'makes': 1884, 'partially': 2204, 'process': 2379, 'losing': 1854, 'response': 2587, 'brothers': 391, 'produced': 2380, 'thankful': 3170, 'knows': 1737, 'relations': 2527, 'poverty': 2333, 'grim': 1426, 'grown': 1433, 'working': 3517, 'manners': 1893, 'degradation': 764, 'grow': 1431, 'washing': 3423, 'price': 2366, 'relatives': 2529, 'precise': 2343, 'hated': 1475, 'rule': 2661, 'details': 817, 'accomplishments': 26, 'musings': 2036, 'happen': 1456, 'mistress': 1985, 'interview': 1668, 'presume': 2359, 'ventured': 3357, 'rid': 2616, 'everybody': 1055, 'latter': 1759, 'typhus': 3287, 'fever': 1186, 'town': 3235, 'disease': 857, 'responded': 2586, 'nice': 2079, 'pretty': 2362, 'rate': 2465, 'fervent': 1181, 'supper': 3091, 'ceased': 453, 'wretched': 3531, 'april': 161, 'nights': 2082, 'veins': 3353, 'genial': 1338, 'traversed': 3252, 'traces': 3239, 'drops': 932, 'eyed': 1112, 'walks': 3400, 'opening': 2151, 'hedges': 1495, 'prospect': 2396, 'stones': 3000, 'frost': 1299, 'rolled': 2642, 'torrent': 3227, 'banks': 242, 'oak': 2108, 'restored': 2593, 'sprang': 2958, 'gold': 1393, 'enjoyed': 1016, 'described': 798, 'site': 2857, 'dwelling': 944, 'verge': 3358, 'crept': 686, 'crowded': 695, 'transformed': 3245, 'forty': 1270, 'relaxed': 2530, 'license': 1798, 'attendant': 209, 'insisted': 1640, 'quitting': 2447, 'preparations': 2349, 'fortunate': 1266, 'willing': 3479, 'remove': 2549, 'delay': 766, 'visitor': 3377, 'vainly': 3336, 'bold': 334, 'glowed': 1387, 'roses': 2651, 'bloom': 323, 'borders': 344, 'apples': 153, 'fragrant': 1276, 'inmates': 1627, 'driven': 927, 'successor': 3060, 'unused': 3314, 'provided': 2404, 'comparative': 584, 'prepare': 2350, 'chose': 511, 'spot': 2957, 'dined': 838, 'favourite': 1159, 'dry': 934, 'accomplished': 25, 'personage': 2254, 'partly': 2209, 'older': 2146, 'curiosity': 705, 'entertainment': 1024, 'improvement': 1592, 'intercourse': 1659, 'acquaintance': 36, 'pungent': 2410, 'indulge': 1611, 'taste': 3136, 'attachment': 204, 'tender': 3161, 'respectful': 2584, 'animated': 126, 'fed': 1169, 'surgeon': 3099, 'lingered': 1820, 'glowing': 1388, 'lying': 1871, 'dying': 946, 'hell': 1499, 'baffled': 237, 'glancing': 1369, 'gulf': 1442, 'pondering': 2312, 'mount': 2018, 'depart': 785, 'phrase': 2263, 'hearing': 1484, 'comprehension': 593, 'region': 2517, 'thrill': 3193, 'likely': 1810, 'catch': 449, 'stop': 3005, 'later': 1758, 'eleven': 987, 'deeming': 755, 'companions': 581, 'profound': 2382, 'frock': 1296, 'enabled': 1001, 'warned': 3418, 'dreaded': 910, 'embrace': 994, 'exchange': 1072, 'descended': 795, 'opposite': 2157, 'ajar': 90, 'admit': 58, 'quivering': 2449, 'hid': 1506, 'hangings': 1454, 'delirious': 773, 'curtain': 709, 'corpse': 662, 'awake': 226, 'changed': 471, 'mistaken': 1984, 'bid': 301, 'seized': 2737, 'wake': 3394, 'exhausted': 1083, 'nestled': 2074, 'regret': 2519, 'lately': 1757, 'created': 682, 'wholly': 3469, 'goodness': 1396, 'loves': 1863, 'closer': 538, 'hidden': 1507, 'comfortable': 566, 'awoke': 232, 'movement': 2027, 'carrying': 442, 'questions': 2439, 'fifteen': 1193, 'gallery': 1316, 'butler': 410, 'varied': 3345, 'consequence': 624, 'gaiety': 1311, 'proposed': 2395, 'playing': 2294, 'term': 3163, 'dining': 839, 'wheeled': 3453, 'arch': 163, 'gentlemen': 1342, 'ringing': 2622, 'summoned': 3080, 'dresses': 920, 'storey': 3008, 'lace': 1741, 'boudoir': 350, 'party': 2211, 'named': 2046, 'eshton': 1041, 'dent': 783, 'colonel': 559, 'crescent': 687, 'stupid': 3046, 'game': 1317, 'george': 1346, 'lynn': 1872, 'likewise': 1812, 'sheet': 2791, 'holding': 1520, 'guardian': 1436, 'clad': 522, 'knelt': 1728, 'dumb': 937, 'recognise': 2495, 'whispers': 3463, 'elapsed': 980, 'ornament': 2165, 'usually': 3328, 'suited': 3074, 'scarf': 2694, 'waist': 3390, 'temples': 3154, 'moulded': 2017, 'feature': 1166, 'complexion': 590, 'request': 2570, 'robe': 2634, 'kneeling': 1726, 'treasure': 3254, 'fastened': 1149, 'rings': 2623, 'wanting': 3410, 'heads': 1481, 'agree': 82, 'disclosed': 851, 'concealed': 597, 'dim': 836, 'horn': 1531, 'extinguished': 1106, 'knees': 1727, 'coat': 550, 'hanging': 1453, 'chain': 462, 'resume': 2599, 'acting': 42, 'becoming': 261, 'english': 1013, 'played': 2293, 'jetty': 1694, 'glances': 1368, 'returns': 2610, 'memory': 1939, 'scorned': 2708, 'hem': 1503, 'robes': 2635, 'merit': 1949, 'intentions': 1658, 'witnessed': 3502, 'style': 3047, 'courtship': 674, 'despair': 806, 'jealousy': 1693, 'rarely': 2464, 'explained': 1097, 'mark': 1900, 'genuine': 1345, 'person': 2253, 'soil': 2898, 'freshness': 1288, 'phrases': 2264, 'offered': 2139, 'betrayed': 297, 'antipathy': 133, 'conceived': 599, 'approach': 155, 'keenly': 1708, 'fair': 1124, 'obvious': 2124, 'rank': 2459, 'connections': 617, 'nerve': 2071, 'managed': 1890, 'yielded': 3547, 'endowed': 1006, 'devoured': 826, 'admired': 57, 'fascinating': 1143, 'success': 3059, 'restraint': 2596, 'softness': 2897, 'privileged': 2373, 'coin': 553, 'smiles': 2883, 'flash': 1221, 'warmed': 3415, 'influenced': 1621, 'motives': 2016, 'parties': 2207, 'justified': 1706, 'ideas': 1564, 'principles': 2370, 'advantages': 65, 'forgetting': 1253, 'sides': 2826, 'beheld': 275, 'secrets': 2723, 'importance': 1586, 'mystery': 2043, 'according': 28, 'theme': 3172, 'affairs': 69, 'suspended': 3106, 'guests': 1439, 'peculiarly': 2231, 'millcote': 1964, 'common': 575, 'consequently': 626, 'piano': 2268, 'novel': 2101, 'flung': 1232, 'haughty': 1476, 'sofa': 2893, 'tedious': 3147, 'monsieur': 1997, 'forwards': 1272, 'several': 2768, 'chaise': 465, 'possess': 2322, 'rode': 2640, 'mesrour': 1951, 'pilot': 2276, 'garments': 1321, 'bend': 284, 'breaking': 367, 'lip': 1823, 'alighted': 93, 'travelling': 3249, 'garb': 1319, 'fashionable': 1145, 'angry': 123, 'eldest': 983, 'appears': 151, 'arrive': 177, 'intimate': 1669, 'polite': 2311, 'precisely': 2344, 'foreign': 1251, 'altogether': 108, 'singularly': 2852, 'examination': 1065, 'physiognomy': 2267, 'meaning': 1922, 'odd': 2136, 'blank': 311, 'mantelpiece': 1896, 'nearer': 2056, 'contrast': 646, 'meet': 1933, 'sentences': 2749, 'creature': 683, 'charming': 484, 'tempered': 3152, 'dislike': 860, 'settle': 2765, 'mason': 1909, 'jamaica': 1689, 'spanish': 2932, 'acquainted': 37, 'traveller': 3248, 'continent': 639, 'wanderings': 3407, 'hint': 1513, 'unexpected': 3301, 'fortunes': 1269, 'dismiss': 863, 'persuade': 2257, 'corner': 661, 'gets': 1352, 'gentry': 1344, 'ugly': 3289, 'thousand': 3187, 'examining': 1068, 'sheets': 2792, 'recollect': 2497, 'suggest': 3070, 'quick': 2440, 'expectation': 1089, 'single': 2850, 'breach': 363, 'reflect': 2506, 'swept': 3115, 'stately': 2978, 'accordingly': 29, 'venture': 3356, 'eager': 947, 'press': 2357, 'easily': 960, 'seem': 2731, 'witch': 3496, 'gratified': 1412, 'leant': 1774, 'declined': 752, 'nearly': 2058, 'professed': 2381, 'permission': 2249, 'burst': 404, 'various': 3347, 'reiterated': 2523, 'concern': 600, 'slipped': 2876, 'trembling': 3262, 'floor': 1228, 'containing': 634, 'plates': 2291, 'dismissed': 864, 'write': 3532, 'knit': 1731, 'sew': 2771, 'district': 879, 'understanding': 3297, 'expect': 1088, 'gained': 1314, 'strive': 3035, 'temptation': 3156, 'covering': 679, 'wakened': 3395, 'youth': 3552, 'fond': 1243, 'honest': 1524, 'crushed': 699, 'harvest': 1467, 'balm': 239, 'consequences': 625, 'vale': 3337, 'building': 396, 'apparent': 144, 'parsonage': 2201, 'extremity': 1110, 'gate': 1323, 'gaze': 1331, 'displeasure': 868, 'parcel': 2194, 'pencils': 2233, 'paper': 2190, 'gift': 1357, 'disappointed': 847, 'proof': 2390, 'silver': 2837, 'beggar': 269, 'tranquillity': 3244, 'fears': 1165, 'pursue': 2422, 'experience': 1093, 'measure': 1926, 'forbidden': 1247, 'purer': 2417, 'mistake': 1983, 'uniform': 3304, 'duties': 941, 'exciting': 1076, 'priest': 2368, 'lover': 1862, 'gather': 1326, 'errand': 1037, 'skill': 2864, 'needed': 2064, 'dropped': 931, 'faculty': 1118, 'obstacle': 2122, 'peculiar': 2230, 'setting': 2764, 'field': 1188, 'grass': 1408, 'start': 2973, 'attitude': 213, 'speaker': 2938, 'contour': 644, 'livelier': 1832, 'ruddy': 2657, 'chin': 507, 'combined': 563, 'grand': 1404, 'papa': 2189, 'valley': 3338, 'simplicity': 2840, 'furnished': 1307, 'favoured': 1158, 'knife': 1730, 'compressed': 594, 'laughing': 1763, 'melt': 1936, 'kindled': 1715, 'despite': 810, 'works': 3519, 'shy': 2823, 'sombre': 2905, 'echo': 965, 'bow': 355, 'inexorable': 1615, 'woe': 3504, 'decidedly': 748, 'intolerable': 1671, 'resolution': 2579, 'conscience': 619, 'tyrant': 3288, 'agony': 81, 'tear': 3145, 'haunted': 1478, 'perceived': 2238, 'bolt': 335, 'hush': 1559, 'shed': 2789, 'drenched': 917, 'err': 1036, 'trace': 3237, 'passive': 2220, 'lamb': 1746, 'ate': 201, 'drank': 901, 'bloody': 322, 'wondering': 3510, 'sharply': 2787, 'sigh': 2827, 'glazed': 1372, 'warmth': 3416, 'wine': 3485, 'tasted': 3137, 'revived': 2613, 'inarticulate': 1594, 'fast': 1147, 'guess': 1437, 'deliberately': 767, 'faint': 1123, 'flood': 1227, 'gates': 1324, 'governess': 1398, 'friendly': 1291, 'continual': 640, 'hideous': 1508, 'narrow': 2049, 'fiend': 1190, 'imagine': 1574, 'knowing': 1734, 'knowledge': 1735, 'inmate': 1626, 'ferndean': 1180, 'manor': 1894, 'retired': 2603, 'tendency': 3160, 'neighbourhood': 2069, 'laying': 1767, 'demon': 780, 'poisoned': 2309, 'board': 331, 'poole': 2313, 'retreat': 2605, 'familiar': 1135, 'bones': 338, 'flew': 1225, 'terrors': 3168, 'falsehood': 1134, 'retirement': 2604, 'dull': 936, 'collected': 557, 'run': 2663, 'puzzle': 2427, 'feels': 1175, 'reasonable': 2485, 'weep': 3445, 'heartily': 1487, 'earnestly': 954, 'softened': 2895, 'announced': 127, 'station': 2979, 'furious': 1306, 'mention': 1943, 'madness': 1878, 'innocent': 1631, 'error': 1038, 'nostrils': 2094, 'finger': 1203, 'pulse': 2408, 'telling': 3149, 'evidence': 1058, 'property': 2393, 'wealthy': 3438, 'merchant': 1945, 'vast': 3348, 'inquiries': 1634, 'pounds': 2330, 'college': 558, 'flattered': 1222, 'hurry': 1556, 'piqued': 2279, 'virtue': 3370, 'lunatic': 1869, 'shown': 2816, 'larger': 1755, 'developed': 822, 'cruelty': 698, 'dragged': 900, 'attend': 208, 'finish': 1205, 'moreover': 2007, 'particular': 2205, 'hopeless': 1528, 'awakened': 227, 'fiery': 1192, 'description': 799, 'frequently': 1286, 'unable': 3290, 'refreshment': 2511, 'earthquake': 958, 'sounds': 2927, 'heavy': 1493, 'eternity': 1048, 'trunk': 3272, 'exquisite': 1103, 'streamed': 3024, 'framed': 1278, 'refreshed': 2510, 'dried': 923, 'draught': 903, 'prospects': 2397, 'sullied': 3076, 'burden': 397, 'due': 935, 'demands': 779, 'identity': 1565, 'impart': 1579, 'secrecy': 2721, 'begun': 273, 'extreme': 1108, 'anxious': 136, 'inner': 1630, 'cabinet': 413, 'beast': 251, 'goblin': 1389, 'cell': 456, 'finding': 1201, 'hired': 1514, 'carter': 443, 'owing': 2175, 'cure': 704, 'malignant': 1886, 'issue': 1685, 'paid': 2179, 'visage': 3371, 'intelligent': 1654, 'tale': 3125, 'burdened': 398, 'inquisitive': 1636, 'restless': 2592, 'answers': 132, 'speech': 2944, 'capital': 429, 'paris': 2198, 'rome': 2645, 'plenty': 2302, 'dream': 912, 'desired': 803, 'reckless': 2494, 'companionship': 582, 'mistresses': 1986, 'céline': 713, 'varens': 3344, 'terminated': 3164, 'favourable': 1157, 'utterance': 3331, 'loving': 1864, 'recalled': 2488, 'stile': 2992, 'gravely': 1416, 'perseverance': 2252, 'aided': 87, 'elf': 988, 'claimed': 524, 'brooding': 389, 'rosy': 2652, 'around': 168, 'search': 2715, 'refined': 2505, 'daring': 722, 'interlocutor': 1663, 'piquant': 2278, 'shunned': 2821, 'token': 3215, 'actual': 46, 'conversed': 652, 'mournful': 2022, 'tones': 3219, 'grateful': 1410, 'caprice': 430, 'stretched': 3027, 'dashing': 729, 'dwell': 943, 'misery': 1977, 'powerful': 2335, 'exists': 1086, 'idol': 1566, 'kissing': 1723, 'completely': 589, 'obey': 2110, 'brows': 395, 'support': 3093, 'offend': 2137, 'following': 1241, 'mentally': 1942, 'possessed': 2323, 'fortunately': 1267, 'triumph': 3266, 'strain': 3014, 'sorrow': 2918, 'prayer': 2340, 'bless': 315, 'forth': 1264, 'quitted': 2446, 'dreamt': 915, 'strangest': 3019, 'written': 3534, 'disk': 859, 'sable': 2670, 'folds': 1237, 'azure': 233, 'commence': 569, 'seeking': 2730, 'articles': 179, 'pearl': 2229, 'purse': 2421, 'straw': 3020, 'aught': 217, 'rapture': 2463, 'impatience': 1581, 'forsaken': 1263, 'mechanically': 1929, 'noticed': 2098, 'thinks': 3180, 'edge': 966, 'bone': 337, 'gaping': 1318, 'coach': 547, 'subsequent': 3053, 'occasional': 2126, 'public': 2407, 'neat': 2059, 'locks': 1839, 'amuse': 118, 'immense': 1578, 'secured': 2725, 'est': 1043, 'remained': 2536, 'ah': 85, 'minded': 1967, 'knitting': 1732, 'lap': 1753, 'explanations': 1099, 'panes': 2187, 'receiving': 2491, 'granite': 1405, 'remark': 2539, 'previous': 2365, 'pray': 2339, 'abrupt': 5, 'sufficiently': 3069, 'convenient': 649, 'rug': 2659, 'limb': 1814, 'port': 2317, 'appearance': 149, 'hasty': 1472, 'difference': 831, 'et': 1046, 'insensible': 1637, 'depends': 790, 'humph': 1549, 'indifferent': 1608, 'salary': 2678, 'dispense': 866, 'submit': 3052, 'substance': 3054, 'frank': 1279, 'governesses': 1399, 'assure': 196, 'blame': 309, 'eighteen': 977, 'innate': 1629, 'writing': 3533, 'confess': 608, 'poison': 2308, 'talks': 3132, 'devil': 823, 'guest': 1438, 'distinguish': 875, 'eternal': 1047, 'uneasy': 3300, 'invisible': 1674, 'regretted': 2520, 'store': 3007, 'foul': 1273, 'bewildered': 298, 'gaily': 1312, 'variety': 3346, 'nay': 2055, 'runs': 2665, 'brains': 360, 'il': 1569, 'sophie': 2916, 'skirt': 2866, 'replaced': 2564, 'worn': 3521, 'spreading': 2960, 'vous': 3388, 'de': 737, 'pas': 2212, 'fain': 1122, 'liking': 1813, 'roman': 2643, 'approved': 160, 'latticed': 1760, 'aged': 77, 'potent': 2329, 'clung': 545, 'bridle': 376, 'wilderness': 3477, 'moorland': 2005, 'faced': 1114, 'sweep': 3110, 'communicated': 577, 'trodden': 3267, 'animal': 125, 'commenced': 570, 'alternately': 107, 'sounded': 2926, 'extend': 1104, 'regarded': 2516, 'abstracted': 12, 'hoary': 1518, 'zeal': 3553, 'distinct': 873, 'doctrines': 884, 'aspirations': 189, 'city': 521, 'saved': 2689, 'remaining': 2537, 'earn': 952, 'strangers': 3018, 'shoulders': 2811, 'radiance': 2451, 'educated': 967, 'lines': 1819, 'succeeding': 3058, 'observations': 2119, 'utmost': 3329, 'simply': 2841, 'needle': 2065, 'prevent': 2363, 'decision': 749, 'rave': 2467, 'add': 48, 'handed': 1449, 'picture': 2270, 'relation': 2526, 'advice': 67, 'anger': 121, 'mourning': 2023, 'news': 2077, 'valuable': 3339, 'repaired': 2557, 'abandoned': 0, 'bible': 300, 'perish': 2246, 'assigned': 191, 'border': 342, 'muslin': 2037, 'yards': 3540, 'history': 1515, 'lesson': 1787, 'chapter': 475, 'ship': 2799, 'retained': 2602, 'asking': 186, 'delivering': 776, 'teacher': 3142, 'altered': 106, 'carry': 441, 'closet': 539, 'bit': 305, 'drift': 924, 'parents': 2197, 'derived': 793, 'value': 3340, 'dreaming': 913, 'crown': 696, 'gain': 1313, 'obedient': 2109, 'punishment': 2412, 'deserved': 801, 'vengeance': 3355, 'christ': 513, 'pour': 2331, 'record': 2501, 'emotions': 996, 'fold': 1235, 'fled': 1223, 'london': 1842, 'actually': 47, 'milk': 1963, 'inn': 1628, 'wherever': 3458, 'paint': 2183, 'lighting': 1805, 'frocks': 1297, 'chimneys': 506, 'helping': 1502, 'period': 2245, 'anybody': 137, 'doubts': 897, 'apron': 162, 'grate': 1409, 'descend': 794, 'smoke': 2885, 'porter': 2318, 'leah': 1770, 'scoured': 2709, 'banisters': 241, 'gloves': 1385, 'ordered': 2160, 'angle': 122, 'blent': 314, 'closing': 540, 'hungry': 1554, 'mademoiselle': 1877, 'roll': 2641, 'regained': 2514, 'hum': 1544, 'tenants': 3159, 'elegance': 984, 'cups': 702, 'backwards': 235, 'issued': 1686, 'whither': 3467, 'notes': 2096, 'intent': 1656, 'formal': 1259, 'lift': 1801, 'distinguished': 876, 'array': 174, 'names': 2047, 'elegant': 985, 'figures': 1196, 'stature': 2980, 'fifty': 1194, 'bearing': 250, 'pillar': 2274, 'clever': 531, 'obtained': 2123, 'motionless': 2015, 'mocking': 1988, 'ward': 3412, 'simultaneously': 2842, 'spoilt': 2954, 'brilliantly': 380, 'eyebrows': 1111, 'colourless': 562, 'pronounce': 2388, 'big': 302, 'phlegmatic': 2262, 'pay': 2227, 'hoped': 1527, 'allusion': 98, 'shrank': 2817, 'madame': 1875, 'extremities': 1109, 'parson': 2200, 'benefit': 288, 'discovery': 855, 'depend': 788, 'introduction': 1673, 'preference': 2346, 'creatures': 684, 'grant': 1406, 'exact': 1062, 'inflict': 1619, 'touching': 3232, 'crossing': 694, 'hundreds': 1551, 'ardent': 164, 'calmed': 421, 'story': 3011, 'spasm': 2936, 'contented': 637, 'clustered': 546, 'tray': 3253, 'dismay': 861, 'discerned': 849, 'seed': 2727, 'cake': 414, 'fare': 1140, 'woke': 3505, 'bloodless': 321, 'climax': 532, 'afresh': 73, 'imagination': 1573, 'nests': 2075, 'possibility': 2325, 'problem': 2375, 'corded': 659, 'horses': 1534, 'coachman': 548, 'drove': 933, 'mysterious': 2042, 'towns': 3236, 'street': 3025, 'misty': 1987, 'blaze': 313, 'uncertain': 3291, 'total': 3229, 'stuff': 3045, 'signed': 2831, 'unclosed': 3293, 'nearest': 2057, 'thanks': 3171, 'ranged': 2458, 'brass': 362, 'responsibility': 2588, 'owner': 2176, 'decay': 743, 'delivered': 775, 'shine': 2797, 'perusal': 2259, 'interesting': 1662, 'pages': 2178, 'charity': 481, 'manager': 1891, 'huge': 1543, 'relish': 2534, 'inch': 1596, 'bethought': 295, 'ascending': 180, 'battlements': 246, 'happily': 1459, 'jewels': 1695, 'listener': 1827, 'card': 431, 'destitute': 814, 'prefer': 2345, 'accepted': 20, 'blackened': 308, 'resident': 2576, 'autumn': 221, 'bedside': 265, 'unnatural': 3310, 'couch': 667, 'flames': 1220, 'peril': 2244, 'concluded': 602, 'deuce': 821, 'staying': 2983, 'acknowledgment': 35, 'debt': 742, 'tolerable': 3217, 'obligation': 2114, 'gale': 1315, 'delirium': 774, 'seven': 2767, 'image': 1572, 'ride': 2617, 'loss': 1855, 'busied': 406, 'shire': 2800, 'trusted': 3274, 'accepting': 21, 'notions': 2100, 'bolted': 336, 'finally': 1199, 'sleeping': 2870, 'push': 2424, 'chilly': 504, 'doubtful': 895, 'firmer': 1211, 'blooming': 325, 'remarkable': 2540, 'deed': 753, 'wreck': 3530, 'letters': 1792, 'boy': 358, 'pencil': 2232, 'decided': 747, 'portrait': 2320, 'sketch': 2863, 'system': 3119, 'quarters': 2435, 'religion': 2533, 'seemingly': 2733, 'longing': 1847, 'madeira': 1876, 'breathing': 371, 'stamped': 2967, 'modern': 1990, 'eccentric': 964, 'fearing': 1164, 'insult': 1650, 'enigma': 1014, 'nowhere': 2103, 'tops': 3224, 'qu': 2429, 'beckoned': 258, 'preparing': 2352, 'attach': 202, 'lives': 1834, 'recurred': 2502, 'landscape': 1749, 'including': 1601, 'links': 1822, 'lake': 1745, 'amiable': 113, 'requested': 2571, 'propitious': 2394, 'attempted': 206, 'mischief': 1975, 'evident': 1059, 'fashioned': 1146, 'lead': 1768, 'mused': 2034, 'conceive': 598, 'astir': 198, 'gasped': 1322, 'destroyed': 816, 'undertook': 3299, 'sorts': 2921, 'throb': 3196, 'romantic': 2644, 'november': 2102, 'fitting': 1215, 'advancing': 63, 'foliage': 1238, 'december': 744, 'shadows': 2777, 'disappeared': 846, 'rent': 2554, 'talented': 3126}\n"
     ]
    }
   ],
   "source": [
    "print(vc.vocabulary_)"
   ]
  },
  {
   "cell_type": "code",
   "execution_count": 37,
   "metadata": {},
   "outputs": [
    {
     "data": {
      "text/html": [
       "<div>\n",
       "<style scoped>\n",
       "    .dataframe tbody tr th:only-of-type {\n",
       "        vertical-align: middle;\n",
       "    }\n",
       "\n",
       "    .dataframe tbody tr th {\n",
       "        vertical-align: top;\n",
       "    }\n",
       "\n",
       "    .dataframe thead th {\n",
       "        text-align: right;\n",
       "    }\n",
       "</style>\n",
       "<table border=\"1\" class=\"dataframe\">\n",
       "  <thead>\n",
       "    <tr style=\"text-align: right;\">\n",
       "      <th></th>\n",
       "      <th>abandoned</th>\n",
       "      <th>abbot</th>\n",
       "      <th>abhor</th>\n",
       "      <th>able</th>\n",
       "      <th>abode</th>\n",
       "      <th>abrupt</th>\n",
       "      <th>abruptly</th>\n",
       "      <th>absence</th>\n",
       "      <th>absent</th>\n",
       "      <th>absolute</th>\n",
       "      <th>...</th>\n",
       "      <th>yellow</th>\n",
       "      <th>yesterday</th>\n",
       "      <th>yield</th>\n",
       "      <th>yielded</th>\n",
       "      <th>yielding</th>\n",
       "      <th>yonder</th>\n",
       "      <th>young</th>\n",
       "      <th>younger</th>\n",
       "      <th>youth</th>\n",
       "      <th>zeal</th>\n",
       "    </tr>\n",
       "  </thead>\n",
       "  <tbody>\n",
       "    <tr>\n",
       "      <th>28</th>\n",
       "      <td>0</td>\n",
       "      <td>0</td>\n",
       "      <td>0</td>\n",
       "      <td>0</td>\n",
       "      <td>0</td>\n",
       "      <td>0</td>\n",
       "      <td>0</td>\n",
       "      <td>1</td>\n",
       "      <td>1</td>\n",
       "      <td>0</td>\n",
       "      <td>...</td>\n",
       "      <td>0</td>\n",
       "      <td>3</td>\n",
       "      <td>0</td>\n",
       "      <td>0</td>\n",
       "      <td>0</td>\n",
       "      <td>1</td>\n",
       "      <td>1</td>\n",
       "      <td>0</td>\n",
       "      <td>0</td>\n",
       "      <td>0</td>\n",
       "    </tr>\n",
       "    <tr>\n",
       "      <th>14</th>\n",
       "      <td>0</td>\n",
       "      <td>0</td>\n",
       "      <td>0</td>\n",
       "      <td>0</td>\n",
       "      <td>0</td>\n",
       "      <td>0</td>\n",
       "      <td>0</td>\n",
       "      <td>0</td>\n",
       "      <td>0</td>\n",
       "      <td>0</td>\n",
       "      <td>...</td>\n",
       "      <td>2</td>\n",
       "      <td>1</td>\n",
       "      <td>0</td>\n",
       "      <td>0</td>\n",
       "      <td>0</td>\n",
       "      <td>0</td>\n",
       "      <td>2</td>\n",
       "      <td>1</td>\n",
       "      <td>0</td>\n",
       "      <td>0</td>\n",
       "    </tr>\n",
       "    <tr>\n",
       "      <th>36</th>\n",
       "      <td>1</td>\n",
       "      <td>0</td>\n",
       "      <td>0</td>\n",
       "      <td>0</td>\n",
       "      <td>1</td>\n",
       "      <td>0</td>\n",
       "      <td>0</td>\n",
       "      <td>0</td>\n",
       "      <td>0</td>\n",
       "      <td>0</td>\n",
       "      <td>...</td>\n",
       "      <td>0</td>\n",
       "      <td>3</td>\n",
       "      <td>0</td>\n",
       "      <td>0</td>\n",
       "      <td>0</td>\n",
       "      <td>2</td>\n",
       "      <td>1</td>\n",
       "      <td>0</td>\n",
       "      <td>0</td>\n",
       "      <td>0</td>\n",
       "    </tr>\n",
       "    <tr>\n",
       "      <th>24</th>\n",
       "      <td>0</td>\n",
       "      <td>1</td>\n",
       "      <td>0</td>\n",
       "      <td>0</td>\n",
       "      <td>0</td>\n",
       "      <td>0</td>\n",
       "      <td>0</td>\n",
       "      <td>0</td>\n",
       "      <td>0</td>\n",
       "      <td>0</td>\n",
       "      <td>...</td>\n",
       "      <td>0</td>\n",
       "      <td>0</td>\n",
       "      <td>0</td>\n",
       "      <td>0</td>\n",
       "      <td>0</td>\n",
       "      <td>0</td>\n",
       "      <td>1</td>\n",
       "      <td>0</td>\n",
       "      <td>0</td>\n",
       "      <td>0</td>\n",
       "    </tr>\n",
       "    <tr>\n",
       "      <th>20</th>\n",
       "      <td>0</td>\n",
       "      <td>0</td>\n",
       "      <td>0</td>\n",
       "      <td>2</td>\n",
       "      <td>0</td>\n",
       "      <td>0</td>\n",
       "      <td>0</td>\n",
       "      <td>0</td>\n",
       "      <td>0</td>\n",
       "      <td>0</td>\n",
       "      <td>...</td>\n",
       "      <td>0</td>\n",
       "      <td>0</td>\n",
       "      <td>0</td>\n",
       "      <td>0</td>\n",
       "      <td>3</td>\n",
       "      <td>0</td>\n",
       "      <td>6</td>\n",
       "      <td>0</td>\n",
       "      <td>0</td>\n",
       "      <td>0</td>\n",
       "    </tr>\n",
       "    <tr>\n",
       "      <th>34</th>\n",
       "      <td>0</td>\n",
       "      <td>0</td>\n",
       "      <td>0</td>\n",
       "      <td>0</td>\n",
       "      <td>0</td>\n",
       "      <td>0</td>\n",
       "      <td>0</td>\n",
       "      <td>0</td>\n",
       "      <td>0</td>\n",
       "      <td>0</td>\n",
       "      <td>...</td>\n",
       "      <td>0</td>\n",
       "      <td>0</td>\n",
       "      <td>0</td>\n",
       "      <td>0</td>\n",
       "      <td>0</td>\n",
       "      <td>2</td>\n",
       "      <td>2</td>\n",
       "      <td>0</td>\n",
       "      <td>1</td>\n",
       "      <td>0</td>\n",
       "    </tr>\n",
       "    <tr>\n",
       "      <th>31</th>\n",
       "      <td>0</td>\n",
       "      <td>0</td>\n",
       "      <td>0</td>\n",
       "      <td>1</td>\n",
       "      <td>0</td>\n",
       "      <td>0</td>\n",
       "      <td>0</td>\n",
       "      <td>0</td>\n",
       "      <td>0</td>\n",
       "      <td>1</td>\n",
       "      <td>...</td>\n",
       "      <td>0</td>\n",
       "      <td>0</td>\n",
       "      <td>0</td>\n",
       "      <td>0</td>\n",
       "      <td>0</td>\n",
       "      <td>0</td>\n",
       "      <td>4</td>\n",
       "      <td>1</td>\n",
       "      <td>1</td>\n",
       "      <td>0</td>\n",
       "    </tr>\n",
       "    <tr>\n",
       "      <th>13</th>\n",
       "      <td>1</td>\n",
       "      <td>0</td>\n",
       "      <td>0</td>\n",
       "      <td>2</td>\n",
       "      <td>0</td>\n",
       "      <td>0</td>\n",
       "      <td>0</td>\n",
       "      <td>0</td>\n",
       "      <td>0</td>\n",
       "      <td>0</td>\n",
       "      <td>...</td>\n",
       "      <td>0</td>\n",
       "      <td>0</td>\n",
       "      <td>1</td>\n",
       "      <td>0</td>\n",
       "      <td>0</td>\n",
       "      <td>0</td>\n",
       "      <td>2</td>\n",
       "      <td>0</td>\n",
       "      <td>0</td>\n",
       "      <td>0</td>\n",
       "    </tr>\n",
       "    <tr>\n",
       "      <th>6</th>\n",
       "      <td>0</td>\n",
       "      <td>0</td>\n",
       "      <td>0</td>\n",
       "      <td>1</td>\n",
       "      <td>0</td>\n",
       "      <td>0</td>\n",
       "      <td>0</td>\n",
       "      <td>3</td>\n",
       "      <td>1</td>\n",
       "      <td>1</td>\n",
       "      <td>...</td>\n",
       "      <td>0</td>\n",
       "      <td>0</td>\n",
       "      <td>0</td>\n",
       "      <td>1</td>\n",
       "      <td>0</td>\n",
       "      <td>0</td>\n",
       "      <td>2</td>\n",
       "      <td>3</td>\n",
       "      <td>0</td>\n",
       "      <td>0</td>\n",
       "    </tr>\n",
       "    <tr>\n",
       "      <th>38</th>\n",
       "      <td>0</td>\n",
       "      <td>0</td>\n",
       "      <td>0</td>\n",
       "      <td>0</td>\n",
       "      <td>0</td>\n",
       "      <td>0</td>\n",
       "      <td>0</td>\n",
       "      <td>0</td>\n",
       "      <td>0</td>\n",
       "      <td>0</td>\n",
       "      <td>...</td>\n",
       "      <td>0</td>\n",
       "      <td>0</td>\n",
       "      <td>0</td>\n",
       "      <td>3</td>\n",
       "      <td>0</td>\n",
       "      <td>0</td>\n",
       "      <td>0</td>\n",
       "      <td>0</td>\n",
       "      <td>0</td>\n",
       "      <td>1</td>\n",
       "    </tr>\n",
       "  </tbody>\n",
       "</table>\n",
       "<p>10 rows × 3554 columns</p>\n",
       "</div>"
      ],
      "text/plain": [
       "    abandoned  abbot  abhor  able  abode  abrupt  abruptly  absence  absent  \\\n",
       "28          0      0      0     0      0       0         0        1       1   \n",
       "14          0      0      0     0      0       0         0        0       0   \n",
       "36          1      0      0     0      1       0         0        0       0   \n",
       "24          0      1      0     0      0       0         0        0       0   \n",
       "20          0      0      0     2      0       0         0        0       0   \n",
       "34          0      0      0     0      0       0         0        0       0   \n",
       "31          0      0      0     1      0       0         0        0       0   \n",
       "13          1      0      0     2      0       0         0        0       0   \n",
       "6           0      0      0     1      0       0         0        3       1   \n",
       "38          0      0      0     0      0       0         0        0       0   \n",
       "\n",
       "    absolute  ...  yellow  yesterday  yield  yielded  yielding  yonder  young  \\\n",
       "28         0  ...       0          3      0        0         0       1      1   \n",
       "14         0  ...       2          1      0        0         0       0      2   \n",
       "36         0  ...       0          3      0        0         0       2      1   \n",
       "24         0  ...       0          0      0        0         0       0      1   \n",
       "20         0  ...       0          0      0        0         3       0      6   \n",
       "34         0  ...       0          0      0        0         0       2      2   \n",
       "31         1  ...       0          0      0        0         0       0      4   \n",
       "13         0  ...       0          0      1        0         0       0      2   \n",
       "6          1  ...       0          0      0        1         0       0      2   \n",
       "38         0  ...       0          0      0        3         0       0      0   \n",
       "\n",
       "    younger  youth  zeal  \n",
       "28        0      0     0  \n",
       "14        1      0     0  \n",
       "36        0      0     0  \n",
       "24        0      0     0  \n",
       "20        0      0     0  \n",
       "34        0      1     0  \n",
       "31        1      1     0  \n",
       "13        0      0     0  \n",
       "6         3      0     0  \n",
       "38        0      0     1  \n",
       "\n",
       "[10 rows x 3554 columns]"
      ]
     },
     "execution_count": 37,
     "metadata": {},
     "output_type": "execute_result"
    }
   ],
   "source": [
    "word_vect_df = pd.DataFrame(data=vectors.toarray(), columns=vc.get_feature_names_out())\n",
    "word_vect_df.sample(10)"
   ]
  },
  {
   "cell_type": "code",
   "execution_count": 38,
   "metadata": {},
   "outputs": [
    {
     "data": {
      "text/plain": [
       "rochester    366\n",
       "jane         346\n",
       "sir          316\n",
       "miss         310\n",
       "mrs          252\n",
       "night        223\n",
       "john         202\n",
       "door         182\n",
       "love         153\n",
       "make         152\n",
       "way          150\n",
       "without      149\n",
       "away         149\n",
       "man          146\n",
       "went         144\n",
       "cannot       139\n",
       "st           137\n",
       "fairfax      137\n",
       "head         136\n",
       "back         135\n",
       "dtype: int64"
      ]
     },
     "execution_count": 38,
     "metadata": {},
     "output_type": "execute_result"
    }
   ],
   "source": [
    "word_vect_df.sum(axis=0).sort_values(ascending=False).head(20)"
   ]
  },
  {
   "cell_type": "markdown",
   "metadata": {},
   "source": [
    "## Mini-project 2: Classification (1:15) - Lorin\n",
    "\n",
    "#### Data: [On the Books Laws](https://cdr.lib.unc.edu/concern/data_sets/v405sk89q?locale=en)\n",
    "#### Tools: Scitkit-learn, Pandas, \n",
    "#### Methods: Supervised (Jim Crow vs. Non-Jim Crow) vs Unsupervised (Topic-modeling)\n",
    "#### Helpful: [Comparing classifiers](https://scikit-learn.org/stable/auto_examples/classification/plot_classifier_comparison.html)\n"
   ]
  },
  {
   "cell_type": "markdown",
   "metadata": {},
   "source": [
    "Bring in labeled training set"
   ]
  },
  {
   "cell_type": "code",
   "execution_count": 38,
   "metadata": {},
   "outputs": [
    {
     "name": "stdout",
     "output_type": "stream",
     "text": [
      "<class 'pandas.core.frame.DataFrame'>\n",
      "RangeIndex: 1785 entries, 0 to 1784\n",
      "Data columns (total 12 columns):\n",
      " #   Column                  Non-Null Count  Dtype \n",
      "---  ------                  --------------  ----- \n",
      " 0   id                      1785 non-null   object\n",
      " 1   source                  1785 non-null   object\n",
      " 2   jim_crow                1785 non-null   int64 \n",
      " 3   chapter_num             1785 non-null   int64 \n",
      " 4   section_num             1785 non-null   int64 \n",
      " 5   chapter_text            1785 non-null   object\n",
      " 6   section_text            1785 non-null   object\n",
      " 7   year                    1785 non-null   int64 \n",
      " 8   type_private laws       1785 non-null   int64 \n",
      " 9   type_public laws        1785 non-null   int64 \n",
      " 10  type_public local laws  1785 non-null   int64 \n",
      " 11  type_session laws       1785 non-null   int64 \n",
      "dtypes: int64(8), object(4)\n",
      "memory usage: 167.5+ KB\n"
     ]
    }
   ],
   "source": [
    "import pandas as pd\n",
    "\n",
    "df = pd.read_csv(\"datasets/otb_training_set.csv\")\n",
    "df.info()"
   ]
  },
  {
   "cell_type": "markdown",
   "metadata": {},
   "source": [
    "Includes 512 examples of Jim Crow laws and 1273 non Jim Crow laws."
   ]
  },
  {
   "cell_type": "code",
   "execution_count": 12,
   "metadata": {},
   "outputs": [
    {
     "data": {
      "text/plain": [
       "0    1273\n",
       "1     512\n",
       "Name: jim_crow, dtype: int64"
      ]
     },
     "execution_count": 12,
     "metadata": {},
     "output_type": "execute_result"
    }
   ],
   "source": [
    "df.jim_crow.value_counts()"
   ]
  },
  {
   "cell_type": "markdown",
   "metadata": {},
   "source": [
    "Laws were labeled as Jim Crow or Not Jim Crow according to scholarly works (Pauli Murray, Richard Paschal) and experts at UNC (William Sturkey, among others)"
   ]
  },
  {
   "cell_type": "code",
   "execution_count": 10,
   "metadata": {},
   "outputs": [
    {
     "data": {
      "text/plain": [
       "project experts    1673\n",
       "paschal              74\n",
       "murray               38\n",
       "Name: source, dtype: int64"
      ]
     },
     "execution_count": 10,
     "metadata": {},
     "output_type": "execute_result"
    }
   ],
   "source": [
    "df.source.value_counts()"
   ]
  },
  {
   "cell_type": "markdown",
   "metadata": {},
   "source": [
    "We need to pick a target for our classification, aka the \"output\"."
   ]
  },
  {
   "cell_type": "code",
   "execution_count": 31,
   "metadata": {},
   "outputs": [],
   "source": [
    "target = df[\"jim_crow\"]"
   ]
  },
  {
   "cell_type": "markdown",
   "metadata": {},
   "source": [
    "What features do we want to train the models on? They will be our \"inputs\"."
   ]
  },
  {
   "cell_type": "code",
   "execution_count": 29,
   "metadata": {},
   "outputs": [
    {
     "name": "stdout",
     "output_type": "stream",
     "text": [
      "<class 'pandas.core.frame.DataFrame'>\n",
      "RangeIndex: 1785 entries, 0 to 1784\n",
      "Data columns (total 6 columns):\n",
      " #   Column                  Non-Null Count  Dtype \n",
      "---  ------                  --------------  ----- \n",
      " 0   section_text            1785 non-null   object\n",
      " 1   year                    1785 non-null   int64 \n",
      " 2   type_private laws       1785 non-null   uint8 \n",
      " 3   type_public laws        1785 non-null   uint8 \n",
      " 4   type_public local laws  1785 non-null   uint8 \n",
      " 5   type_session laws       1785 non-null   uint8 \n",
      "dtypes: int64(1), object(1), uint8(4)\n",
      "memory usage: 35.0+ KB\n"
     ]
    }
   ],
   "source": [
    "features = df.loc[:, \"section_text\" : \"type_session laws\"]\n",
    "features.info()"
   ]
  },
  {
   "cell_type": "markdown",
   "metadata": {},
   "source": [
    "Use train-test-split to separate data into training and testing sets. 80% will be training, 20% will be testing - set by test_size = 0.2.  Data is chosen for the different sets at random, so random_state allows us all to get the same results. X_train and X_test include the inputs. y_train and y_test include the output."
   ]
  },
  {
   "cell_type": "code",
   "execution_count": 32,
   "metadata": {},
   "outputs": [],
   "source": [
    "import numpy as np\n",
    "from sklearn.model_selection import train_test_split\n",
    "\n",
    "X_train, X_test, y_train, y_test = train_test_split(features, target, test_size = 0.2, random_state = 25)"
   ]
  },
  {
   "cell_type": "markdown",
   "metadata": {},
   "source": [
    "## Mini-project 3: Sentiment Analysis (1:35) - Rolando\n",
    "\n",
    "#### Data: [Chaptgpt Sentiment Analysis](https://www.kaggle.com/datasets/charunisa/chatgpt-sentiment-analysis)\n",
    "#### Tools: Textblob, NLTK, spaCy, Transformers\n",
    "#### Methods: Dictionary (+ rule-based) vs. Transformer-based approach"
   ]
  }
 ],
 "metadata": {
  "kernelspec": {
   "display_name": "base",
   "language": "python",
   "name": "python3"
  },
  "language_info": {
   "codemirror_mode": {
    "name": "ipython",
    "version": 3
   },
   "file_extension": ".py",
   "mimetype": "text/x-python",
   "name": "python",
   "nbconvert_exporter": "python",
   "pygments_lexer": "ipython3",
   "version": "3.9.13"
  }
 },
 "nbformat": 4,
 "nbformat_minor": 2
}
