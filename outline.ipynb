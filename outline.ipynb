{
 "cells": [
  {
   "cell_type": "markdown",
   "metadata": {},
   "source": [
    "# Text Analysis With Python "
   ]
  },
  {
   "cell_type": "markdown",
   "metadata": {},
   "source": [
    "## Introduction - Lorin"
   ]
  },
  {
   "cell_type": "markdown",
   "metadata": {},
   "source": [
    "## Python Packages often used for Text Analysis - Rolando\n",
    "- Directly related to Text Analysis\n",
    "    - NLTK\n",
    "    - spaCy\n",
    "    - Textblob\n",
    "    - Gensim\n",
    "    - Transformers\n",
    "\n",
    "- Useful tools for text analysis\n",
    "    - Pandas\n",
    "    - Scikit-Learn\n",
    "    - Matplotlib\n"
   ]
  },
  {
   "cell_type": "markdown",
   "metadata": {},
   "source": [
    "## Mini-project 1: Word Frequencies (1:05) - Rolando\n",
    "\n",
    "#### Data: [Jane Eyre - Charlotte Brontë](https://www.gutenberg.org/files/1260/1260-h/1260-h.htm)\n",
    "#### Tools: NLTK, Scitkit-learn, Pandas\n",
    "#### Method: Simple N-grams (Document vs Chapters), Maybe TF-IDF, "
   ]
  },
  {
   "cell_type": "markdown",
   "metadata": {},
   "source": [
    "## Mini-project 2: Classification (1:15) - Lorin\n",
    "\n",
    "#### Data: [On the Books Laws](https://cdr.lib.unc.edu/concern/data_sets/v405sk89q?locale=en)\n",
    "#### Tools: Scitkit-learn, Pandas, \n",
    "#### Methods: Supervised (Jim Crow vs. Non-Jim Crow) vs Unsupervised (Topic-modeling)\n",
    "#### Helpful: [Comparing classifiers](https://scikit-learn.org/stable/auto_examples/classification/plot_classifier_comparison.html)\n"
   ]
  },
  {
   "cell_type": "markdown",
   "metadata": {},
   "source": [
    "## Mini-project 3: Sentiment Analysis (1:35) - Rolando\n",
    "\n",
    "#### Data: [Chaptgpt Sentiment Analysis](https://www.kaggle.com/datasets/charunisa/chatgpt-sentiment-analysis)\n",
    "#### Tools: Textblob, NLTK, spaCy, Transformers\n",
    "#### Methods: Dictionary (+ rule-based) vs. Transformer-based approach"
   ]
  }
 ],
 "metadata": {
  "kernelspec": {
   "display_name": "base",
   "language": "python",
   "name": "python3"
  },
  "language_info": {
   "codemirror_mode": {
    "name": "ipython",
    "version": 3
   },
   "file_extension": ".py",
   "mimetype": "text/x-python",
   "name": "python",
   "nbconvert_exporter": "python",
   "pygments_lexer": "ipython3",
   "version": "3.9.13"
  }
 },
 "nbformat": 4,
 "nbformat_minor": 2
}
