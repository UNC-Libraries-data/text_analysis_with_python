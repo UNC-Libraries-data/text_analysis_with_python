{
 "cells": [
  {
   "cell_type": "markdown",
   "metadata": {},
   "source": [
    "# Text Analysis With Python "
   ]
  },
  {
   "cell_type": "markdown",
   "metadata": {},
   "source": [
    "This workshop covers a number of text analysis techniques using Python. It assumes you You are welcome to follow along in the IDE of your choice, but the instructors will be using Jupyter Lab.\n",
    "\n",
    "## Be sure you have the following packages installed\n",
    "- **pandas**\n",
    "- **sklearn**\n",
    "- **seaborn**\n",
    "\n",
    "Additionally, we will be using **os and re**"
   ]
  },
  {
   "cell_type": "markdown",
   "metadata": {},
   "source": [
    "## Python Packages often used for Text Analysis - Rolando\n",
    "- Directly related to Text Analysis\n",
    "    - NLTK\n",
    "    - spaCy\n",
    "    - Textblob\n",
    "    - Gensim\n",
    "    - Transformers\n",
    "\n",
    "- Useful tools for text analysis\n",
    "    - Pandas\n",
    "    - Scikit-Learn\n",
    "    - Matplotlib\n"
   ]
  },
  {
   "cell_type": "markdown",
   "metadata": {},
   "source": [
    "## Mini-project 1: Word Frequencies (1:05) - Rolando\n",
    "\n",
    "#### Data: [Jane Eyre - Charlotte Brontë](https://www.gutenberg.org/files/1260/1260-h/1260-h.htm)\n",
    "#### Tools: NLTK, Scitkit-learn, Pandas\n",
    "#### Method: Simple N-grams (Document vs Chapters), Maybe TF-IDF, "
   ]
  },
  {
   "cell_type": "markdown",
   "metadata": {},
   "source": [
    "##### 1. Load in data"
   ]
  },
  {
   "cell_type": "code",
   "execution_count": 1,
   "metadata": {},
   "outputs": [],
   "source": [
    "import os \n",
    "\n",
    "chapter_texts = []\n",
    "chs_dir = './datasets/jane_eyre_bronte/'\n",
    "for ch in os.listdir(chs_dir):\n",
    "    ch_path = os.path.join(chs_dir, ch)\n",
    "    with open(ch_path, 'r') as f:\n",
    "        f.readline() # reading through the first line\n",
    "        txt = f.readlines()\n",
    "        chapter_texts.append(txt)"
   ]
  },
  {
   "cell_type": "code",
   "execution_count": 2,
   "metadata": {},
   "outputs": [
    {
     "data": {
      "text/plain": [
       "['\\n',\n",
       " '\\n',\n",
       " 'There was no possibility of taking a walk that day. We had been\\n',\n",
       " 'wandering, indeed, in the leafless shrubbery an hour in the morning;\\n',\n",
       " 'but since dinner (Mrs. Reed, when there was no company, dined early)\\n',\n",
       " 'the cold winter wind had brought with it clouds so sombre, and a rain\\n',\n",
       " 'so penetrating, that further outdoor exercise was now out of the\\n',\n",
       " 'question.\\n',\n",
       " '\\n',\n",
       " 'I was glad of it: I never liked long walks, especially on chilly\\n']"
      ]
     },
     "execution_count": 2,
     "metadata": {},
     "output_type": "execute_result"
    }
   ],
   "source": [
    "# the first ten lines from the first chapter\n",
    "chapter_texts[0][:10]"
   ]
  },
  {
   "cell_type": "markdown",
   "metadata": {},
   "source": [
    "##### 2. Preprocessing"
   ]
  },
  {
   "cell_type": "markdown",
   "metadata": {},
   "source": [
    "Most text analysis projects require a number of steps to **preprocess** the text. Usually, this involves removing undesired characters such as punctuation and line breaks. Below, we use [**regular expressions**](https://docs.python.org/3/library/re.html) to achieve this task. "
   ]
  },
  {
   "cell_type": "code",
   "execution_count": 3,
   "metadata": {},
   "outputs": [],
   "source": [
    "import re\n",
    "\n",
    "# join the lines together first with nested list comprehensions\n",
    "joined_chs = [''.join([line for line in ch if line != '\\n']) for ch in chapter_texts]\n",
    "\n",
    "# replace break lines (\\n) with spaces\n",
    "no_bl_chs = [re.sub(r'\\n', ' ', ch) for ch in joined_chs]\n",
    "\n",
    "# remove punctuation\n",
    "no_punct_chs = [re.sub(r'[:;.,_“”\\']', '', ch) for ch in no_bl_chs]"
   ]
  },
  {
   "cell_type": "markdown",
   "metadata": {},
   "source": [
    "#### 3. Vectorize Text\n",
    "Now we can count the number of times each word appears and create a vector of words along with their frequencies. This is done using Scikit-learn's [Count Vectorizer](https://scikit-learn.org/stable/modules/generated/sklearn.feature_extraction.text.CountVectorizer.html).\n",
    "\n",
    "Notice the CountVectorizer allows the use of stop words. Stop words are extremely common words that often appear in most texts, such as \"a, and, the\". These words aren't usually very informative. Sklearn provides standardized lists of stopwords available in different languages."
   ]
  },
  {
   "cell_type": "code",
   "execution_count": 4,
   "metadata": {},
   "outputs": [],
   "source": [
    "import pandas as pd\n",
    "from nltk.corpus import stopwords\n",
    "from sklearn.feature_extraction.text import CountVectorizer, TfidfVectorizer\n",
    "\n",
    "stopwords = set(stopwords.words('english'))\n",
    "\n",
    "# demonstrating some of the parameters within Count Vectorizer\n",
    "vc = CountVectorizer(lowercase=True, \n",
    "                     stop_words=stopwords,\n",
    "                     ngram_range=(1,1),\n",
    "                     max_df=0.9,\n",
    "                     min_df=0.1)\n",
    "\n",
    "vectors = vc.fit_transform(no_punct_chs)\n"
   ]
  },
  {
   "cell_type": "markdown",
   "metadata": {},
   "source": [
    "Below, we can see the output of the CountVectorizer and the frequency of different words used in the text."
   ]
  },
  {
   "cell_type": "code",
   "execution_count": 5,
   "metadata": {},
   "outputs": [
    {
     "name": "stdout",
     "output_type": "stream",
     "text": [
      "{'possibility': 2325, 'taking': 3124, 'walk': 3397, 'wandering': 3406, 'indeed': 1602, 'shrubbery': 2818, 'since': 2844, 'dinner': 840, 'mrs': 2030, 'reed': 2504, 'company': 583, 'dined': 838, 'early': 951, 'cold': 554, 'winter': 3487, 'wind': 3482, 'brought': 392, 'clouds': 544, 'sombre': 2905, 'rain': 2453, 'penetrating': 2234, 'exercise': 1081, 'question': 2437, 'glad': 1365, 'liked': 1809, 'walks': 3400, 'especially': 1042, 'chilly': 504, 'dreadful': 911, 'coming': 567, 'home': 1523, 'raw': 2468, 'twilight': 3286, 'fingers': 1204, 'bessie': 292, 'nurse': 2106, 'consciousness': 621, 'physical': 2265, 'eliza': 989, 'john': 1696, 'georgiana': 1347, 'clustered': 546, 'round': 2654, 'mama': 1887, 'drawing': 907, 'lay': 1766, 'sofa': 2893, 'fireside': 1209, 'neither': 2070, 'quarrelling': 2433, 'perfectly': 2240, 'happy': 1461, 'group': 1429, 'saying': 2690, 'regretted': 2520, 'necessity': 2061, 'keeping': 1710, 'distance': 871, 'discover': 853, 'observation': 2118, 'earnest': 953, 'disposition': 870, 'attractive': 215, 'manner': 1892, 'natural': 2051, 'really': 2481, 'exclude': 1078, 'intended': 1655, 'contented': 637, 'children': 501, 'done': 888, 'jane': 1690, 'besides': 291, 'truly': 3271, 'child': 499, 'seated': 2719, 'somewhere': 2910, 'speak': 2937, 'remain': 2535, 'silent': 2834, 'breakfast': 366, 'slipped': 2876, 'contained': 633, 'possessed': 2323, 'volume': 3387, 'care': 432, 'pictures': 2271, 'mounted': 2021, 'window': 3483, 'seat': 2718, 'gathering': 1328, 'feet': 1176, 'sat': 2682, 'cross': 692, 'drawn': 908, 'red': 2503, 'curtain': 709, 'nearly': 2058, 'close': 535, 'double': 892, 'retirement': 2604, 'folds': 1237, 'drapery': 902, 'shut': 2822, 'view': 3362, 'right': 2619, 'clear': 527, 'panes': 2187, 'glass': 1371, 'november': 2102, 'intervals': 1667, 'turning': 3282, 'leaves': 1781, 'book': 340, 'studied': 3042, 'aspect': 188, 'afternoon': 74, 'offered': 2139, 'pale': 2186, 'blank': 311, 'cloud': 543, 'scene': 2697, 'wet': 3451, 'lawn': 1765, 'storm': 3010, 'beat': 252, 'ceaseless': 454, 'sweeping': 3111, 'away': 229, 'wildly': 3478, 'blast': 312, 'returned': 2608, 'history': 1515, 'british': 383, 'birds': 304, 'generally': 1336, 'speaking': 2939, 'certain': 459, 'pages': 2178, 'pass': 2213, 'treat': 3255, 'sea': 2713, 'solitary': 2903, 'rocks': 2639, 'extremity': 1110, 'north': 2092, 'ocean': 2134, 'vast': 3348, 'melancholy': 1935, 'farthest': 1142, 'among': 115, 'unnoticed': 3312, 'suggestion': 3072, 'sweep': 3110, 'forlorn': 1257, 'regions': 2518, 'dreary': 916, 'space': 2931, 'frost': 1299, 'snow': 2889, 'firm': 1210, 'fields': 1189, 'ice': 1561, 'glazed': 1372, 'extreme': 1108, 'death': 741, 'white': 3466, 'formed': 1260, 'idea': 1562, 'shadowy': 2778, 'half': 1447, 'notions': 2100, 'dim': 836, 'brains': 360, 'strangely': 3016, 'words': 3513, 'connected': 615, 'succeeding': 3058, 'gave': 1329, 'rock': 2638, 'standing': 2969, 'alone': 100, 'broken': 387, 'desolate': 805, 'ghastly': 1354, 'moon': 2002, 'glancing': 1369, 'wreck': 3530, 'cannot': 426, 'sentiment': 2750, 'haunted': 1478, 'churchyard': 517, 'gate': 1323, 'trees': 3259, 'low': 1865, 'horizon': 1530, 'wall': 3401, 'risen': 2626, 'crescent': 687, 'believed': 280, 'fiend': 1190, 'behind': 276, 'passed': 2215, 'quickly': 2441, 'object': 2112, 'terror': 3167, 'black': 307, 'thing': 3177, 'distant': 872, 'surrounding': 3103, 'picture': 2270, 'told': 3216, 'story': 3011, 'mysterious': 2042, 'often': 2143, 'understanding': 3297, 'imperfect': 1583, 'feelings': 1174, 'interesting': 1662, 'tales': 3128, 'sometimes': 2908, 'chanced': 469, 'humour': 1548, 'table': 3120, 'nursery': 2107, 'hearth': 1486, 'allowed': 97, 'us': 3322, 'sit': 2856, 'got': 1397, 'lace': 1741, 'borders': 344, 'fed': 1169, 'eager': 947, 'attention': 210, 'love': 1859, 'taken': 3123, 'old': 2145, 'fairy': 1126, 'later': 1758, 'period': 2245, 'discovered': 854, 'knee': 1725, 'least': 1779, 'way': 3433, 'feared': 1162, 'door': 890, 'opened': 2150, 'madam': 1874, 'cried': 688, 'voice': 3384, 'paused': 2225, 'apparently': 145, 'empty': 999, 'continued': 643, 'sisters': 2855, 'run': 2663, 'bad': 236, 'animal': 125, 'drew': 922, 'wished': 3493, 'place': 2281, 'quick': 2440, 'either': 978, 'vision': 3373, 'head': 1480, 'sure': 3097, 'immediately': 1577, 'trembled': 3261, 'dragged': 900, 'forth': 1264, 'want': 3408, 'master': 1912, 'answer': 129, 'arm': 166, 'chair': 463, 'intimated': 1670, 'gesture': 1350, 'approach': 155, 'stand': 2968, 'years': 3543, 'four': 1274, 'older': 2146, 'ten': 3158, 'large': 1754, 'stout': 3012, 'age': 76, 'skin': 2865, 'thick': 3175, 'lineaments': 1817, 'visage': 3371, 'heavy': 1493, 'limbs': 1815, 'extremities': 1109, 'cheeks': 489, 'ought': 2170, 'school': 2702, 'month': 1999, 'account': 30, 'delicate': 768, 'health': 1482, 'miles': 1962, 'affirmed': 71, 'cakes': 415, 'sent': 2747, 'mother': 2014, 'turned': 3281, 'opinion': 2154, 'harsh': 1466, 'inclined': 1599, 'rather': 2466, 'refined': 2505, 'owing': 2175, 'perhaps': 2243, 'affection': 70, 'antipathy': 133, 'three': 3189, 'times': 3207, 'week': 3443, 'twice': 3285, 'continually': 641, 'every': 1054, 'nerve': 2071, 'morsel': 2009, 'flesh': 1224, 'bones': 338, 'shrank': 2817, 'moments': 1994, 'bewildered': 298, 'inspired': 1641, 'whatever': 3452, 'servants': 2758, 'offend': 2137, 'young': 3550, 'part': 2202, 'blind': 318, 'subject': 3049, 'strike': 3030, 'abuse': 16, 'presence': 2353, 'frequently': 1286, 'however': 1542, 'back': 234, 'obedient': 2109, 'spent': 2947, 'minutes': 1972, 'thrusting': 3201, 'tongue': 3220, 'without': 3501, 'roots': 2648, 'knew': 1729, 'blow': 327, 'mused': 2034, 'ugly': 3289, 'appearance': 149, 'presently': 2356, 'deal': 739, 'wonder': 3508, 'read': 2473, 'notion': 2099, 'struck': 3039, 'suddenly': 3062, 'strongly': 3038, 'retired': 2603, 'step': 2987, 'answering': 131, 'getting': 1353, 'curtains': 710, 'accustomed': 32, 'endure': 1008, 'certainly': 460, 'follow': 1239, 'insult': 1650, 'reading': 2476, 'show': 2812, 'thence': 3173, 'business': 407, 'books': 341, 'dependent': 789, 'says': 2691, 'money': 1995, 'father': 1152, 'none': 2088, 'beg': 267, 'live': 1830, 'gentlemen': 1342, 'eat': 963, 'meals': 1920, 'clothes': 541, 'teach': 3141, 'mine': 1969, 'mirror': 1973, 'windows': 3484, 'aware': 228, 'intention': 1657, 'lift': 1801, 'act': 40, 'instinctively': 1647, 'started': 2974, 'aside': 184, 'cry': 700, 'enough': 1018, 'flung': 1232, 'hit': 1516, 'fell': 1177, 'striking': 3031, 'cut': 712, 'pain': 2180, 'sharp': 2786, 'climax': 532, 'succeeded': 3057, 'wicked': 3471, 'cruel': 697, 'boy': 358, 'slave': 2868, 'driver': 928, 'roman': 2643, 'rome': 2645, 'also': 104, 'silence': 2833, 'thus': 3203, 'declared': 751, 'aloud': 102, 'hear': 1483, 'ran': 2456, 'grasp': 1407, 'hair': 1446, 'shoulder': 2810, 'closed': 536, 'desperate': 807, 'tyrant': 3288, 'drop': 930, 'blood': 320, 'neck': 2062, 'sensible': 2746, 'somewhat': 2909, 'pungent': 2410, 'suffering': 3065, 'sensations': 2743, 'fear': 1161, 'received': 2490, 'frantic': 1280, 'sort': 2920, 'hands': 1451, 'called': 418, 'aid': 86, 'gone': 1395, 'upstairs': 3319, 'upon': 3317, 'followed': 1240, 'maid': 1879, 'abbot': 1, 'parted': 2203, 'dear': 740, 'fury': 1309, 'anybody': 137, 'passion': 2217, 'subjoined': 3050, 'lock': 1837, 'laid': 1744, 'borne': 347, 'new': 2076, 'circumstance': 519, 'greatly': 1419, 'miss': 1978, 'disposed': 869, 'entertain': 1022, 'fact': 1116, 'beside': 290, 'french': 1284, 'conscious': 620, 'moment': 1992, 'mutiny': 2039, 'already': 103, 'rendered': 2552, 'liable': 1794, 'strange': 3015, 'resolved': 2580, 'desperation': 808, 'hold': 1519, 'arms': 167, 'mad': 1873, 'cat': 448, 'shame': 2782, 'lady': 1743, 'shocking': 2803, 'conduct': 606, 'eyre': 1113, 'gentleman': 1341, 'benefactress': 287, 'son': 2911, 'servant': 2757, 'less': 1786, 'keep': 1709, 'apartment': 141, 'thrust': 3200, 'stool': 3002, 'impulse': 1593, 'rise': 2625, 'spring': 2961, 'pair': 2185, 'arrested': 175, 'instantly': 1644, 'tied': 3206, 'break': 365, 'directly': 845, 'necessary': 2060, 'preparation': 2348, 'took': 3221, 'excitement': 1075, 'stir': 2995, 'attached': 203, 'mind': 1966, 'ascertained': 182, 'loosened': 1851, 'stood': 3001, 'folded': 1236, 'looking': 1848, 'always': 109, 'reply': 2566, 'missis': 1982, 'agreed': 84, 'girl': 1359, 'cover': 677, 'answered': 130, 'ere': 1034, 'addressing': 54, 'keeps': 1711, 'turn': 3280, 'recollections': 2499, 'existence': 1085, 'included': 1600, 'kind': 1714, 'reproach': 2569, 'become': 259, 'vague': 3334, 'sing': 2848, 'song': 2912, 'ear': 950, 'painful': 2181, 'joined': 1698, 'equality': 1032, 'misses': 1979, 'kindly': 1717, 'humble': 1546, 'try': 3276, 'make': 1882, 'agreeable': 83, 'added': 49, 'useful': 3325, 'pleasant': 2295, 'passionate': 2218, 'rude': 2658, 'send': 2741, 'god': 1390, 'punish': 2411, 'dead': 738, 'midst': 1957, 'leave': 1780, 'anything': 138, 'prayers': 2341, 'repent': 2561, 'permitted': 2251, 'chimney': 505, 'fetch': 1183, 'went': 3448, 'square': 2962, 'chamber': 466, 'seldom': 2738, 'slept': 2871, 'unless': 3308, 'chance': 468, 'visitors': 3378, 'gateshead': 1325, 'hall': 1448, 'chambers': 467, 'mansion': 1895, 'bed': 262, 'supported': 3094, 'massive': 1911, 'hung': 1552, 'deep': 756, 'centre': 457, 'similar': 2838, 'carpet': 438, 'foot': 1246, 'covered': 678, 'crimson': 690, 'walls': 3402, 'soft': 2894, 'colour': 560, 'blush': 330, 'pink': 2277, 'wardrobe': 3413, 'toilet': 3214, 'chairs': 464, 'polished': 2310, 'shades': 2775, 'rose': 2650, 'high': 1509, 'piled': 2273, 'spread': 2959, 'snowy': 2890, 'scarcely': 2693, 'ample': 117, 'easy': 962, 'throne': 3197, 'chill': 502, 'fire': 1207, 'remote': 2548, 'kitchen': 1724, 'solemn': 2901, 'known': 1736, 'entered': 1020, 'wipe': 3489, 'mirrors': 1974, 'furniture': 1308, 'quiet': 2443, 'dust': 940, 'contents': 638, 'secret': 2722, 'drawer': 905, 'miniature': 1970, 'husband': 1558, 'lies': 1800, 'spell': 2945, 'kept': 1712, 'lonely': 1844, 'spite': 2952, 'nine': 2083, 'breathed': 370, 'state': 2977, 'coffin': 552, 'men': 1940, 'sense': 2744, 'guarded': 1435, 'frequent': 1285, 'bitter': 306, 'riveted': 2631, 'marble': 1898, 'piece': 2272, 'dark': 723, 'subdued': 3048, 'reflections': 2509, 'muffled': 2031, 'repeated': 2560, 'vacant': 3333, 'whether': 3459, 'locked': 1838, 'dared': 720, 'move': 2025, 'alas': 91, 'secure': 2724, 'returning': 2609, 'glance': 1366, 'involuntarily': 1677, 'depth': 791, 'revealed': 2611, 'colder': 555, 'darker': 725, 'visionary': 3374, 'hollow': 1522, 'reality': 2480, 'figure': 1195, 'gazing': 1333, 'gloom': 1381, 'glittering': 1380, 'moving': 2029, 'else': 990, 'effect': 972, 'real': 2478, 'spirit': 2949, 'tiny': 3210, 'evening': 1051, 'stories': 3009, 'represented': 2568, 'moors': 2006, 'superstition': 3090, 'complete': 588, 'victory': 3361, 'warm': 3414, 'mood': 2001, 'vigour': 3366, 'rapid': 2461, 'rush': 2666, 'present': 2354, 'violent': 3369, 'proud': 2401, 'indifference': 1607, 'aversion': 223, 'disturbed': 880, 'condemned': 604, 'please': 2296, 'useless': 3326, 'win': 3481, 'favour': 1156, 'selfish': 2740, 'respected': 2583, 'temper': 3151, 'carriage': 439, 'indulged': 1612, 'beauty': 256, 'golden': 1394, 'curls': 707, 'give': 1361, 'delight': 770, 'purchase': 2415, 'fault': 1154, 'set': 2763, 'sheep': 2790, 'stripped': 3034, 'fruit': 1301, 'broke': 386, 'plants': 2289, 'wishes': 3494, 'unfrequently': 3302, 'tore': 3225, 'silk': 2836, 'attire': 211, 'darling': 727, 'commit': 573, 'duty': 942, 'sullen': 3075, 'noon': 2091, 'night': 2080, 'fall': 1130, 'avert': 224, 'farther': 1141, 'violence': 3368, 'general': 1335, 'unjust': 3306, 'reason': 2484, 'forced': 1249, 'stimulus': 2994, 'transitory': 3246, 'power': 2334, 'equally': 1033, 'wrought': 3537, 'expedient': 1092, 'escape': 1039, 'insupportable': 1651, 'running': 2664, 'effected': 973, 'die': 829, 'soul': 2923, 'brain': 359, 'tumult': 3278, 'darkness': 726, 'dense': 782, 'ignorance': 1567, 'mental': 1941, 'inward': 1679, 'suffered': 3064, 'many': 1897, 'clearly': 529, 'nobody': 2085, 'harmony': 1465, 'chosen': 512, 'bound': 352, 'regard': 2515, 'sympathise': 3117, 'amongst': 116, 'opposed': 2156, 'capacity': 428, 'propensities': 2391, 'incapable': 1595, 'interest': 1660, 'adding': 50, 'pleasure': 2299, 'noxious': 2104, 'cherishing': 495, 'germs': 1349, 'indignation': 1609, 'treatment': 3257, 'contempt': 635, 'judgment': 1702, 'brilliant': 379, 'careless': 436, 'exacting': 1063, 'handsome': 1452, 'friendless': 1290, 'endured': 1009, 'entertained': 1023, 'fellow': 1178, 'feeling': 1173, 'daylight': 734, 'began': 268, 'past': 2221, 'clock': 534, 'beating': 254, 'staircase': 2965, 'grew': 1422, 'stone': 2999, 'courage': 672, 'sank': 2680, 'habitual': 1445, 'self': 2739, 'doubt': 893, 'damp': 716, 'embers': 993, 'ire': 1681, 'crime': 689, 'fit': 1213, 'vault': 3349, 'church': 516, 'inviting': 1676, 'bourne': 354, 'lie': 1799, 'buried': 399, 'led': 1783, 'recall': 2487, 'dwelt': 945, 'dread': 909, 'remember': 2542, 'uncle': 3292, 'brother': 390, 'infant': 1617, 'required': 2573, 'promise': 2385, 'rear': 2482, 'maintain': 1881, 'probably': 2374, 'considered': 629, 'dare': 719, 'nature': 2053, 'permit': 2250, 'race': 2450, 'tie': 3205, 'find': 1200, 'hard': 1463, 'wrung': 3538, 'pledge': 2301, 'stead': 2984, 'parent': 2196, 'alien': 92, 'permanently': 2248, 'family': 1136, 'singular': 2851, 'dawned': 733, 'doubted': 894, 'alive': 95, 'treated': 3256, 'occasionally': 2127, 'towards': 3233, 'dimly': 837, 'gleaming': 1375, 'troubled': 3269, 'earth': 956, 'harassed': 1462, 'sister': 2854, 'quit': 2445, 'abode': 4, 'unknown': 3307, 'world': 3520, 'departed': 786, 'wiped': 3490, 'tears': 3146, 'hushed': 1560, 'sobs': 2891, 'fearful': 1163, 'lest': 1789, 'sign': 2830, 'grief': 1424, 'preternatural': 2360, 'comfort': 565, 'bending': 285, 'pity': 2280, 'terrible': 3166, 'realised': 2479, 'endeavoured': 1005, 'shaking': 2781, 'lifted': 1802, 'tried': 3264, 'gleamed': 1374, 'ray': 2469, 'aperture': 142, 'moonlight': 2003, 'stirred': 2996, 'gazed': 1332, 'glided': 1378, 'ceiling': 455, 'quivered': 2448, 'conjecture': 614, 'readily': 2475, 'gleam': 1373, 'lantern': 1752, 'carried': 440, 'across': 39, 'prepared': 2351, 'horror': 1532, 'shaken': 2780, 'nerves': 2072, 'hot': 1535, 'sound': 2925, 'filled': 1198, 'ears': 955, 'deemed': 754, 'wings': 3486, 'endurance': 1007, 'rushed': 2667, 'shook': 2806, 'effort': 974, 'steps': 2989, 'along': 101, 'passage': 2214, 'key': 1713, 'ill': 1570, 'noise': 2087, 'exclaimed': 1077, 'let': 1790, 'hurt': 1557, 'seen': 2735, 'demanded': 778, 'oh': 2144, 'ghost': 1355, 'snatch': 2887, 'purpose': 2420, 'disgust': 858, 'wanted': 3409, 'bring': 381, 'corridor': 664, 'cap': 427, 'flying': 1234, 'wide': 3473, 'gown': 1400, 'rustling': 2669, 'believe': 279, 'orders': 2161, 'loud': 1858, 'loose': 1850, 'succeed': 3056, 'means': 1923, 'assured': 197, 'abhor': 2, 'particularly': 2206, 'stay': 2981, 'longer': 1846, 'condition': 605, 'perfect': 2239, 'stillness': 2993, 'aunt': 218, 'forgive': 1254, 'sincerely': 2846, 'passions': 2219, 'mean': 1921, 'dangerous': 718, 'retreated': 2606, 'impatient': 1582, 'anguish': 124, 'wild': 3476, 'abruptly': 6, 'suppose': 3095, 'species': 2941, 'next': 2078, 'waking': 3396, 'frightful': 1294, 'nightmare': 2081, 'seeing': 2728, 'glare': 1370, 'crossed': 693, 'voices': 3385, 'water': 3429, 'confused': 612, 'faculties': 1117, 'became': 257, 'lifting': 1803, 'sitting': 2858, 'raised': 2454, 'rested': 2590, 'pillow': 2275, 'five': 1216, 'candle': 424, 'burnt': 403, 'basin': 245, 'leaning': 1773, 'inexpressible': 1616, 'relief': 2531, 'soothing': 2915, 'conviction': 654, 'security': 2726, 'stranger': 3017, 'individual': 1610, 'related': 2525, 'instance': 1642, 'scrutinised': 2711, 'employed': 997, 'pronounced': 2389, 'name': 2045, 'offering': 2140, 'smiling': 2884, 'charged': 479, 'careful': 434, 'given': 1362, 'directions': 844, 'call': 417, 'sheltered': 2795, 'darkened': 724, 'sadness': 2674, 'feel': 1172, 'sleep': 2869, 'softly': 2896, 'sentence': 2748, 'rough': 2653, 'drink': 925, 'thank': 3169, 'twelve': 3283, 'ask': 185, 'matter': 1917, 'sick': 2824, 'housemaid': 1540, 'poor': 2314, 'whispering': 3462, 'together': 3212, 'asleep': 187, 'caught': 450, 'conversation': 650, 'able': 3, 'distinctly': 874, 'main': 1880, 'discussed': 856, 'dressed': 919, 'vanished': 3342, 'dog': 885, 'grave': 1414, 'alike': 94, 'severe': 2769, 'prolonged': 2384, 'bodily': 332, 'illness': 1571, 'incident': 1597, 'shock': 2801, 'owe': 2174, 'strings': 3033, 'wrapped': 3528, 'shawl': 2788, 'physically': 2266, 'weak': 3435, 'worse': 3522, 'sooner': 2913, 'cheek': 488, 'sewing': 2772, 'moved': 2026, 'thither': 3183, 'putting': 2426, 'arranging': 173, 'drawers': 906, 'addressed': 53, 'unwonted': 3316, 'kindness': 1718, 'things': 3178, 'paradise': 2192, 'peace': 2228, 'calm': 420, 'soothe': 2914, 'excite': 1073, 'painted': 2184, 'china': 508, 'plate': 2290, 'whose': 3470, 'bird': 303, 'wreath': 3529, 'admiration': 55, 'order': 2159, 'examine': 1066, 'closely': 537, 'hitherto': 1517, 'privilege': 2372, 'precious': 2342, 'placed': 2282, 'invited': 1675, 'vain': 3335, 'favours': 1160, 'late': 1756, 'tints': 3209, 'flowers': 1231, 'faded': 1119, 'acted': 41, 'begged': 270, 'travels': 3250, 'library': 1797, 'perused': 2260, 'narrative': 2048, 'vein': 3352, 'deeper': 757, 'sought': 2922, 'beneath': 286, 'ground': 1427, 'ivy': 1688, 'length': 1785, 'sad': 2673, 'truth': 3275, 'england': 1012, 'savage': 2687, 'country': 670, 'woods': 3512, 'population': 2315, 'creed': 685, 'solid': 2902, 'parts': 2210, 'voyage': 3389, 'houses': 1541, 'people': 2236, 'mighty': 1959, 'monster': 1998, 'tower': 3234, 'women': 3507, 'cherished': 494, 'charm': 482, 'failed': 1121, 'eerie': 970, 'wanderer': 3405, 'finished': 1206, 'washed': 3422, 'full': 1303, 'splendid': 2953, 'satin': 2683, 'making': 1885, 'bonnet': 339, 'doll': 887, 'meantime': 1925, 'sang': 2679, 'days': 735, 'ago': 80, 'lively': 1833, 'sweet': 3112, 'work': 3515, 'funeral': 1305, 'doleful': 886, 'weary': 3439, 'mountains': 2020, 'path': 2222, 'orphan': 2167, 'grey': 1423, 'hearted': 1485, 'angels': 120, 'watch': 3426, 'breeze': 372, 'blowing': 328, 'stars': 2972, 'mild': 1960, 'mercy': 1946, 'showing': 2815, 'hope': 1526, 'passing': 2216, 'stray': 3021, 'false': 1133, 'lights': 1808, 'bosom': 348, 'strength': 3026, 'avail': 222, 'shelter': 2794, 'kindred': 1719, 'heaven': 1492, 'rest': 2589, 'fail': 1120, 'friend': 1289, 'burn': 400, 'divine': 882, 'course': 673, 'cheerful': 491, 'sir': 2853, 'daresay': 721, 'interposed': 1664, 'surely': 3098, 'wounded': 3527, 'charge': 478, 'hate': 1474, 'going': 1392, 'miserable': 1976, 'appeared': 150, 'puzzled': 2428, 'fixed': 1218, 'steadily': 2985, 'small': 2880, 'bright': 378, 'featured': 1167, 'natured': 2054, 'leisure': 1784, 'yesterday': 3545, 'manage': 1889, 'eight': 976, 'knocked': 1733, 'explanation': 1098, 'pang': 2188, 'pride': 2367, 'helped': 1501, 'box': 357, 'pocket': 2303, 'bell': 281, 'rang': 2457, 'stayed': 2982, 'obliged': 2115, 'pursued': 2423, 'smile': 2881, 'afraid': 72, 'died': 830, 'help': 1500, 'forget': 1252, 'nonsense': 2089, 'makes': 1884, 'unhappy': 3303, 'fully': 1304, 'difficult': 833, 'frame': 1277, 'partially': 2204, 'express': 1100, 'result': 2597, 'process': 2379, 'losing': 1854, 'opportunity': 2155, 'pause': 2224, 'contrived': 647, 'true': 3270, 'response': 2587, 'brothers': 391, 'cousins': 676, 'second': 2720, 'produced': 2380, 'beautiful': 255, 'thankful': 3170, 'fine': 1202, 'wish': 3492, 'anywhere': 139, 'get': 1351, 'woman': 3506, 'knows': 1737, 'relations': 2527, 'possibly': 2327, 'reflected': 2507, 'poverty': 2333, 'looks': 1849, 'grim': 1426, 'grown': 1433, 'working': 3517, 'respectable': 2582, 'scanty': 2692, 'food': 1244, 'manners': 1893, 'degradation': 764, 'even': 1050, 'learn': 1775, 'adopt': 60, 'grow': 1431, 'washing': 3423, 'cottage': 666, 'doors': 891, 'village': 3367, 'heroic': 1504, 'liberty': 1796, 'price': 2366, 'caste': 447, 'relatives': 2529, 'spoke': 2955, 'ladies': 1742, 'wore': 3514, 'expected': 1090, 'precise': 2343, 'hated': 1475, 'tastes': 3138, 'rule': 2661, 'accounts': 31, 'gathered': 1327, 'lived': 1831, 'details': 817, 'accomplishments': 26, 'play': 2292, 'listened': 1826, 'change': 470, 'journey': 1699, 'entire': 1025, 'separation': 2753, 'entrance': 1027, 'audible': 216, 'conclusion': 603, 'musings': 2036, 'happen': 1456, 'air': 89, 'gravel': 1415, 'mistress': 1985, 'interview': 1668, 'presume': 2359, 'ventured': 3357, 'adopted': 61, 'rid': 2616, 'watching': 3428, 'everybody': 1055, 'occasion': 2125, 'learned': 1776, 'clergyman': 530, 'married': 1903, 'friends': 1292, 'match': 1914, 'irritated': 1683, 'shilling': 2796, 'year': 3542, 'latter': 1759, 'typhus': 3287, 'fever': 1186, 'visiting': 3376, 'town': 3235, 'situated': 2859, 'disease': 857, 'within': 3500, 'sighed': 2828, 'responded': 2586, 'nice': 2079, 'pretty': 2362, 'rate': 2465, 'fervent': 1181, 'blue': 329, 'fancy': 1139, 'supper': 3091, 'discourse': 852, 'wishing': 3495, 'desired': 803, 'waited': 3392, 'weeks': 3444, 'regained': 2514, 'allusion': 98, 'surveyed': 3104, 'marked': 1901, 'line': 1816, 'closet': 539, 'hint': 1513, 'certainty': 461, 'roof': 2646, 'expressed': 1101, 'evidently': 1060, 'acting': 42, 'according': 28, 'possible': 2326, 'whenever': 3456, 'attempted': 206, 'roused': 2655, 'burst': 404, 'nose': 2093, 'feature': 1166, 'inflict': 1619, 'inclination': 1598, 'advantage': 64, 'tone': 3218, 'commence': 569, 'tale': 3125, 'stopped': 3006, 'talk': 3129, 'worthy': 3525, 'notice': 2097, 'choose': 510, 'hearing': 1484, 'swept': 3115, 'edge': 966, 'utter': 3330, 'syllable': 3116, 'demand': 777, 'utterance': 3331, 'control': 648, 'breath': 369, 'usually': 3328, 'composed': 591, 'papa': 2189, 'rallied': 2455, 'spirits': 2950, 'proved': 2403, 'beyond': 299, 'abandoned': 0, 'reared': 2483, 'breast': 368, 'december': 744, 'january': 1692, 'christmas': 515, 'usual': 3327, 'cheer': 490, 'parties': 2207, 'enjoyment': 1017, 'excluded': 1079, 'share': 2784, 'gaiety': 1311, 'daily': 714, 'descend': 794, 'thin': 3176, 'muslin': 2037, 'frocks': 1297, 'afterwards': 75, 'listening': 1828, 'piano': 2268, 'played': 2293, 'fro': 1295, 'butler': 410, 'handed': 1449, 'hum': 1544, 'tired': 3211, 'occupation': 2130, 'rarely': 2464, 'noticed': 2098, 'spend': 2946, 'quietly': 2444, 'instead': 1645, 'used': 3324, 'housekeeper': 1539, 'bearing': 250, 'dull': 936, 'hastily': 1471, 'best': 293, 'human': 1545, 'beings': 278, 'objects': 2113, 'loving': 1864, 'image': 1572, 'absurd': 14, 'sincerity': 2847, 'sensation': 2742, 'safe': 2675, 'comparatively': 585, 'likewise': 1812, 'hours': 1537, 'seem': 2731, 'departure': 787, 'stairs': 2966, 'interval': 1666, 'seek': 2729, 'cheese': 492, 'cake': 414, 'ate': 201, 'kissed': 1722, 'gentle': 1340, 'amiable': 113, 'push': 2424, 'task': 3134, 'remarkable': 2540, 'judge': 1701, 'impression': 1590, 'person': 2253, 'correct': 663, 'features': 1168, 'complexion': 590, 'hasty': 1472, 'indifferent': 1608, 'ideas': 1564, 'principle': 2369, 'justice': 1705, 'preferred': 2347, 'summoned': 3080, 'garden': 1320, 'coat': 550, 'feed': 1171, 'fond': 1243, 'obtained': 2123, 'shown': 2816, 'flower': 1230, 'odd': 2136, 'paper': 2190, 'valued': 3341, 'treasure': 3254, 'consented': 623, 'fifty': 1194, 'quarter': 2434, 'anxious': 136, 'dressing': 921, 'store': 3007, 'strict': 3028, 'arranged': 170, 'dress': 918, 'scattered': 2696, 'abrupt': 5, 'command': 568, 'plates': 2291, 'cups': 702, 'property': 2393, 'breathing': 371, 'grounds': 1428, 'petrified': 2261, 'influence': 1620, 'visible': 3372, 'porter': 2318, 'lodge': 1840, 'road': 2632, 'silver': 2837, 'foliage': 1238, 'gates': 1324, 'thrown': 3199, 'open': 2149, 'roll': 2641, 'watched': 3427, 'ascending': 180, 'drive': 926, 'interested': 1661, 'front': 1298, 'admitted': 59, 'livelier': 1832, 'attraction': 214, 'spectacle': 2943, 'hungry': 1554, 'cherry': 496, 'tree': 3258, 'casement': 445, 'remains': 2538, 'bread': 364, 'milk': 1963, 'yielded': 3547, 'closing': 540, 'replied': 2565, 'mischief': 1975, 'opening': 2151, 'spared': 2934, 'trouble': 3268, 'hurry': 1556, 'listen': 1825, 'explanations': 1099, 'happily': 1459, 'brief': 377, 'coarse': 549, 'top': 3222, 'bid': 301, 'slowly': 2878, 'descended': 795, 'months': 2000, 'dining': 839, 'rooms': 2647, 'awful': 231, 'dismayed': 862, 'trembling': 3262, 'punishment': 2412, 'return': 2607, 'forward': 1271, 'parlour': 2199, 'agitated': 79, 'hesitation': 1505, 'ringing': 2622, 'decided': 747, 'enter': 1019, 'inwardly': 1680, 'stiff': 2991, 'efforts': 975, 'man': 1888, 'unclosed': 3293, 'pillar': 2274, 'sight': 2829, 'straight': 3013, 'narrow': 2049, 'sable': 2670, 'clad': 522, 'shape': 2783, 'erect': 1035, 'rug': 2659, 'capital': 429, 'occupied': 2132, 'introduced': 1672, 'respecting': 2585, 'examined': 1067, 'inquisitive': 1636, 'brows': 395, 'size': 2862, 'doubtful': 895, 'scrutiny': 2712, 'tall': 3133, 'lines': 1819, 'impossible': 1588, 'held': 1497, 'contrary': 645, 'shake': 2779, 'brocklehurst': 385, 'sorry': 2919, 'opposite': 2157, 'stepped': 2988, 'almost': 99, 'level': 1793, 'mouth': 2024, 'teeth': 3148, 'hell': 1499, 'ready': 2477, 'burning': 401, 'avoid': 225, 'younger': 3551, 'remove': 2549, 'cast': 446, 'sigh': 2827, 'excellent': 1070, 'bible': 300, 'revelations': 2612, 'bit': 305, 'six': 2861, 'angel': 119, 'gets': 1352, 'remarked': 2541, 'pray': 2339, 'clean': 526, 'touching': 3232, 'operation': 2153, 'performed': 2242, 'telling': 3149, 'proceeded': 2377, 'carry': 441, 'letter': 1791, 'wrote': 3536, 'character': 476, 'admit': 58, 'lowood': 1867, 'superintendent': 3088, 'teachers': 3143, 'requested': 2571, 'guard': 1434, 'worst': 3523, 'tendency': 3160, 'mention': 1943, 'attempt': 205, 'dislike': 860, 'wound': 3526, 'carefully': 435, 'obeyed': 2111, 'repaid': 2555, 'sentences': 2749, 'uttered': 3332, 'perceived': 2238, 'destined': 812, 'future': 1310, 'transformed': 3245, 'falsehood': 1134, 'portion': 2319, 'lake': 1745, 'temple': 3153, 'prospects': 2397, 'permission': 2249, 'judicious': 1703, 'humility': 1547, 'christian': 514, 'grace': 1401, 'peculiarly': 2231, 'pupils': 2414, 'therefore': 3174, 'direct': 841, 'bestowed': 294, 'pleasing': 2298, 'proof': 2390, 'success': 3059, 'daughter': 730, 'visit': 3375, 'plain': 2284, 'girls': 1360, 'outside': 2172, 'approve': 159, 'system': 3119, 'exactly': 1064, 'fitting': 1215, 'duties': 941, 'observed': 2121, 'arrangement': 171, 'establishment': 1044, 'fare': 1140, 'simple': 2839, 'active': 45, 'habits': 1444, 'depend': 788, 'pupil': 2413, 'conformity': 611, 'position': 2321, 'trust': 3273, 'grateful': 1410, 'assure': 196, 'relieved': 2532, 'responsibility': 2588, 'becoming': 261, 'expect': 1088, 'difficulty': 835, 'receiving': 2491, 'bye': 412, 'guide': 1441, 'prayer': 2340, 'containing': 634, 'sudden': 3061, 'seven': 2767, 'thirty': 3182, 'robust': 2636, 'strong': 3037, 'developed': 822, 'brow': 393, 'chin': 507, 'sufficiently': 3069, 'regular': 2521, 'eyebrows': 1111, 'constitution': 632, 'exact': 1062, 'clever': 531, 'manager': 1891, 'household': 1538, 'thoroughly': 3185, 'authority': 220, 'laughed': 1762, 'scorn': 2707, 'port': 2317, 'calculated': 416, 'yards': 3540, 'liar': 1795, 'pointed': 2305, 'warning': 3419, 'concerning': 601, 'whole': 3468, 'plainly': 2285, 'settled': 2766, 'suspended': 3106, 'movements': 2028, 'irritation': 1684, 'walked': 3398, 'trodden': 3267, 'loved': 1860, 'declare': 750, 'except': 1071, 'tells': 3150, 'dwell': 943, 'address': 52, 'thrilled': 3194, 'relation': 2526, 'cruelty': 698, 'dying': 946, 'agony': 81, 'distress': 877, 'suffer': 3063, 'questions': 2439, 'strangest': 3019, 'freedom': 1282, 'triumph': 3266, 'invisible': 1674, 'cause': 451, 'mistake': 1983, 'tremble': 3260, 'desire': 802, 'understand': 3296, 'faults': 1155, 'allow': 96, 'murmured': 2033, 'quitted': 2446, 'field': 1188, 'gained': 1314, 'enjoyed': 1016, 'solitude': 2904, 'smiled': 2882, 'fierce': 1191, 'fast': 1147, 'throb': 3196, 'furious': 1306, 'remorse': 2547, 'ridge': 2618, 'lighted': 1804, 'heath': 1490, 'meet': 1933, 'flames': 1220, 'subsequent': 3053, 'reflection': 2508, 'madness': 1878, 'vengeance': 3355, 'tasted': 3137, 'wine': 3485, 'poisoned': 2309, 'willingly': 3480, 'pardon': 2195, 'partly': 2209, 'experience': 1093, 'instinct': 1646, 'exciting': 1076, 'fain': 1122, 'faculty': 1118, 'thoughts': 3186, 'page': 2177, 'fascinating': 1143, 'reigned': 2522, 'sun': 3082, 'skirt': 2866, 'frock': 1296, 'falling': 1132, 'autumn': 221, 'leaned': 1772, 'short': 2807, 'grass': 1408, 'sky': 2867, 'hoary': 1518, 'wretched': 3531, 'compared': 586, 'brooding': 389, 'conflict': 610, 'anger': 121, 'action': 43, 'frank': 1279, 'indulge': 1611, 'somehow': 2907, 'pleased': 2297, 'nodded': 2086, 'queer': 2436, 'shy': 2823, 'news': 2077, 'fix': 1217, 'tea': 3140, 'cook': 656, 'trunk': 3272, 'start': 2973, 'sharply': 2787, 'provoking': 2406, 'others': 2168, 'talking': 3131, 'coolly': 658, 'kiss': 1721, 'welcome': 3447, 'bend': 284, 'stooped': 3003, 'sweetest': 3113, 'gleams': 1376, 'sunshine': 3087, 'ceased': 453, 'melted': 1937, 'april': 161, 'nights': 2082, 'veins': 3353, 'sunny': 3085, 'genial': 1338, 'brown': 394, 'beds': 264, 'suggested': 3071, 'traversed': 3252, 'traces': 3239, 'drops': 932, 'purple': 2419, 'eyed': 1112, 'thursday': 3202, 'hedges': 1495, 'bounded': 353, 'prospect': 2396, 'noble': 2084, 'hill': 1511, 'rich': 2615, 'shadow': 2776, 'stones': 3000, 'different': 832, 'viewed': 3363, 'iron': 1682, 'wandered': 3404, 'east': 961, 'rolled': 2642, 'frozen': 1300, 'torrent': 3227, 'wood': 3511, 'banks': 242, 'showed': 2813, 'ranks': 2460, 'advanced': 62, 'serene': 2754, 'placid': 2283, 'tresses': 3263, 'green': 1421, 'oak': 2108, 'restored': 2593, 'sprang': 2958, 'moss': 2012, 'wealth': 3437, 'gold': 1393, 'lustre': 1870, 'free': 1281, 'becomes': 260, 'described': 798, 'site': 2857, 'dwelling': 944, 'rising': 2627, 'verge': 3358, 'stream': 3023, 'crept': 686, 'asylum': 200, 'crowded': 695, 'schoolroom': 2704, 'arrived': 178, 'neglected': 2068, 'receive': 2489, 'forty': 1270, 'rules': 2662, 'relaxed': 2530, 'license': 1798, 'attendant': 209, 'insisted': 1640, 'otherwise': 2169, 'restrain': 2594, 'absorbed': 11, 'quitting': 2447, 'preparations': 2349, 'fortunate': 1266, 'willing': 3479, 'delay': 766, 'visitor': 3377, 'vainly': 3336, 'overcome': 2173, 'shone': 2805, 'unclouded': 3294, 'bold': 334, 'hills': 1512, 'glowed': 1387, 'roses': 2651, 'bloom': 323, 'gay': 1330, 'scent': 2699, 'apples': 153, 'fragrant': 1276, 'inmates': 1627, 'season': 2717, 'matters': 1918, 'driven': 927, 'successor': 3060, 'lowton': 1868, 'unused': 3314, 'ways': 3434, 'provided': 2404, 'comparative': 584, 'prepare': 2350, 'happened': 1457, 'slice': 2872, 'chose': 511, 'spot': 2957, 'favourite': 1159, 'smooth': 2886, 'broad': 384, 'dry': 934, 'middle': 1955, 'accomplished': 25, 'mary': 1908, 'personage': 2254, 'society': 2892, 'original': 2164, 'ease': 959, 'curiosity': 705, 'gratification': 1411, 'indulgence': 1613, 'imposing': 1587, 'inform': 1622, 'entertainment': 1024, 'improvement': 1592, 'mutual': 2041, 'intercourse': 1659, 'helen': 1498, 'burns': 402, 'forgotten': 1256, 'pure': 2416, 'mentioned': 1944, 'inferior': 1618, 'acquaintance': 36, 'spoken': 2956, 'converse': 651, 'taste': 3136, 'higher': 1510, 'reader': 2474, 'defective': 759, 'points': 2307, 'cherish': 493, 'attachment': 204, 'tender': 3161, 'respectful': 2584, 'animated': 126, 'circumstances': 520, 'faithful': 1128, 'friendship': 1293, 'removed': 2550, 'understood': 3298, 'downstairs': 898, 'occasions': 2128, 'beginning': 272, 'june': 1704, 'lost': 1856, 'surgeon': 3099, 'supposed': 3096, 'plant': 2288, 'lingered': 1820, 'dew': 827, 'glowing': 1388, 'west': 3450, 'promised': 2386, 'morrow': 2008, 'lying': 1871, 'danger': 717, 'comprehend': 592, 'baffled': 237, 'side': 2825, 'gulf': 1442, 'point': 2304, 'shuddered': 2819, 'chaos': 474, 'pondering': 2312, 'mount': 2018, 'horse': 1533, 'depart': 785, 'phrase': 2263, 'conveyed': 653, 'suspected': 3105, 'meant': 1924, 'comprehension': 593, 'region': 2517, 'experienced': 1094, 'thrill': 3193, 'likely': 1810, 'catch': 449, 'stop': 3005, 'miller': 1965, 'eleven': 987, 'deeming': 755, 'companions': 581, 'profound': 2382, 'repose': 2567, 'shoes': 2804, 'end': 1003, 'summer': 3078, 'entering': 1021, 'enabled': 1001, 'warned': 3418, 'dreaded': 910, 'embrace': 994, 'exchange': 1072, 'reached': 2472, 'slightly': 2874, 'ajar': 90, 'fresh': 1287, 'senses': 2745, 'quivering': 2449, 'keen': 1707, 'outline': 2171, 'form': 1258, 'hid': 1506, 'hangings': 1454, 'delirious': 773, 'patient': 2223, 'withdrew': 3499, 'corpse': 662, 'whispered': 3461, 'awake': 226, 'wasted': 3425, 'changed': 471, 'mistaken': 1984, 'calmly': 423, 'forehead': 1250, 'distressed': 878, 'seized': 2737, 'wake': 3394, 'exhausted': 1083, 'bare': 243, 'nestled': 2074, 'resumed': 2600, 'grieve': 1425, 'regret': 2519, 'lately': 1757, 'sufferings': 3066, 'qualities': 2430, 'talents': 3127, 'faith': 1127, 'maker': 1883, 'destroy': 815, 'created': 682, 'wholly': 3469, 'goodness': 1396, 'souls': 2924, 'loves': 1863, 'happiness': 1460, 'questioned': 2438, 'exist': 1084, 'closer': 538, 'hidden': 1507, 'comfortable': 566, 'awoke': 232, 'unusual': 3315, 'movement': 2027, 'somebody': 2906, 'carrying': 442, 'leaving': 1782, 'dawn': 732, 'fifteen': 1193, 'tablet': 3122, 'hardly': 1464, 'setting': 2764, 'streamed': 3024, 'coach': 547, 'lit': 1829, 'excited': 1074, 'pressed': 2358, 'bedroom': 263, 'need': 2063, 'accordingly': 29, 'wrong': 3535, 'glanced': 1367, 'hastened': 1470, 'wife': 3475, 'kindling': 1716, 'corded': 659, 'shortly': 2808, 'wheels': 3454, 'announced': 127, 'rapidly': 2462, 'horses': 1534, 'coachman': 548, 'urged': 3320, 'haste': 1468, 'clung': 545, 'inside': 1638, 'drove': 933, 'travel': 3247, 'hundreds': 1551, 'several': 2768, 'towns': 3236, 'alighted': 93, 'inn': 1628, 'appetite': 152, 'immense': 1578, 'gallery': 1316, 'sounded': 2926, 'horn': 1531, 'street': 3025, 'misty': 1987, 'dusk': 939, 'heaved': 1491, 'valley': 3338, 'dropped': 931, 'discerned': 849, 'building': 396, 'warmed': 3415, 'blaze': 313, 'uncertain': 3291, 'shining': 2798, 'enveloped': 1030, 'countenance': 669, 'minute': 1971, 'goes': 1391, 'parents': 2197, 'explained': 1097, 'inquired': 1633, 'write': 3532, 'sew': 2771, 'touched': 3231, 'gently': 1343, 'hoped': 1527, 'dismissed': 864, 'twenty': 3284, 'impressed': 1589, 'ordinary': 2162, 'ruddy': 2657, 'hurried': 1555, 'tasks': 3135, 'teacher': 3142, 'total': 3229, 'tables': 3121, 'candles': 425, 'number': 2105, 'stuff': 3045, 'fashion': 1144, 'study': 3044, 'engaged': 1011, 'combined': 563, 'signed': 2831, 'bench': 283, 'walking': 3399, 'lesson': 1787, 'tray': 3253, 'draught': 903, 'common': 575, 'drank': 901, 'touch': 3230, 'fatigue': 1153, 'shared': 2785, 'meal': 1919, 'occupants': 2129, 'single': 2850, 'extinguished': 1106, 'amidst': 114, 'dream': 912, 'rave': 2467, 'begun': 273, 'stands': 2970, 'class': 525, 'indefinite': 1603, 'assumed': 194, 'fourth': 1275, 'nearest': 2057, 'around': 168, 'bottom': 349, 'protracted': 2400, 'terminated': 3164, 'behold': 277, 'gloomy': 1382, 'dismay': 861, 'repast': 2558, 'met': 1954, 'nostrils': 2094, 'porridge': 2316, 'ejaculated': 979, 'upper': 3318, 'foreign': 1251, 'elderly': 982, 'board': 331, 'faint': 1123, 'devoured': 826, 'thinking': 3179, 'hunger': 1553, 'thanks': 3171, 'displeasure': 868, 'lessons': 1788, 'glorious': 1383, 'freely': 1283, 'sole': 2900, 'serious': 2755, 'lips': 1824, 'check': 486, 'doubtless': 896, 'circle': 518, 'punctually': 2409, 'wait': 3391, 'ranged': 2458, 'sides': 2826, 'motionless': 2015, 'locks': 1839, 'faces': 1115, 'dresses': 920, 'surrounded': 3102, 'throat': 3195, 'purse': 2421, 'serve': 2759, 'stockings': 2998, 'fastened': 1149, 'brass': 362, 'suited': 3074, 'examining': 1068, 'precisely': 2344, 'weather': 3440, 'beaten': 253, 'worked': 3516, 'simultaneously': 2842, 'wits': 3503, 'direction': 843, 'silently': 2835, 'gravely': 1416, 'approaching': 157, 'monitor': 1996, 'considerable': 628, 'organ': 2163, 'retain': 2601, 'awe': 230, 'traced': 3238, 'fair': 1124, 'temples': 3154, 'spanish': 2932, 'velvet': 3354, 'add': 48, 'stately': 2978, 'written': 3534, 'commenced': 570, 'giving': 1364, 'lower': 1866, 'writing': 3533, 'music': 2035, 'elder': 981, 'measured': 1927, 'breaking': 367, 'ordered': 2160, 'served': 2760, 'surprise': 3100, 'refreshment': 2511, 'straw': 3020, 'coloured': 561, 'cloak': 533, 'following': 1241, 'glimpse': 1379, 'bordered': 343, 'divided': 881, 'assigned': 191, 'owner': 2176, 'wintry': 3488, 'blight': 317, 'decay': 743, 'yellow': 3544, 'sundry': 3083, 'ones': 2148, 'warmth': 3416, 'leant': 1774, 'trying': 3277, 'delivered': 775, 'employment': 998, 'merit': 1949, 'record': 2501, 'latticed': 1760, 'bore': 345, 'institution': 1648, 'county': 671, 'shine': 2797, 'works': 3519, 'st': 2963, 'belonged': 282, 'unable': 3290, 'import': 1585, 'connection': 616, 'bent': 289, 'perusal': 2259, 'intent': 1656, 'consequently': 626, 'asking': 186, 'sympathy': 3118, 'examination': 1065, 'convinced': 655, 'variety': 3346, 'former': 1261, 'charity': 481, 'pay': 2227, 'pounds': 2330, 'teaching': 3144, 'deficiency': 762, 'minded': 1967, 'neighbourhood': 2069, 'london': 1842, 'everything': 1056, 'scatcherd': 2695, 'handkerchief': 1450, 'madame': 1875, 'comes': 564, 'pronounce': 2388, 'answers': 132, 'summons': 3081, 'huge': 1543, 'whence': 3455, 'meat': 1928, 'abundant': 15, 'wondered': 3509, 'recommenced': 2500, 'event': 1052, 'conversed': 652, 'degree': 765, 'wept': 3449, 'mark': 1900, 'bear': 249, 'firmly': 1212, 'seems': 2734, 'situation': 2860, 'dreams': 914, 'floor': 1228, 'coffee': 551, 'relish': 2534, 'dispense': 866, 'ceremony': 458, 'perish': 2246, 'quality': 2431, 'quantity': 2432, 'member': 1938, 'occupations': 2131, 'border': 342, 'needle': 2065, 'corner': 661, 'hem': 1503, 'english': 1013, 'commencement': 571, 'error': 1038, 'obscure': 2116, 'constant': 631, 'phrases': 2264, 'elsewhere': 991, 'draw': 904, 'holding': 1520, 'attitude': 213, 'chapter': 475, 'comprised': 595, 'ship': 2799, 'memory': 1939, 'retained': 2602, 'substance': 3054, 'expecting': 1091, 'praise': 2338, 'explain': 1096, 'wash': 3421, 'thread': 3188, 'talked': 3130, 'knit': 1731, 'pursue': 2422, 'observations': 2119, 'delivering': 776, 'inner': 1630, 'presented': 2355, 'dozen': 899, 'tear': 3145, 'pensive': 2235, 'altered': 106, 'expression': 1102, 'trace': 3237, 'swallowed': 3108, 'revived': 2613, 'satisfied': 2685, 'restraint': 2596, 'fires': 1208, 'supply': 3092, 'measure': 1926, 'confusion': 613, 'forms': 1262, 'laughing': 1763, 'groups': 1430, 'companion': 580, 'drift': 924, 'distinguish': 875, 'keenly': 1708, 'derived': 793, 'reckless': 2494, 'feverish': 1187, 'kneeling': 1726, 'abstracted': 12, 'companionship': 582, 'education': 968, 'use': 3323, 'resist': 2577, 'feels': 1175, 'evil': 1061, 'consequences': 625, 'extend': 1104, 'fate': 1151, 'deeply': 758, 'convenient': 649, 'arrangements': 172, 'naturally': 2052, 'neat': 2059, 'particular': 2205, 'addition': 51, 'pains': 2182, 'sees': 2736, 'gives': 1363, 'cure': 704, 'value': 3340, 'curious': 706, 'wander': 3403, 'lose': 1853, 'runs': 2665, 'awakened': 227, 'mere': 1947, 'dreaming': 913, 'wondering': 3510, 'crown': 696, 'respect': 2581, 'shed': 2789, 'ignorant': 1568, 'recalled': 2488, 'language': 1751, 'singularly': 2852, 'information': 1623, 'gain': 1313, 'passive': 2220, 'submit': 3052, 'deserved': 801, 'disown': 865, 'observe': 2120, 'christ': 513, 'example': 1069, 'bless': 315, 'pour': 2331, 'reserve': 2574, 'remark': 2539, 'happier': 1458, 'severity': 2770, 'emotions': 996, 'appears': 151, 'burdened': 398, 'sin': 2843, 'spark': 2935, 'creature': 683, 'communicated': 577, 'glory': 1384, 'taught': 3139, 'eternity': 1048, 'drooping': 929, 'meditation': 1931, 'accent': 17, 'fold': 1235, 'fled': 1223, 'struggle': 3040, 'difficulties': 834, 'lot': 1857, 'march': 1899, 'impassable': 1580, 'roads': 2633, 'prevented': 2364, 'stirring': 2997, 'clothing': 542, 'protect': 2399, 'torture': 3228, 'swelled': 3114, 'growing': 1432, 'sufficient': 3068, 'famished': 1137, 'third': 3181, 'service': 2761, 'paralysed': 2193, 'services': 2762, 'lightly': 1806, 'longed': 1845, 'denied': 781, 'row': 2656, 'starved': 2976, 'solace': 2899, 'delicious': 769, 'butter': 411, 'visits': 3379, 'greater': 1418, 'arrival': 176, 'absence': 7, 'reasons': 2486, 'sum': 3077, 'abstraction': 13, 'recognised': 2496, 'en': 1000, 'ascertain': 181, 'stride': 3029, 'rigid': 2620, 'apparition': 146, 'remembered': 2543, 'anxiety': 135, 'immediate': 1576, 'bought': 351, 'needles': 2066, 'forgot': 1255, 'papers': 2191, 'repair': 2556, 'surprised': 3101, 'fortnight': 1265, 'instant': 1643, 'plan': 2286, 'bringing': 382, 'render': 2551, 'disappointment': 848, 'body': 333, 'aim': 88, 'improved': 1591, 'spiritual': 2951, 'temporary': 3155, 'wherein': 3457, 'lord': 1852, 'warnings': 3420, 'ye': 3541, 'sake': 2677, 'assuming': 195, 'coldness': 556, 'gradually': 1403, 'dazzled': 736, 'shocked': 2802, 'accents': 18, 'openly': 2152, 'charitable': 480, 'mass': 1910, 'entirely': 1026, 'involuntary': 1678, 'cup': 701, 'imagined': 1575, 'living': 1836, 'doom': 889, 'kingdom': 1720, 'mission': 1980, 'apparel': 143, 'persons': 2256, 'string': 3032, 'repeat': 2559, 'interrupted': 1665, 'attired': 212, 'shaded': 2774, 'graceful': 1402, 'conducted': 607, 'honour': 1525, 'relative': 2528, 'linen': 1818, 'personal': 2255, 'safety': 2676, 'seeming': 2732, 'busy': 409, 'conceal': 596, 'escaped': 1040, 'slip': 2875, 'crash': 681, 'pick': 2269, 'perceive': 2237, 'accord': 27, 'pushed': 2425, 'counsel': 668, 'accident': 22, 'whisper': 3460, 'despise': 809, 'pointing': 2306, 'note': 2095, 'height': 1496, 'yard': 3539, 'shot': 2809, 'extended': 1105, 'waved': 3431, 'directed': 842, 'scorched': 2706, 'childhood': 500, 'agent': 78, 'case': 444, 'steady': 2986, 'sustained': 3107, 'warn': 3417, 'flock': 1226, 'shun': 2820, 'actions': 44, 'save': 2688, 'native': 2050, 'land': 1748, 'possession': 2324, 'female': 1179, 'apply': 154, 'separate': 2752, 'purity': 2418, 'sublime': 3051, 'muttered': 2040, 'bowed': 356, 'describe': 797, 'extraordinary': 1107, 'victim': 3360, 'mastered': 1913, 'slight': 2873, 'inquiry': 1635, 'intellect': 1652, 'defects': 760, 'prostrate': 2398, 'earn': 952, 'progress': 2383, 'approbation': 158, 'equal': 1031, 'crushed': 699, 'approached': 156, 'regarded': 2516, 'weep': 3445, 'knees': 1727, 'remained': 2536, 'indian': 1606, 'admired': 57, 'offer': 2138, 'friendly': 1291, 'concealed': 597, 'hearts': 1489, 'appear': 148, 'conscience': 619, 'approved': 160, 'bone': 337, 'chest': 497, 'hush': 1559, 'sovereign': 2930, 'feeble': 1170, 'creatures': 684, 'everywhere': 1057, 'recognise': 2495, 'innocent': 1631, 'sincere': 2845, 'ardent': 164, 'reward': 2614, 'calmed': 421, 'tranquillity': 3244, 'woe': 3504, 'momentarily': 1993, 'yield': 3546, 'concern': 600, 'resting': 2591, 'waist': 3390, 'guidance': 1440, 'prove': 2402, 'continue': 642, 'satisfy': 2686, 'arrange': 169, 'emotion': 995, 'theme': 3172, 'restrained': 2595, 'recollection': 2498, 'spasm': 2936, 'cleared': 528, 'ornaments': 2166, 'beaming': 248, 'pulse': 2408, 'fortunately': 1267, 'deficiencies': 761, 'parcel': 2194, 'disclosed': 851, 'seed': 2727, 'generous': 1337, 'mien': 1958, 'powers': 2336, 'woke': 3505, 'kindled': 1715, 'tint': 3208, 'bloodless': 321, 'acquired': 38, 'meaning': 1922, 'radiance': 2451, 'source': 2928, 'vigorous': 3365, 'secrets': 2723, 'knowledge': 1735, 'familiar': 1135, 'names': 2047, 'amazement': 111, 'snatched': 2888, 'shelf': 2793, 'bedtime': 266, 'articles': 179, 'characters': 477, 'intelligent': 1654, 'intolerable': 1671, 'completely': 589, 'murmur': 2032, 'afresh': 73, 'imagination': 1573, 'amuse': 118, 'ideal': 1563, 'ripe': 2624, 'nests': 2075, 'pearl': 2229, 'problem': 2375, 'satisfaction': 2684, 'events': 1053, 'insignificant': 1639, 'possess': 2322, 'links': 1822, 'fulfilled': 1302, 'disappeared': 846, 'public': 2407, 'various': 3347, 'discovery': 855, 'wealthy': 3438, 'connections': 617, 'post': 2328, 'aided': 87, 'discharge': 850, 'minds': 1968, 'office': 2142, 'inmate': 1626, 'importance': 1586, 'uniform': 3304, 'reach': 2471, 'studies': 3043, 'advantages': 65, 'zeal': 3553, 'changes': 472, 'continual': 640, 'governess': 1398, 'content': 636, 'destiny': 813, 'travelling': 3249, 'chaise': 465, 'marriage': 1902, 'holiday': 1521, 'loss': 1855, 'concluded': 602, 'withdrawn': 3498, 'tranquil': 3243, 'varied': 3345, 'hopes': 1529, 'fears': 1165, 'base': 244, 'mountain': 2019, 'descending': 796, 'elapsed': 980, 'communication': 578, 'message': 1952, 'gasped': 1322, 'framed': 1278, 'grant': 1406, 'resume': 2599, 'chain': 462, 'notes': 2096, 'effaced': 971, 'mentally': 1942, 'delightful': 772, 'sounds': 2927, 'waste': 3424, 'shoulders': 2811, 'wanting': 3410, 'labour': 1738, 'star': 2971, 'advertise': 66, 'shire': 2800, 'prompt': 2387, 'inquire': 1632, 'scheme': 2700, 'thrice': 3192, 'practical': 2337, 'meeting': 1934, 'private': 2371, 'eighteen': 977, 'nearer': 2056, 'branches': 361, 'perform': 2241, 'garments': 1321, 'track': 3240, 'letters': 1792, 'whither': 3467, 'charms': 485, 'errand': 1037, 'dame': 715, 'finally': 1199, 'inch': 1596, 'salary': 2678, 'fairfax': 1125, 'thornfield': 3184, 'millcote': 1964, 'fashioned': 1146, 'risk': 2628, 'proper': 2392, 'widow': 3474, 'model': 1989, 'conceive': 598, 'chimneys': 506, 'smoke': 2885, 'plans': 2287, 'impart': 1579, 'guardian': 1436, 'affairs': 69, 'tedious': 3147, 'formal': 1259, 'furnished': 1307, 'busied': 406, 'wants': 3411, 'sufficed': 3067, 'card': 431, 'gloves': 1385, 'slumber': 2879, 'kissing': 1723, 'lead': 1768, 'college': 558, 'law': 1764, 'disappointed': 847, 'confess': 608, 'charmed': 483, 'learning': 1777, 'landscape': 1749, 'acknowledgment': 35, 'behalf': 274, 'paint': 2183, 'learnt': 1778, 'gentry': 1344, 'madeira': 1876, 'merchant': 1945, 'waiting': 3393, 'vehicle': 3350, 'novel': 2101, 'george': 1346, 'mantelpiece': 1896, 'including': 1601, 'portrait': 2320, 'lamp': 1747, 'hanging': 1453, 'october': 2135, 'description': 799, 'request': 2570, 'sorts': 2921, 'doubts': 897, 'youth': 3552, 'glow': 1386, 'bethought': 295, 'ring': 2621, 'reflect': 2506, 'elegant': 985, 'meditated': 1930, 'dashing': 729, 'lives': 1834, 'resolution': 2579, 'larger': 1755, 'district': 879, 'romantic': 2644, 'bow': 355, 'apron': 162, 'fancied': 1138, 'knitting': 1732, 'introduction': 1673, 'conceived': 599, 'ride': 2617, 'leah': 1770, 'reception': 2492, 'governesses': 1399, 'superior': 3089, 'consider': 627, 'varens': 3344, 'polite': 2311, 'quarters': 2435, 'decent': 745, 'terms': 3165, 'due': 935, 'recollect': 2497, 'blew': 316, 'difference': 831, 'stroke': 3036, 'choice': 509, 'banisters': 241, 'modern': 1990, 'style': 3047, 'gratitude': 1413, 'knelt': 1728, 'bedside': 265, 'forgetting': 1253, 'couch': 667, 'pleasures': 2300, 'astir': 198, 'simplicity': 2840, 'habit': 1443, 'rosy': 2652, 'aspirations': 189, 'bronze': 388, 'threshold': 3190, 'advancing': 63, 'manor': 1894, 'battlements': 246, 'tenants': 3159, 'flew': 1225, 'sunk': 3084, 'array': 174, 'lofty': 1841, 'blent': 314, 'rochester': 2637, 'require': 2572, 'acquainted': 37, 'hay': 1479, 'yonder': 3549, 'cousin': 675, 'ward': 3412, 'calls': 419, 'enigma': 1014, 'est': 1043, 'amazed': 110, 'born': 346, 'continent': 639, 'mademoiselle': 1877, 'ah': 85, 'sophie': 2916, 'city': 521, 'adèle': 68, 'specimen': 2942, 'singing': 2849, 'strain': 3014, 'forsaken': 1263, 'lover': 1862, 'jewels': 1695, 'robes': 2635, 'ball': 238, 'jealousy': 1693, 'de': 737, 'qu': 2429, 'vous': 3388, 'remind': 2545, 'needed': 2064, 'harvest': 1467, 'cabinet': 413, 'docile': 883, 'proposed': 2395, 'pencils': 2233, 'moulded': 2017, 'arch': 163, 'merely': 1948, 'boudoir': 350, 'contrast': 646, 'unexpected': 3301, 'bustle': 408, 'managed': 1890, 'peculiar': 2230, 'speaks': 2940, 'consequence': 624, 'identity': 1565, 'grand': 1404, 'storey': 3008, 'hundred': 1550, 'heads': 1481, 'tops': 3224, 'apparent': 144, 'haunt': 1477, 'propitious': 2394, 'azure': 233, 'fasten': 1148, 'laugh': 1761, 'distinct': 873, 'echo': 965, 'issued': 1686, 'poole': 2313, 'accompanied': 23, 'favoured': 1158, 'fool': 1245, 'altogether': 108, 'career': 433, 'tempered': 3152, 'intelligence': 1653, 'spoilt': 2954, 'committed': 574, 'vice': 3359, 'reasonable': 2485, 'cool': 657, 'doctrines': 884, 'devotion': 825, 'liking': 1813, 'blame': 309, 'vivid': 3382, 'backwards': 235, 'forwards': 1272, 'expanded': 1087, 'actual': 46, 'absolute': 9, 'privileged': 2373, 'playing': 2294, 'custom': 711, 'slow': 2877, 'eccentric': 964, 'attach': 202, 'encourage': 1002, 'ardour': 165, 'reminded': 2546, 'occasional': 2126, 'wax': 3432, 'enjoy': 1015, 'mile': 1961, 'lane': 1750, 'worn': 3521, 'hedge': 1494, 'stile': 2992, 'sheet': 2791, 'covering': 679, 'vale': 3337, 'flow': 1229, 'depths': 792, 'betrayed': 297, 'wave': 3430, 'wanderings': 3407, 'crag': 680, 'recurred': 2502, 'staying': 2983, 'rode': 2640, 'dumb': 937, 'commonplace': 576, 'traveller': 3248, 'deuce': 821, 'summon': 3079, 'struggling': 3041, 'pilot': 2276, 'stooping': 3004, 'stern': 2990, 'elegance': 984, 'shunned': 2821, 'lightning': 1807, 'assistance': 192, 'gaily': 1312, 'vocation': 3383, 'inquiries': 1634, 'station': 2979, 'resident': 2576, 'decide': 746, 'bridle': 376, 'obey': 2110, 'excuse': 1080, 'lip': 1823, 'wilderness': 3477, 'occurred': 2133, 'claimed': 524, 'deed': 753, 'wakened': 3395, 'fetters': 1185, 'pavement': 2226, 'rayless': 2470, 'midnight': 1956, 'grate': 1409, 'tones': 3219, 'gravity': 1417, 'beheld': 275, 'carter': 443, 'attend': 208, 'angry': 123, 'monsieur': 1997, 'et': 1046, 'il': 1569, 'pas': 2212, 'fiery': 1192, 'repaired': 2557, 'replaced': 2564, 'ornament': 2165, 'parting': 2208, 'strangers': 3018, 'shade': 2773, 'recess': 2493, 'jetty': 1694, 'physiognomy': 2267, 'term': 3163, 'caprice': 430, 'obligation': 2114, 'quiescence': 2442, 'proceeding': 2378, 'piquant': 2278, 'trite': 3265, 'annoyance': 128, 'perseverance': 2252, 'talks': 3132, 'demands': 779, 'bush': 405, 'confidence': 609, 'prefer': 2345, 'claim': 523, 'humph': 1549, 'leading': 1769, 'rings': 2623, 'seriously': 2756, 'providence': 2405, 'parson': 2200, 'priest': 2368, 'guess': 1437, 'wheeled': 3453, 'finish': 1205, 'deliberately': 767, 'sketch': 2863, 'alternately': 107, 'livid': 1835, 'pencil': 2232, 'limb': 1814, 'torn': 3226, 'vapour': 3343, 'train': 3241, 'veil': 3351, 'despair': 806, 'flame': 1219, 'likeness': 1811, 'labours': 1740, 'secured': 2725, 'skill': 2864, 'science': 2705, 'gale': 1315, 'token': 3215, 'dismiss': 863, 'rejoined': 2524, 'tolerable': 3217, 'edward': 969, 'estate': 1045, 'fortune': 1268, 'thinks': 3180, 'mystery': 2043, 'evident': 1059, 'informed': 1624, 'accompany': 24, 'gratified': 1412, 'genuine': 1345, 'paris': 2198, 'sarcastic': 2681, 'associations': 193, 'neglect': 2067, 'wed': 3441, 'forbidden': 1247, 'lap': 1753, 'guests': 1439, 'granite': 1405, 'softness': 2897, 'gaze': 1331, 'previous': 2365, 'tenderness': 3162, 'india': 1605, 'decidedly': 748, 'searching': 2716, 'puzzle': 2427, 'unconscious': 3295, 'haughty': 1476, 'inevitably': 1614, 'persuaded': 2258, 'suit': 3073, 'consistent': 630, 'virtue': 3370, 'nail': 2044, 'insensible': 1637, 'topic': 3223, 'agree': 82, 'depends': 790, 'piqued': 2279, 'paid': 2179, 'heartily': 1487, 'consent': 622, 'venture': 3356, 'despite': 810, 'speech': 2944, 'stupid': 3046, 'thousand': 3187, 'plenty': 2302, 'stainless': 2964, 'exquisite': 1103, 'innate': 1629, 'proceed': 2376, 'wisdom': 3491, 'tempted': 3157, 'err': 1036, 'poison': 2308, 'repentance': 2562, 'cursed': 708, 'cost': 665, 'moor': 2004, 'absolutely': 10, 'temptation': 3156, 'devil': 823, 'guest': 1438, 'fallen': 1131, 'messenger': 1953, 'eternal': 1047, 'misery': 1977, 'uneasy': 3300, 'sullied': 3076, 'energy': 1010, 'laying': 1767, 'intentions': 1658, 'foul': 1273, 'motives': 2016, 'swear': 3109, 'interlocutor': 1663, 'austere': 219, 'vivacity': 3381, 'restless': 2592, 'resolute': 2578, 'nay': 2055, 'rapture': 2463, 'marrow': 1904, 'céline': 713, 'robe': 2634, 'spreading': 2960, 'blossom': 326, 'hat': 1473, 'elf': 988, 'band': 240, 'lighting': 1805, 'renewed': 2553, 'materials': 1916, 'apart': 140, 'bliss': 319, 'results': 2598, 'begin': 271, 'threw': 3191, 'communion': 579, 'shadows': 2777, 'whispers': 3463, 'utmost': 3329, 'figures': 1196, 'courtship': 674, 'charming': 484, 'endowed': 1006, 'gifts': 1358, 'rank': 2459, 'smiles': 2883, 'aged': 77, 'eagerness': 949, 'listener': 1827, 'unseen': 3313, 'workings': 3518, 'bride': 375, 'witch': 3496, 'ingram': 1625, 'rent': 2554, 'sphere': 2948, 'loneliness': 1843, 'deny': 784, 'mocking': 1988, 'favourable': 1157, 'compressed': 594, 'issue': 1685, 'imagine': 1574, 'decision': 749, 'earthquake': 958, 'detected': 818, 'sacrifice': 2672, 'sorrow': 2918, 'delirium': 774, 'beckoned': 258, 'stretched': 3027, 'finger': 1203, 'gem': 1334, 'signify': 2832, 'mason': 1909, 'jamaica': 1689, 'reiterated': 2523, 'lean': 1771, 'hideous': 1508, 'party': 2211, 'glee': 1377, 'colonel': 559, 'dent': 783, 'merry': 1950, 'distinguished': 876, 'professed': 2381, 'idol': 1566, 'flattered': 1222, 'preference': 2346, 'fashionable': 1145, 'impatience': 1581, 'unnecessary': 3311, 'sentiments': 2751, 'flood': 1227, 'channel': 473, 'dashed': 728, 'calmer': 422, 'core': 660, 'mistresses': 1986, 'betray': 296, 'worth': 3524, 'heartless': 1488, 'acknowledged': 34, 'acknowledge': 33, 'destitute': 814, 'soil': 2898, 'game': 1317, 'accepted': 20, 'benefit': 288, 'scenes': 2698, 'startled': 2975, 'malignant': 1886, 'blackened': 308, 'principles': 2370, 'purer': 2417, 'absent': 8, 'chilled': 503, 'goblin': 1389, 'unnatural': 3310, 'bolt': 335, 'sheets': 2792, 'shower': 2814, 'finding': 1201, 'peril': 2244, 'drenched': 917, 'withdraw': 3497, 'saved': 2689, 'debt': 742, 'burden': 397, 'checked': 487, 'joy': 1700, 'sleeping': 2870, 'phlegmatic': 2262, 'attempting': 207, 'bolted': 336, 'secrecy': 2721, 'influenced': 1621, 'aught': 217, 'expectation': 1089, 'actually': 47, 'delighted': 771, 'intimate': 1669, 'flushed': 1233, 'fill': 1197, 'obscurity': 2117, 'eshton': 1041, 'lynn': 1872, 'talented': 3126, 'daughters': 731, 'blanche': 310, 'brilliantly': 380, 'scarf': 2694, 'powerful': 2335, 'fortunes': 1269, 'eldest': 983, 'union': 3305, 'evidence': 1058, 'folly': 1242, 'ashamed': 183, 'marry': 1905, 'faithfully': 1129, 'strive': 3035, 'determination': 819, 'lovely': 1861, 'force': 1248, 'vital': 3380, 'gift': 1357, 'wherever': 3458, 'throw': 3198, 'helping': 1502, 'desert': 800, 'arrive': 177, 'dungeon': 938, 'independent': 1604, 'radiant': 2452, 'scoured': 2709, 'bloomed': 324, 'screened': 2710, 'mesrour': 1951, 'angle': 122, 'hired': 1514, 'knife': 1730, 'retreat': 2605, 'instrument': 1649, 'inarticulate': 1594, 'devoted': 824, 'witnessed': 3502, 'embarrassment': 992, 'nook': 2090, 'wedding': 3442, 'stature': 2980, 'genius': 1339, 'admire': 56, 'beads': 247, 'colourless': 562, 'fettered': 1184, 'softened': 2895, 'big': 302, 'glances': 1368, 'mate': 1915, 'nervous': 2073, 'join': 1697, 'desk': 804, 'faced': 1114, 'spare': 2933, 'support': 3093, 'daring': 722, 'endeavour': 1004, 'mortal': 2010, 'substitute': 3055, 'expired': 1095, 'crossing': 694, 'traverse': 3251, 'void': 3386, 'named': 2046, 'weight': 3446, 'sordid': 2917, 'italian': 1687, 'returns': 2610, 'scorned': 2708, 'hourly': 1536, 'freshness': 1288, 'obvious': 2124, 'fervour': 1182, 'conquest': 618, 'coin': 553, 'flash': 1221, 'accept': 19, 'marrying': 1906, 'justified': 1706, 'garb': 1319, 'displeased': 867, 'settle': 2765, 'residence': 2575, 'europe': 1049, 'persuade': 2257, 'suggest': 3070, 'cease': 452, 'breach': 363, 'press': 2357, 'easily': 960, 'declined': 752, 'medium': 1932, 'disk': 859, 'stamped': 2967, 'terrors': 3168, 'seemingly': 2733, 'pretext': 2361, 'bloody': 322, 'antique': 134, 'beast': 251, 'demon': 780, 'seeking': 2730, 'assign': 190, 'impetuous': 1584, 'yielding': 3548, 'whit': 3464, 'advice': 67, 'orchard': 2158, 'refuse': 2512, 'strayed': 3022, 'briar': 373, 'melt': 1936, 'lamb': 1746, 'potent': 2329, 'defy': 763, 'knowing': 1734, 'rustic': 2668, 'fearing': 1164, 'obstacle': 2122, 'speaker': 2938, 'eagerly': 948, 'wicket': 3472, 'mourning': 2023, 'refused': 2513, 'tidings': 3204, 'search': 2715, 'permanent': 2247, 'trusted': 3274, 'poured': 2332, 'accepting': 21, 'collected': 557, 'firmer': 1211, 'gaping': 1318, 'blooming': 325, 'contour': 644, 'lingering': 1821, 'despotic': 811, 'entreated': 1029, 'beggar': 269, 'determined': 820, 'altar': 105, 'ruin': 2660, 'religion': 2533, 'earthly': 957, 'elements': 986, 'longing': 1847, 'exists': 1086, 'unmarried': 3309, 'earnestly': 954, 'inexorable': 1615, 'compel': 587, 'mournful': 2022, 'valuable': 3339, 'cell': 456, 'comment': 572, 'dreamt': 915, 'hasten': 1469, 'gather': 1326, 'marsh': 1907, 'balm': 239, 'janet': 1691, 'south': 2929, 'modest': 1991, 'giant': 1356, 'chestnut': 498, 'turf': 3279, 'sunset': 3086, 'crisis': 691, 'sacred': 2671, 'remembrance': 2544, 'trampled': 3242, 'exert': 1082, 'entreat': 1028, 'astonished': 199, 'nowhere': 2103, 'mechanically': 1929, 'refreshed': 2510, 'preparing': 2352, 'missionary': 1981, 'moreover': 2007, 'hannah': 1455, 'diana': 828, 'morton': 2011, 'parsonage': 2201, 'rivers': 2630, 'honest': 1524, 'oliver': 2147, 'moorland': 2005, 'sealed': 2714, 'greek': 1420, 'educated': 967, 'whitcross': 3465, 'bridal': 374, 'destroyed': 816, 'german': 1348, 'mossy': 2013, 'mute': 2038, 'simply': 2841, 'ferndean': 1180, 'lunatic': 1869, 'prevent': 2363, 'replace': 2563, 'dried': 923, 'river': 2629, 'weakness': 3436, 'hopeless': 1528, 'urgent': 3321, 'appealed': 147, 'cares': 437, 'toil': 3213, 'fitted': 1214, 'remaining': 2537, 'labourer': 1739, 'scholars': 2701, 'ambition': 112, 'schoolmistress': 2703, 'fatal': 1150, 'curate': 703, 'rosamond': 2649, 'views': 3364, 'offers': 2141, 'undertook': 3299}\n"
     ]
    }
   ],
   "source": [
    "print(vc.vocabulary_)"
   ]
  },
  {
   "cell_type": "code",
   "execution_count": 6,
   "metadata": {},
   "outputs": [
    {
     "data": {
      "text/html": [
       "<div>\n",
       "<style scoped>\n",
       "    .dataframe tbody tr th:only-of-type {\n",
       "        vertical-align: middle;\n",
       "    }\n",
       "\n",
       "    .dataframe tbody tr th {\n",
       "        vertical-align: top;\n",
       "    }\n",
       "\n",
       "    .dataframe thead th {\n",
       "        text-align: right;\n",
       "    }\n",
       "</style>\n",
       "<table border=\"1\" class=\"dataframe\">\n",
       "  <thead>\n",
       "    <tr style=\"text-align: right;\">\n",
       "      <th></th>\n",
       "      <th>abandoned</th>\n",
       "      <th>abbot</th>\n",
       "      <th>abhor</th>\n",
       "      <th>able</th>\n",
       "      <th>abode</th>\n",
       "      <th>abrupt</th>\n",
       "      <th>abruptly</th>\n",
       "      <th>absence</th>\n",
       "      <th>absent</th>\n",
       "      <th>absolute</th>\n",
       "      <th>...</th>\n",
       "      <th>yellow</th>\n",
       "      <th>yesterday</th>\n",
       "      <th>yield</th>\n",
       "      <th>yielded</th>\n",
       "      <th>yielding</th>\n",
       "      <th>yonder</th>\n",
       "      <th>young</th>\n",
       "      <th>younger</th>\n",
       "      <th>youth</th>\n",
       "      <th>zeal</th>\n",
       "    </tr>\n",
       "  </thead>\n",
       "  <tbody>\n",
       "    <tr>\n",
       "      <th>34</th>\n",
       "      <td>0</td>\n",
       "      <td>0</td>\n",
       "      <td>0</td>\n",
       "      <td>0</td>\n",
       "      <td>0</td>\n",
       "      <td>0</td>\n",
       "      <td>0</td>\n",
       "      <td>0</td>\n",
       "      <td>0</td>\n",
       "      <td>0</td>\n",
       "      <td>...</td>\n",
       "      <td>0</td>\n",
       "      <td>0</td>\n",
       "      <td>0</td>\n",
       "      <td>3</td>\n",
       "      <td>0</td>\n",
       "      <td>0</td>\n",
       "      <td>0</td>\n",
       "      <td>0</td>\n",
       "      <td>0</td>\n",
       "      <td>1</td>\n",
       "    </tr>\n",
       "    <tr>\n",
       "      <th>27</th>\n",
       "      <td>0</td>\n",
       "      <td>0</td>\n",
       "      <td>1</td>\n",
       "      <td>2</td>\n",
       "      <td>0</td>\n",
       "      <td>0</td>\n",
       "      <td>0</td>\n",
       "      <td>0</td>\n",
       "      <td>0</td>\n",
       "      <td>0</td>\n",
       "      <td>...</td>\n",
       "      <td>0</td>\n",
       "      <td>0</td>\n",
       "      <td>3</td>\n",
       "      <td>0</td>\n",
       "      <td>0</td>\n",
       "      <td>1</td>\n",
       "      <td>1</td>\n",
       "      <td>1</td>\n",
       "      <td>4</td>\n",
       "      <td>0</td>\n",
       "    </tr>\n",
       "    <tr>\n",
       "      <th>16</th>\n",
       "      <td>0</td>\n",
       "      <td>0</td>\n",
       "      <td>0</td>\n",
       "      <td>1</td>\n",
       "      <td>0</td>\n",
       "      <td>0</td>\n",
       "      <td>0</td>\n",
       "      <td>0</td>\n",
       "      <td>0</td>\n",
       "      <td>1</td>\n",
       "      <td>...</td>\n",
       "      <td>0</td>\n",
       "      <td>0</td>\n",
       "      <td>0</td>\n",
       "      <td>0</td>\n",
       "      <td>0</td>\n",
       "      <td>0</td>\n",
       "      <td>4</td>\n",
       "      <td>1</td>\n",
       "      <td>1</td>\n",
       "      <td>0</td>\n",
       "    </tr>\n",
       "    <tr>\n",
       "      <th>17</th>\n",
       "      <td>0</td>\n",
       "      <td>0</td>\n",
       "      <td>0</td>\n",
       "      <td>1</td>\n",
       "      <td>0</td>\n",
       "      <td>1</td>\n",
       "      <td>1</td>\n",
       "      <td>1</td>\n",
       "      <td>1</td>\n",
       "      <td>0</td>\n",
       "      <td>...</td>\n",
       "      <td>0</td>\n",
       "      <td>0</td>\n",
       "      <td>0</td>\n",
       "      <td>0</td>\n",
       "      <td>0</td>\n",
       "      <td>0</td>\n",
       "      <td>5</td>\n",
       "      <td>0</td>\n",
       "      <td>0</td>\n",
       "      <td>0</td>\n",
       "    </tr>\n",
       "    <tr>\n",
       "      <th>4</th>\n",
       "      <td>0</td>\n",
       "      <td>0</td>\n",
       "      <td>0</td>\n",
       "      <td>2</td>\n",
       "      <td>2</td>\n",
       "      <td>0</td>\n",
       "      <td>0</td>\n",
       "      <td>0</td>\n",
       "      <td>0</td>\n",
       "      <td>0</td>\n",
       "      <td>...</td>\n",
       "      <td>0</td>\n",
       "      <td>1</td>\n",
       "      <td>0</td>\n",
       "      <td>0</td>\n",
       "      <td>0</td>\n",
       "      <td>0</td>\n",
       "      <td>1</td>\n",
       "      <td>0</td>\n",
       "      <td>0</td>\n",
       "      <td>0</td>\n",
       "    </tr>\n",
       "    <tr>\n",
       "      <th>22</th>\n",
       "      <td>0</td>\n",
       "      <td>0</td>\n",
       "      <td>0</td>\n",
       "      <td>0</td>\n",
       "      <td>0</td>\n",
       "      <td>0</td>\n",
       "      <td>0</td>\n",
       "      <td>0</td>\n",
       "      <td>0</td>\n",
       "      <td>0</td>\n",
       "      <td>...</td>\n",
       "      <td>0</td>\n",
       "      <td>0</td>\n",
       "      <td>1</td>\n",
       "      <td>0</td>\n",
       "      <td>1</td>\n",
       "      <td>1</td>\n",
       "      <td>0</td>\n",
       "      <td>0</td>\n",
       "      <td>0</td>\n",
       "      <td>0</td>\n",
       "    </tr>\n",
       "    <tr>\n",
       "      <th>23</th>\n",
       "      <td>1</td>\n",
       "      <td>0</td>\n",
       "      <td>0</td>\n",
       "      <td>1</td>\n",
       "      <td>0</td>\n",
       "      <td>0</td>\n",
       "      <td>0</td>\n",
       "      <td>0</td>\n",
       "      <td>0</td>\n",
       "      <td>0</td>\n",
       "      <td>...</td>\n",
       "      <td>0</td>\n",
       "      <td>0</td>\n",
       "      <td>1</td>\n",
       "      <td>0</td>\n",
       "      <td>0</td>\n",
       "      <td>2</td>\n",
       "      <td>4</td>\n",
       "      <td>0</td>\n",
       "      <td>0</td>\n",
       "      <td>0</td>\n",
       "    </tr>\n",
       "    <tr>\n",
       "      <th>29</th>\n",
       "      <td>1</td>\n",
       "      <td>0</td>\n",
       "      <td>0</td>\n",
       "      <td>0</td>\n",
       "      <td>0</td>\n",
       "      <td>0</td>\n",
       "      <td>0</td>\n",
       "      <td>1</td>\n",
       "      <td>0</td>\n",
       "      <td>0</td>\n",
       "      <td>...</td>\n",
       "      <td>0</td>\n",
       "      <td>0</td>\n",
       "      <td>1</td>\n",
       "      <td>0</td>\n",
       "      <td>0</td>\n",
       "      <td>0</td>\n",
       "      <td>0</td>\n",
       "      <td>0</td>\n",
       "      <td>0</td>\n",
       "      <td>1</td>\n",
       "    </tr>\n",
       "    <tr>\n",
       "      <th>25</th>\n",
       "      <td>0</td>\n",
       "      <td>0</td>\n",
       "      <td>0</td>\n",
       "      <td>0</td>\n",
       "      <td>0</td>\n",
       "      <td>0</td>\n",
       "      <td>0</td>\n",
       "      <td>1</td>\n",
       "      <td>1</td>\n",
       "      <td>0</td>\n",
       "      <td>...</td>\n",
       "      <td>0</td>\n",
       "      <td>3</td>\n",
       "      <td>0</td>\n",
       "      <td>0</td>\n",
       "      <td>0</td>\n",
       "      <td>1</td>\n",
       "      <td>1</td>\n",
       "      <td>0</td>\n",
       "      <td>0</td>\n",
       "      <td>0</td>\n",
       "    </tr>\n",
       "    <tr>\n",
       "      <th>19</th>\n",
       "      <td>0</td>\n",
       "      <td>0</td>\n",
       "      <td>0</td>\n",
       "      <td>2</td>\n",
       "      <td>0</td>\n",
       "      <td>0</td>\n",
       "      <td>0</td>\n",
       "      <td>0</td>\n",
       "      <td>0</td>\n",
       "      <td>0</td>\n",
       "      <td>...</td>\n",
       "      <td>0</td>\n",
       "      <td>0</td>\n",
       "      <td>0</td>\n",
       "      <td>1</td>\n",
       "      <td>1</td>\n",
       "      <td>2</td>\n",
       "      <td>1</td>\n",
       "      <td>0</td>\n",
       "      <td>0</td>\n",
       "      <td>0</td>\n",
       "    </tr>\n",
       "  </tbody>\n",
       "</table>\n",
       "<p>10 rows × 3554 columns</p>\n",
       "</div>"
      ],
      "text/plain": [
       "    abandoned  abbot  abhor  able  abode  abrupt  abruptly  absence  absent  \\\n",
       "34          0      0      0     0      0       0         0        0       0   \n",
       "27          0      0      1     2      0       0         0        0       0   \n",
       "16          0      0      0     1      0       0         0        0       0   \n",
       "17          0      0      0     1      0       1         1        1       1   \n",
       "4           0      0      0     2      2       0         0        0       0   \n",
       "22          0      0      0     0      0       0         0        0       0   \n",
       "23          1      0      0     1      0       0         0        0       0   \n",
       "29          1      0      0     0      0       0         0        1       0   \n",
       "25          0      0      0     0      0       0         0        1       1   \n",
       "19          0      0      0     2      0       0         0        0       0   \n",
       "\n",
       "    absolute  ...  yellow  yesterday  yield  yielded  yielding  yonder  young  \\\n",
       "34         0  ...       0          0      0        3         0       0      0   \n",
       "27         0  ...       0          0      3        0         0       1      1   \n",
       "16         1  ...       0          0      0        0         0       0      4   \n",
       "17         0  ...       0          0      0        0         0       0      5   \n",
       "4          0  ...       0          1      0        0         0       0      1   \n",
       "22         0  ...       0          0      1        0         1       1      0   \n",
       "23         0  ...       0          0      1        0         0       2      4   \n",
       "29         0  ...       0          0      1        0         0       0      0   \n",
       "25         0  ...       0          3      0        0         0       1      1   \n",
       "19         0  ...       0          0      0        1         1       2      1   \n",
       "\n",
       "    younger  youth  zeal  \n",
       "34        0      0     1  \n",
       "27        1      4     0  \n",
       "16        1      1     0  \n",
       "17        0      0     0  \n",
       "4         0      0     0  \n",
       "22        0      0     0  \n",
       "23        0      0     0  \n",
       "29        0      0     1  \n",
       "25        0      0     0  \n",
       "19        0      0     0  \n",
       "\n",
       "[10 rows x 3554 columns]"
      ]
     },
     "execution_count": 6,
     "metadata": {},
     "output_type": "execute_result"
    }
   ],
   "source": [
    "word_vect_df = pd.DataFrame(data=vectors.toarray(), columns=vc.get_feature_names_out())\n",
    "word_vect_df.sample(10)"
   ]
  },
  {
   "cell_type": "code",
   "execution_count": 7,
   "metadata": {},
   "outputs": [
    {
     "data": {
      "text/plain": [
       "rochester    366\n",
       "jane         346\n",
       "sir          316\n",
       "miss         310\n",
       "mrs          252\n",
       "night        223\n",
       "john         202\n",
       "door         182\n",
       "love         153\n",
       "make         152\n",
       "way          150\n",
       "without      149\n",
       "away         149\n",
       "man          146\n",
       "went         144\n",
       "cannot       139\n",
       "st           137\n",
       "fairfax      137\n",
       "head         136\n",
       "back         135\n",
       "dtype: int64"
      ]
     },
     "execution_count": 7,
     "metadata": {},
     "output_type": "execute_result"
    }
   ],
   "source": [
    "word_vect_df.sum(axis=0).sort_values(ascending=False).head(20)"
   ]
  },
  {
   "cell_type": "markdown",
   "metadata": {},
   "source": [
    "Many of the words with the highest frequencies are part of characters' names, which we expect to show up a lot more. These don't necessarily give us a lot of information however, but we can check how 'informative' these terms are by finding their TFIDF scores using sklearn's [TFIDF Vectorizer](https://scikit-learn.org/stable/modules/generated/sklearn.feature_extraction.text.TfidfVectorizer.html)"
   ]
  },
  {
   "cell_type": "code",
   "execution_count": 8,
   "metadata": {},
   "outputs": [
    {
     "data": {
      "text/html": [
       "<div>\n",
       "<style scoped>\n",
       "    .dataframe tbody tr th:only-of-type {\n",
       "        vertical-align: middle;\n",
       "    }\n",
       "\n",
       "    .dataframe tbody tr th {\n",
       "        vertical-align: top;\n",
       "    }\n",
       "\n",
       "    .dataframe thead th {\n",
       "        text-align: right;\n",
       "    }\n",
       "</style>\n",
       "<table border=\"1\" class=\"dataframe\">\n",
       "  <thead>\n",
       "    <tr style=\"text-align: right;\">\n",
       "      <th></th>\n",
       "      <th>abandoned</th>\n",
       "      <th>abbot</th>\n",
       "      <th>abhor</th>\n",
       "      <th>able</th>\n",
       "      <th>abode</th>\n",
       "      <th>abrupt</th>\n",
       "      <th>abruptly</th>\n",
       "      <th>absence</th>\n",
       "      <th>absent</th>\n",
       "      <th>absolute</th>\n",
       "      <th>...</th>\n",
       "      <th>yellow</th>\n",
       "      <th>yesterday</th>\n",
       "      <th>yield</th>\n",
       "      <th>yielded</th>\n",
       "      <th>yielding</th>\n",
       "      <th>yonder</th>\n",
       "      <th>young</th>\n",
       "      <th>younger</th>\n",
       "      <th>youth</th>\n",
       "      <th>zeal</th>\n",
       "    </tr>\n",
       "  </thead>\n",
       "  <tbody>\n",
       "    <tr>\n",
       "      <th>2</th>\n",
       "      <td>0.000000</td>\n",
       "      <td>0.223885</td>\n",
       "      <td>0.0</td>\n",
       "      <td>0.015934</td>\n",
       "      <td>0.000000</td>\n",
       "      <td>0.000000</td>\n",
       "      <td>0.000000</td>\n",
       "      <td>0.000000</td>\n",
       "      <td>0.000000</td>\n",
       "      <td>0.000000</td>\n",
       "      <td>...</td>\n",
       "      <td>0.000000</td>\n",
       "      <td>0.021395</td>\n",
       "      <td>0.000000</td>\n",
       "      <td>0.000000</td>\n",
       "      <td>0.0</td>\n",
       "      <td>0.000000</td>\n",
       "      <td>0.031508</td>\n",
       "      <td>0.000000</td>\n",
       "      <td>0.000000</td>\n",
       "      <td>0.000000</td>\n",
       "    </tr>\n",
       "    <tr>\n",
       "      <th>33</th>\n",
       "      <td>0.000000</td>\n",
       "      <td>0.000000</td>\n",
       "      <td>0.0</td>\n",
       "      <td>0.000000</td>\n",
       "      <td>0.013861</td>\n",
       "      <td>0.000000</td>\n",
       "      <td>0.000000</td>\n",
       "      <td>0.000000</td>\n",
       "      <td>0.025182</td>\n",
       "      <td>0.014640</td>\n",
       "      <td>...</td>\n",
       "      <td>0.015561</td>\n",
       "      <td>0.012591</td>\n",
       "      <td>0.000000</td>\n",
       "      <td>0.000000</td>\n",
       "      <td>0.0</td>\n",
       "      <td>0.010733</td>\n",
       "      <td>0.006181</td>\n",
       "      <td>0.000000</td>\n",
       "      <td>0.000000</td>\n",
       "      <td>0.000000</td>\n",
       "    </tr>\n",
       "    <tr>\n",
       "      <th>9</th>\n",
       "      <td>0.020869</td>\n",
       "      <td>0.000000</td>\n",
       "      <td>0.0</td>\n",
       "      <td>0.000000</td>\n",
       "      <td>0.000000</td>\n",
       "      <td>0.000000</td>\n",
       "      <td>0.000000</td>\n",
       "      <td>0.019188</td>\n",
       "      <td>0.000000</td>\n",
       "      <td>0.000000</td>\n",
       "      <td>...</td>\n",
       "      <td>0.000000</td>\n",
       "      <td>0.000000</td>\n",
       "      <td>0.000000</td>\n",
       "      <td>0.000000</td>\n",
       "      <td>0.0</td>\n",
       "      <td>0.000000</td>\n",
       "      <td>0.061467</td>\n",
       "      <td>0.000000</td>\n",
       "      <td>0.000000</td>\n",
       "      <td>0.025792</td>\n",
       "    </tr>\n",
       "    <tr>\n",
       "      <th>12</th>\n",
       "      <td>0.000000</td>\n",
       "      <td>0.000000</td>\n",
       "      <td>0.0</td>\n",
       "      <td>0.016135</td>\n",
       "      <td>0.000000</td>\n",
       "      <td>0.022689</td>\n",
       "      <td>0.023851</td>\n",
       "      <td>0.000000</td>\n",
       "      <td>0.000000</td>\n",
       "      <td>0.000000</td>\n",
       "      <td>...</td>\n",
       "      <td>0.000000</td>\n",
       "      <td>0.000000</td>\n",
       "      <td>0.019920</td>\n",
       "      <td>0.000000</td>\n",
       "      <td>0.0</td>\n",
       "      <td>0.000000</td>\n",
       "      <td>0.000000</td>\n",
       "      <td>0.000000</td>\n",
       "      <td>0.000000</td>\n",
       "      <td>0.000000</td>\n",
       "    </tr>\n",
       "    <tr>\n",
       "      <th>35</th>\n",
       "      <td>0.000000</td>\n",
       "      <td>0.000000</td>\n",
       "      <td>0.0</td>\n",
       "      <td>0.018014</td>\n",
       "      <td>0.000000</td>\n",
       "      <td>0.000000</td>\n",
       "      <td>0.000000</td>\n",
       "      <td>0.022240</td>\n",
       "      <td>0.024188</td>\n",
       "      <td>0.000000</td>\n",
       "      <td>...</td>\n",
       "      <td>0.000000</td>\n",
       "      <td>0.000000</td>\n",
       "      <td>0.000000</td>\n",
       "      <td>0.000000</td>\n",
       "      <td>0.0</td>\n",
       "      <td>0.000000</td>\n",
       "      <td>0.011874</td>\n",
       "      <td>0.000000</td>\n",
       "      <td>0.000000</td>\n",
       "      <td>0.000000</td>\n",
       "    </tr>\n",
       "    <tr>\n",
       "      <th>11</th>\n",
       "      <td>0.000000</td>\n",
       "      <td>0.000000</td>\n",
       "      <td>0.0</td>\n",
       "      <td>0.000000</td>\n",
       "      <td>0.000000</td>\n",
       "      <td>0.000000</td>\n",
       "      <td>0.000000</td>\n",
       "      <td>0.000000</td>\n",
       "      <td>0.000000</td>\n",
       "      <td>0.050519</td>\n",
       "      <td>...</td>\n",
       "      <td>0.000000</td>\n",
       "      <td>0.000000</td>\n",
       "      <td>0.000000</td>\n",
       "      <td>0.000000</td>\n",
       "      <td>0.0</td>\n",
       "      <td>0.000000</td>\n",
       "      <td>0.021329</td>\n",
       "      <td>0.000000</td>\n",
       "      <td>0.059925</td>\n",
       "      <td>0.000000</td>\n",
       "    </tr>\n",
       "    <tr>\n",
       "      <th>29</th>\n",
       "      <td>0.023951</td>\n",
       "      <td>0.000000</td>\n",
       "      <td>0.0</td>\n",
       "      <td>0.000000</td>\n",
       "      <td>0.000000</td>\n",
       "      <td>0.000000</td>\n",
       "      <td>0.000000</td>\n",
       "      <td>0.022022</td>\n",
       "      <td>0.000000</td>\n",
       "      <td>0.000000</td>\n",
       "      <td>...</td>\n",
       "      <td>0.000000</td>\n",
       "      <td>0.000000</td>\n",
       "      <td>0.022022</td>\n",
       "      <td>0.000000</td>\n",
       "      <td>0.0</td>\n",
       "      <td>0.000000</td>\n",
       "      <td>0.000000</td>\n",
       "      <td>0.000000</td>\n",
       "      <td>0.000000</td>\n",
       "      <td>0.029602</td>\n",
       "    </tr>\n",
       "    <tr>\n",
       "      <th>14</th>\n",
       "      <td>0.000000</td>\n",
       "      <td>0.000000</td>\n",
       "      <td>0.0</td>\n",
       "      <td>0.000000</td>\n",
       "      <td>0.000000</td>\n",
       "      <td>0.000000</td>\n",
       "      <td>0.000000</td>\n",
       "      <td>0.000000</td>\n",
       "      <td>0.000000</td>\n",
       "      <td>0.000000</td>\n",
       "      <td>...</td>\n",
       "      <td>0.000000</td>\n",
       "      <td>0.000000</td>\n",
       "      <td>0.000000</td>\n",
       "      <td>0.000000</td>\n",
       "      <td>0.0</td>\n",
       "      <td>0.044757</td>\n",
       "      <td>0.025775</td>\n",
       "      <td>0.000000</td>\n",
       "      <td>0.024139</td>\n",
       "      <td>0.000000</td>\n",
       "    </tr>\n",
       "    <tr>\n",
       "      <th>3</th>\n",
       "      <td>0.015332</td>\n",
       "      <td>0.017827</td>\n",
       "      <td>0.0</td>\n",
       "      <td>0.000000</td>\n",
       "      <td>0.000000</td>\n",
       "      <td>0.016056</td>\n",
       "      <td>0.016878</td>\n",
       "      <td>0.000000</td>\n",
       "      <td>0.000000</td>\n",
       "      <td>0.000000</td>\n",
       "      <td>...</td>\n",
       "      <td>0.000000</td>\n",
       "      <td>0.000000</td>\n",
       "      <td>0.000000</td>\n",
       "      <td>0.017827</td>\n",
       "      <td>0.0</td>\n",
       "      <td>0.000000</td>\n",
       "      <td>0.030105</td>\n",
       "      <td>0.030663</td>\n",
       "      <td>0.000000</td>\n",
       "      <td>0.000000</td>\n",
       "    </tr>\n",
       "    <tr>\n",
       "      <th>20</th>\n",
       "      <td>0.000000</td>\n",
       "      <td>0.014353</td>\n",
       "      <td>0.0</td>\n",
       "      <td>0.000000</td>\n",
       "      <td>0.000000</td>\n",
       "      <td>0.012928</td>\n",
       "      <td>0.000000</td>\n",
       "      <td>0.011350</td>\n",
       "      <td>0.012345</td>\n",
       "      <td>0.000000</td>\n",
       "      <td>...</td>\n",
       "      <td>0.015257</td>\n",
       "      <td>0.049379</td>\n",
       "      <td>0.000000</td>\n",
       "      <td>0.000000</td>\n",
       "      <td>0.0</td>\n",
       "      <td>0.000000</td>\n",
       "      <td>0.030300</td>\n",
       "      <td>0.012345</td>\n",
       "      <td>0.000000</td>\n",
       "      <td>0.000000</td>\n",
       "    </tr>\n",
       "  </tbody>\n",
       "</table>\n",
       "<p>10 rows × 3554 columns</p>\n",
       "</div>"
      ],
      "text/plain": [
       "    abandoned     abbot  abhor      able     abode    abrupt  abruptly  \\\n",
       "2    0.000000  0.223885    0.0  0.015934  0.000000  0.000000  0.000000   \n",
       "33   0.000000  0.000000    0.0  0.000000  0.013861  0.000000  0.000000   \n",
       "9    0.020869  0.000000    0.0  0.000000  0.000000  0.000000  0.000000   \n",
       "12   0.000000  0.000000    0.0  0.016135  0.000000  0.022689  0.023851   \n",
       "35   0.000000  0.000000    0.0  0.018014  0.000000  0.000000  0.000000   \n",
       "11   0.000000  0.000000    0.0  0.000000  0.000000  0.000000  0.000000   \n",
       "29   0.023951  0.000000    0.0  0.000000  0.000000  0.000000  0.000000   \n",
       "14   0.000000  0.000000    0.0  0.000000  0.000000  0.000000  0.000000   \n",
       "3    0.015332  0.017827    0.0  0.000000  0.000000  0.016056  0.016878   \n",
       "20   0.000000  0.014353    0.0  0.000000  0.000000  0.012928  0.000000   \n",
       "\n",
       "     absence    absent  absolute  ...    yellow  yesterday     yield  \\\n",
       "2   0.000000  0.000000  0.000000  ...  0.000000   0.021395  0.000000   \n",
       "33  0.000000  0.025182  0.014640  ...  0.015561   0.012591  0.000000   \n",
       "9   0.019188  0.000000  0.000000  ...  0.000000   0.000000  0.000000   \n",
       "12  0.000000  0.000000  0.000000  ...  0.000000   0.000000  0.019920   \n",
       "35  0.022240  0.024188  0.000000  ...  0.000000   0.000000  0.000000   \n",
       "11  0.000000  0.000000  0.050519  ...  0.000000   0.000000  0.000000   \n",
       "29  0.022022  0.000000  0.000000  ...  0.000000   0.000000  0.022022   \n",
       "14  0.000000  0.000000  0.000000  ...  0.000000   0.000000  0.000000   \n",
       "3   0.000000  0.000000  0.000000  ...  0.000000   0.000000  0.000000   \n",
       "20  0.011350  0.012345  0.000000  ...  0.015257   0.049379  0.000000   \n",
       "\n",
       "     yielded  yielding    yonder     young   younger     youth      zeal  \n",
       "2   0.000000       0.0  0.000000  0.031508  0.000000  0.000000  0.000000  \n",
       "33  0.000000       0.0  0.010733  0.006181  0.000000  0.000000  0.000000  \n",
       "9   0.000000       0.0  0.000000  0.061467  0.000000  0.000000  0.025792  \n",
       "12  0.000000       0.0  0.000000  0.000000  0.000000  0.000000  0.000000  \n",
       "35  0.000000       0.0  0.000000  0.011874  0.000000  0.000000  0.000000  \n",
       "11  0.000000       0.0  0.000000  0.021329  0.000000  0.059925  0.000000  \n",
       "29  0.000000       0.0  0.000000  0.000000  0.000000  0.000000  0.029602  \n",
       "14  0.000000       0.0  0.044757  0.025775  0.000000  0.024139  0.000000  \n",
       "3   0.017827       0.0  0.000000  0.030105  0.030663  0.000000  0.000000  \n",
       "20  0.000000       0.0  0.000000  0.030300  0.012345  0.000000  0.000000  \n",
       "\n",
       "[10 rows x 3554 columns]"
      ]
     },
     "execution_count": 8,
     "metadata": {},
     "output_type": "execute_result"
    }
   ],
   "source": [
    "tc = TfidfVectorizer(lowercase=True, \n",
    "                     stop_words=stopwords,\n",
    "                     ngram_range=(1,1),\n",
    "                     max_df=0.9,\n",
    "                     min_df=0.1)\n",
    "\n",
    "tc_vectors = tc.fit_transform(no_punct_chs)\n",
    "\n",
    "\n",
    "tfidf_vect_df = pd.DataFrame(data=tc_vectors.toarray(), columns=tc.get_feature_names_out())\n",
    "tfidf_vect_df.sample(10)"
   ]
  },
  {
   "cell_type": "code",
   "execution_count": 9,
   "metadata": {},
   "outputs": [
    {
     "data": {
      "text/plain": [
       "rochester     0.098255\n",
       "sir           0.083484\n",
       "jane          0.076760\n",
       "miss          0.071965\n",
       "mrs           0.063024\n",
       "bessie        0.061775\n",
       "john          0.053590\n",
       "night         0.049863\n",
       "st            0.049849\n",
       "reed          0.045836\n",
       "adèle         0.044635\n",
       "fairfax       0.042135\n",
       "helen         0.040965\n",
       "door          0.038572\n",
       "love          0.035887\n",
       "diana         0.035241\n",
       "ingram        0.034521\n",
       "mary          0.034106\n",
       "thornfield    0.033536\n",
       "eyre          0.033109\n",
       "dtype: float64"
      ]
     },
     "execution_count": 9,
     "metadata": {},
     "output_type": "execute_result"
    }
   ],
   "source": [
    "tfidf_vect_df.mean(axis=0).sort_values(ascending=False).head(20)"
   ]
  },
  {
   "cell_type": "markdown",
   "metadata": {},
   "source": [
    "## Mini-project 2: Classification (1:15) - Lorin\n",
    "\n",
    "#### Data: [On the Books Laws](https://cdr.lib.unc.edu/collections/f4752p47h?locale=en)\n",
    "#### Tools: Scitkit-learn, Pandas, \n",
    "#### Methods: Supervised (Jim Crow vs. Non-Jim Crow) vs Unsupervised (Topic-modeling)\n",
    "#### Helpful: [Comparing classifiers](https://scikit-learn.org/stable/auto_examples/classification/plot_classifier_comparison.html)\n"
   ]
  },
  {
   "cell_type": "markdown",
   "metadata": {},
   "source": [
    "Classification allows us to separate documents into different groups depending on the language used in the text. Often, classification uses machine learning techniques. Two common types of machine learning are **supervised and unsupervised**."
   ]
  },
  {
   "cell_type": "markdown",
   "metadata": {},
   "source": [
    "### About the Data\n",
    "\n",
    "This data comes from [On the Books: Jim Crow and Algorithms of Resistance](https://onthebooks.lib.unc.edu/), a text analysis project that discovered Jim Crow and racially-based legislation signed into law in North Carolina between 1866 and 1967. It uses supervised and unsupervised classification techniques to identify laws with race-based language and the type of legislation covered by those laws."
   ]
  },
  {
   "cell_type": "markdown",
   "metadata": {},
   "source": [
    "### Supervised Classification"
   ]
  },
  {
   "cell_type": "markdown",
   "metadata": {},
   "source": [
    "### Create Testing & Training Sets"
   ]
  },
  {
   "cell_type": "markdown",
   "metadata": {},
   "source": [
    "Bring in labeled training set"
   ]
  },
  {
   "cell_type": "code",
   "execution_count": 10,
   "metadata": {},
   "outputs": [
    {
     "name": "stdout",
     "output_type": "stream",
     "text": [
      "<class 'pandas.core.frame.DataFrame'>\n",
      "RangeIndex: 1785 entries, 0 to 1784\n",
      "Data columns (total 12 columns):\n",
      " #   Column                  Non-Null Count  Dtype \n",
      "---  ------                  --------------  ----- \n",
      " 0   id                      1785 non-null   object\n",
      " 1   source                  1785 non-null   object\n",
      " 2   jim_crow                1785 non-null   int64 \n",
      " 3   chapter_num             1785 non-null   int64 \n",
      " 4   section_num             1785 non-null   int64 \n",
      " 5   chapter_text            1785 non-null   object\n",
      " 6   section_text            1785 non-null   object\n",
      " 7   year                    1785 non-null   int64 \n",
      " 8   type_private laws       1785 non-null   int64 \n",
      " 9   type_public laws        1785 non-null   int64 \n",
      " 10  type_public local laws  1785 non-null   int64 \n",
      " 11  type_session laws       1785 non-null   int64 \n",
      "dtypes: int64(8), object(4)\n",
      "memory usage: 167.5+ KB\n"
     ]
    }
   ],
   "source": [
    "import pandas as pd\n",
    "\n",
    "df = pd.read_csv(\"datasets/otb_training_set.csv\")\n",
    "df.info()"
   ]
  },
  {
   "cell_type": "markdown",
   "metadata": {},
   "source": [
    "Includes 512 examples of Jim Crow laws and 1273 non Jim Crow laws."
   ]
  },
  {
   "cell_type": "code",
   "execution_count": 11,
   "metadata": {},
   "outputs": [
    {
     "data": {
      "text/plain": [
       "0    1273\n",
       "1     512\n",
       "Name: jim_crow, dtype: int64"
      ]
     },
     "execution_count": 11,
     "metadata": {},
     "output_type": "execute_result"
    }
   ],
   "source": [
    "df.jim_crow.value_counts()"
   ]
  },
  {
   "cell_type": "markdown",
   "metadata": {},
   "source": [
    "Laws were labeled as Jim Crow or Not Jim Crow according to scholarly works (Pauli Murray, Richard Paschal) and experts at UNC (William Sturkey, among others)"
   ]
  },
  {
   "cell_type": "code",
   "execution_count": 12,
   "metadata": {},
   "outputs": [
    {
     "data": {
      "text/plain": [
       "project experts    1673\n",
       "paschal              74\n",
       "murray               38\n",
       "Name: source, dtype: int64"
      ]
     },
     "execution_count": 12,
     "metadata": {},
     "output_type": "execute_result"
    }
   ],
   "source": [
    "df.source.value_counts()"
   ]
  },
  {
   "cell_type": "markdown",
   "metadata": {},
   "source": [
    "We need to pick a target for our classification, aka the \"output\"."
   ]
  },
  {
   "cell_type": "code",
   "execution_count": 13,
   "metadata": {},
   "outputs": [],
   "source": [
    "target = df[\"jim_crow\"]"
   ]
  },
  {
   "cell_type": "markdown",
   "metadata": {},
   "source": [
    "What features do we want to train the models on? They will be our \"inputs\"."
   ]
  },
  {
   "cell_type": "code",
   "execution_count": 14,
   "metadata": {},
   "outputs": [
    {
     "name": "stdout",
     "output_type": "stream",
     "text": [
      "<class 'pandas.core.frame.DataFrame'>\n",
      "RangeIndex: 1785 entries, 0 to 1784\n",
      "Data columns (total 6 columns):\n",
      " #   Column                  Non-Null Count  Dtype \n",
      "---  ------                  --------------  ----- \n",
      " 0   section_text            1785 non-null   object\n",
      " 1   year                    1785 non-null   int64 \n",
      " 2   type_private laws       1785 non-null   int64 \n",
      " 3   type_public laws        1785 non-null   int64 \n",
      " 4   type_public local laws  1785 non-null   int64 \n",
      " 5   type_session laws       1785 non-null   int64 \n",
      "dtypes: int64(5), object(1)\n",
      "memory usage: 83.8+ KB\n"
     ]
    }
   ],
   "source": [
    "features = df.loc[:, \"section_text\" : \"type_session laws\"]\n",
    "features.info()"
   ]
  },
  {
   "cell_type": "markdown",
   "metadata": {},
   "source": [
    "Use train-test-split to separate data into training and testing sets. 80% will be training, 20% will be testing - set by test_size = 0.2.  Data is chosen for the different sets at random, so random_state allows us all to get the same results. X_train and X_test include the inputs. y_train and y_test include the output."
   ]
  },
  {
   "cell_type": "code",
   "execution_count": 29,
   "metadata": {},
   "outputs": [],
   "source": [
    "import numpy as np\n",
    "from sklearn.model_selection import train_test_split\n",
    "\n",
    "X_train, X_test, y_train, y_test = train_test_split(features, target, test_size = 0.2, random_state = 25)"
   ]
  },
  {
   "cell_type": "markdown",
   "metadata": {},
   "source": [
    "### Vectorize the text"
   ]
  },
  {
   "cell_type": "markdown",
   "metadata": {},
   "source": [
    "As above, we need to find word frequencies"
   ]
  },
  {
   "cell_type": "code",
   "execution_count": 24,
   "metadata": {},
   "outputs": [],
   "source": [
    "from sklearn.feature_extraction.text import CountVectorizer\n",
    "vec = CountVectorizer(decode_error = \"ignore\", min_df = 2, max_df = 1000)"
   ]
  },
  {
   "cell_type": "markdown",
   "metadata": {},
   "source": [
    "In this case, we've chosen to ingore errors when it comes to characters with the wrong encoding. Additionally, we are not including any words that are too rarely used in the text (less than two times) or too often used (more than 1000 times).\n",
    "\n",
    "Below, the vectorization is applied."
   ]
  },
  {
   "cell_type": "code",
   "execution_count": 30,
   "metadata": {},
   "outputs": [],
   "source": [
    "X_train = vec.fit_transform(X_train.section_text)\n",
    "X_test = vec.transform(X_test.section_text)"
   ]
  },
  {
   "cell_type": "markdown",
   "metadata": {},
   "source": [
    "Now we need to decide on a machine learning classification model. In this case, we are using multinomial Naive Bayes which comes with sklearn."
   ]
  },
  {
   "cell_type": "code",
   "execution_count": 32,
   "metadata": {},
   "outputs": [
    {
     "data": {
      "text/plain": [
       "MultinomialNB()"
      ]
     },
     "execution_count": 32,
     "metadata": {},
     "output_type": "execute_result"
    }
   ],
   "source": [
    "from sklearn.naive_bayes import MultinomialNB\n",
    "\n",
    "\n",
    "nb = MultinomialNB()\n",
    "nb.fit(X_train, y_train)\n",
    "\n"
   ]
  },
  {
   "cell_type": "markdown",
   "metadata": {},
   "source": [
    "Now that we've trained the model on our data, let's use it on the testing set and see how well it did."
   ]
  },
  {
   "cell_type": "code",
   "execution_count": 34,
   "metadata": {},
   "outputs": [
    {
     "name": "stdout",
     "output_type": "stream",
     "text": [
      "              precision    recall  f1-score   support\n",
      "\n",
      "           0       0.97      0.86      0.92       265\n",
      "           1       0.70      0.93      0.80        92\n",
      "\n",
      "    accuracy                           0.88       357\n",
      "   macro avg       0.84      0.90      0.86       357\n",
      "weighted avg       0.91      0.88      0.89       357\n",
      "\n"
     ]
    }
   ],
   "source": [
    "from sklearn.metrics import confusion_matrix, classification_report\n",
    "\n",
    "preds = nb.predict(X_test)\n",
    "print(classification_report(y_test, preds))"
   ]
  },
  {
   "cell_type": "code",
   "execution_count": 37,
   "metadata": {},
   "outputs": [
    {
     "data": {
      "image/png": "[encoded data removed]",
      "text/plain": [
       "<Figure size 640x480 with 2 Axes>"
      ]
     },
     "metadata": {},
     "output_type": "display_data"
    }
   ],
   "source": [
    "import seaborn as sns\n",
    "\n",
    "# count the number of labels\n",
    "labels = np.unique(preds)\n",
    "\n",
    "data = confusion_matrix(y_test, preds)\n",
    "df_cm = pd.DataFrame(data, columns=np.unique(y_test), index = np.unique(y_test))\n",
    "df_cm.index.name = 'Actual'\n",
    "df_cm.columns.name = 'Predicted'\n",
    "\n",
    "# use sns.heatmap on top of confusion_matrix to show the confusion matrix\n",
    "ax = sns.heatmap(df_cm,xticklabels=True, annot=True, fmt='.0f')"
   ]
  },
  {
   "cell_type": "markdown",
   "metadata": {},
   "source": [
    "We remove stopwords, tokenize the text, lemmatize"
   ]
  },
  {
   "cell_type": "markdown",
   "metadata": {},
   "source": []
  },
  {
   "cell_type": "markdown",
   "metadata": {},
   "source": [
    "## Mini-project 3: Sentiment Analysis (1:35) - Rolando\n",
    "\n",
    "#### Data: [Chaptgpt Sentiment Analysis](https://www.kaggle.com/datasets/charunisa/chatgpt-sentiment-analysis)\n",
    "#### Tools: Textblob, NLTK, spaCy, Transformers\n",
    "#### Methods: Dictionary (+ rule-based) vs. Transformer-based approach"
   ]
  }
 ],
 "metadata": {
  "kernelspec": {
   "display_name": "base",
   "language": "python",
   "name": "python3"
  },
  "language_info": {
   "codemirror_mode": {
    "name": "ipython",
    "version": 3
   },
   "file_extension": ".py",
   "mimetype": "text/x-python",
   "name": "python",
   "nbconvert_exporter": "python",
   "pygments_lexer": "ipython3",
   "version": "3.8.13"
  }
 },
 "nbformat": 4,
 "nbformat_minor": 2
}
